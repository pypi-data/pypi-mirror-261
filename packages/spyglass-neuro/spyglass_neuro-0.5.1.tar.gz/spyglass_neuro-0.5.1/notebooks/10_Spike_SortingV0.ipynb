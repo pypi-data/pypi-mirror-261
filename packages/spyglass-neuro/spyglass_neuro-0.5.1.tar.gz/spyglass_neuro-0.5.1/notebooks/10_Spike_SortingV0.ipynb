{
 "cells": [
  {
   "cell_type": "markdown",
   "metadata": {},
   "source": [
    "# Spike Sorting\n"
   ]
  },
  {
   "cell_type": "markdown",
   "metadata": {},
   "source": [
    "## Overview\n"
   ]
  },
  {
   "cell_type": "markdown",
   "metadata": {},
   "source": [
    "_Developer Note:_ if you may make a PR in the future, be sure to copy this\n",
    "notebook, and use the `gitignore` prefix `temp` to avoid future conflicts.\n",
    "\n",
    "This is one notebook in a multi-part series on Spyglass.\n",
    "\n",
    "- To set up your Spyglass environment and database, see\n",
    "  [the Setup notebook](./00_Setup.ipynb)\n",
    "- For additional info on DataJoint syntax, including table definitions and\n",
    "  inserts, see\n",
    "  [the Insert Data notebook](./01_Insert_Data.ipynb)\n"
   ]
  },
  {
   "cell_type": "markdown",
   "metadata": {},
   "source": [
    "### [Extract the recording](#section1)<br>\n",
    "\n",
    "1. Specifying your [NWB](#Specifying-your-NWB-filename) file.<br>\n",
    "2. Specifying which electrodes involved in the recording to sort data from. - [`SortGroup`](#SortGroup)<br>\n",
    "3. Specifying the time segment of the recording we want to sort. - [`IntervalList`](#IntervalList), [`SortInterval`](#SortInterval)<br>\n",
    "4. Specifying the parameters to use for filtering the recording. - [`SpikeSortingPreprocessingParameters`](#SpikeSortingPreprocessingParameters)<br>\n",
    "5. Combining these parameters. - [`SpikeSortingRecordingSelection`](#SpikeSortingRecordingSelection)<br>\n",
    "6. Extracting the recording. - [`SpikeSortingRecording`](#SpikeSortingRecording)<br>\n",
    "7. Specifying the parameters to apply for artifact detection/removal. -[`ArtifactDetectionParameters`](#ArtifactDetectionParameters)<br>\n",
    "\n",
    "### [Spike sorting the recording](#section2)<br>\n",
    "\n",
    "1. Specify the spike sorter and parameters to use. - [`SpikeSorterParameters`](#SpikeSorterParameters)<br>\n",
    "2. Combine these parameters. - [`SpikeSortingSelection`](#SpikeSortingSelection)<br>\n",
    "3. Spike sort the extracted recording according to chose parameter set. - [`SpikeSorting`](#SpikeSorting)<br>\n",
    "\n",
    "<a href='#section1'></a>\n",
    "<a href='#section2'></a>\n"
   ]
  },
  {
   "cell_type": "markdown",
   "metadata": {},
   "source": [
    "## Imports\n",
    "\n",
    "Let's start by importing tables from Spyglass and quieting warnings caused by\n",
    "some dependencies.\n",
    "\n",
    "_Note:_ It the imports below throw a `FileNotFoundError`, make a cell with `!env | grep X` where X is part of the problematic directory. This will show the variable causing issues. Make another cell that sets this variable elsewhere with `%env VAR=\"/your/path/\"`\n"
   ]
  },
  {
   "cell_type": "code",
   "execution_count": 13,
   "metadata": {
    "tags": []
   },
   "outputs": [],
   "source": [
    "import os\n",
    "import datajoint as dj\n",
    "import numpy as np\n",
    "\n",
    "# change to the upper level folder to detect dj_local_conf.json\n",
    "if os.path.basename(os.getcwd()) == \"notebooks\":\n",
    "    os.chdir(\"..\")\n",
    "dj.config.load(\"dj_local_conf.json\")  # load config for database connection info\n",
    "\n",
    "import spyglass.common as sgc\n",
    "import spyglass.spikesorting.v0 as sgs\n",
    "\n",
    "# ignore datajoint+jupyter async warnings\n",
    "import warnings\n",
    "\n",
    "warnings.simplefilter(\"ignore\", category=DeprecationWarning)\n",
    "warnings.simplefilter(\"ignore\", category=ResourceWarning)"
   ]
  },
  {
   "cell_type": "markdown",
   "metadata": {},
   "source": [
    "## Fetch Exercise\n"
   ]
  },
  {
   "cell_type": "markdown",
   "metadata": {},
   "source": [
    "If you haven't already done so, add yourself to `LabTeam`\n"
   ]
  },
  {
   "cell_type": "code",
   "execution_count": 2,
   "metadata": {},
   "outputs": [
    {
     "data": {
      "text/html": [
       "\n",
       "    \n",
       "    <style type=\"text/css\">\n",
       "        .Table{\n",
       "            border-collapse:collapse;\n",
       "        }\n",
       "        .Table th{\n",
       "            background: #A0A0A0; color: #ffffff; padding:4px; border:#f0e0e0 1px solid;\n",
       "            font-weight: normal; font-family: monospace; font-size: 100%;\n",
       "        }\n",
       "        .Table td{\n",
       "            padding:4px; border:#f0e0e0 1px solid; font-size:100%;\n",
       "        }\n",
       "        .Table tr:nth-child(odd){\n",
       "            background: #ffffff;\n",
       "            color: #000000;\n",
       "        }\n",
       "        .Table tr:nth-child(even){\n",
       "            background: #f3f1ff;\n",
       "            color: #000000;\n",
       "        }\n",
       "        /* Tooltip container */\n",
       "        .djtooltip {\n",
       "        }\n",
       "        /* Tooltip text */\n",
       "        .djtooltip .djtooltiptext {\n",
       "            visibility: hidden;\n",
       "            width: 120px;\n",
       "            background-color: black;\n",
       "            color: #fff;\n",
       "            text-align: center;\n",
       "            padding: 5px 0;\n",
       "            border-radius: 6px;\n",
       "            /* Position the tooltip text - see examples below! */\n",
       "            position: absolute;\n",
       "            z-index: 1;\n",
       "        }\n",
       "        #primary {\n",
       "            font-weight: bold;\n",
       "            color: black;\n",
       "        }\n",
       "        #nonprimary {\n",
       "            font-weight: normal;\n",
       "            color: white;\n",
       "        }\n",
       "\n",
       "        /* Show the tooltip text when you mouse over the tooltip container */\n",
       "        .djtooltip:hover .djtooltiptext {\n",
       "            visibility: visible;\n",
       "        }\n",
       "    </style>\n",
       "    \n",
       "    <b>Information about lab member in the context of Frank lab network</b>\n",
       "        <div style=\"max-height:1000px;max-width:1500px;overflow:auto;\">\n",
       "        <table border=\"1\" class=\"Table\">\n",
       "            <thead> <tr style=\"text-align: right;\"> <th> <div class=\"djtooltip\">\n",
       "                            <p id=\"primary\">lab_member_name</p>\n",
       "                            <span class=\"djtooltiptext\"></span>\n",
       "                        </div></th><th><div class=\"djtooltip\">\n",
       "                            <p id=\"nonprimary\">google_user_name</p>\n",
       "                            <span class=\"djtooltiptext\">For permission to curate</span>\n",
       "                        </div></th><th><div class=\"djtooltip\">\n",
       "                            <p id=\"nonprimary\">datajoint_user_name</p>\n",
       "                            <span class=\"djtooltiptext\">For permission to delete</span>\n",
       "                        </div></th><th><div class=\"djtooltip\">\n",
       "                            <p id=\"nonprimary\">admin</p>\n",
       "                            <span class=\"djtooltiptext\">Ignore permission checks</span>\n",
       "                        </div> </th> </tr> </thead>\n",
       "            <tbody> <tr> <td>Firstname Lastname</td>\n",
       "<td>example@gmail.com</td>\n",
       "<td>user</td>\n",
       "<td>0</td> </tr> </tbody>\n",
       "        </table>\n",
       "        \n",
       "        <p>Total: 1</p></div>\n",
       "        "
      ],
      "text/plain": [
       "*lab_member_na google_user_na datajoint_user admin    \n",
       "+------------+ +------------+ +------------+ +-------+\n",
       "Firstname Last example@gmail. user           0        \n",
       " (Total: 1)"
      ]
     },
     "execution_count": 2,
     "metadata": {},
     "output_type": "execute_result"
    }
   ],
   "source": [
    "# Full name, Google email address, DataJoint username, admin\n",
    "name, email, dj_user, admin = (\n",
    "    \"Firstname Lastname\",\n",
    "    \"example@gmail.com\",\n",
    "    \"user\",\n",
    "    0,\n",
    ")\n",
    "sgc.LabMember.insert_from_name(name)\n",
    "sgc.LabMember.LabMemberInfo.insert1(\n",
    "    [\n",
    "        name,\n",
    "        email,\n",
    "        dj_user,\n",
    "        admin,\n",
    "    ],\n",
    "    skip_duplicates=True,\n",
    ")\n",
    "sgc.LabMember.LabMemberInfo()"
   ]
  },
  {
   "cell_type": "markdown",
   "metadata": {},
   "source": [
    "We can try `fetch` to confirm.\n",
    "\n",
    "_Exercise:_ Try to write a fer lines to generate a dictionary with team names as\n",
    "keys and lists of members as values. It may be helpful to add more data with the\n",
    "code above and use `fetch(as_dict=True)`.\n"
   ]
  },
  {
   "cell_type": "code",
   "execution_count": 3,
   "metadata": {},
   "outputs": [],
   "source": [
    "my_team_members = (\n",
    "    (sgc.LabTeam.LabTeamMember & {\"team_name\": \"My Team\"})\n",
    "    .fetch(\"lab_member_name\")\n",
    "    .tolist()\n",
    ")\n",
    "if name in my_team_members:\n",
    "    print(\"You made it in!\")"
   ]
  },
  {
   "cell_type": "markdown",
   "metadata": {},
   "source": [
    "<details>\n",
    "<summary>Code hidden here</summary>\n",
    "\n",
    "```python\n",
    "members = sgc.LabTeam.LabTeamMember.fetch(as_dict=True)\n",
    "teams_dict = {member[\"team_name\"]: [] for member in members}\n",
    "for member in members:\n",
    "    teams_dict[member[\"team_name\"]].append(member[\"lab_member_name\"])\n",
    "print(teams_dict)\n",
    "```\n",
    "</details>"
   ]
  },
  {
   "cell_type": "markdown",
   "metadata": {},
   "source": [
    "## Adding an NWB file\n"
   ]
  },
  {
   "cell_type": "markdown",
   "metadata": {},
   "source": [
    "### Import Data\n"
   ]
  },
  {
   "cell_type": "markdown",
   "metadata": {},
   "source": [
    "If you haven't already, load an NWB file. For more details on downloading and\n",
    "importing data, see [this notebook](./01_Insert_Data.ipynb).\n"
   ]
  },
  {
   "cell_type": "code",
   "execution_count": 16,
   "metadata": {},
   "outputs": [
    {
     "name": "stderr",
     "output_type": "stream",
     "text": [
     ]
    }
   ],
   "source": [
    "import spyglass.data_import as sdi\n",
    "\n",
    "sdi.insert_sessions(\"minirec20230622.nwb\")\n",
    "nwb_file_name = \"minirec20230622_.nwb\""
   ]
  },
  {
   "cell_type": "markdown",
   "metadata": {},
   "source": [
    "### Extracting the recording\n"
   ]
  },
  {
   "cell_type": "markdown",
   "metadata": {},
   "source": [
    "#### `SortGroup`\n"
   ]
  },
  {
   "cell_type": "markdown",
   "metadata": {},
   "source": [
    "Each NWB file will have multiple electrodes we can use for spike sorting. We\n",
    "commonly use multiple electrodes in a `SortGroup` selected by what tetrode or\n",
    "shank of a probe they were on.\n",
    "\n",
    "_Note:_ This will delete any existing entries. Answer 'yes' when prompted.\n"
   ]
  },
  {
   "cell_type": "code",
   "execution_count": 17,
   "metadata": {},
   "outputs": [
    {
     "name": "stderr",
     "output_type": "stream",
     "text": [
      "[2023-07-21 13:56:24,232][INFO]: Deleting 128 rows from `spikesorting_recording`.`sort_group__sort_group_electrode`\n",
      "[2023-07-21 13:56:24,234][INFO]: Deleting 4 rows from `spikesorting_recording`.`sort_group`\n"
     ]
    },
    {
     "name": "stderr",
     "output_type": "stream",
     "text": [
      "[2023-07-21 13:56:27,358][INFO]: Deletes committed.\n"
     ]
    }
   ],
   "source": [
    "sgs.SortGroup().set_group_by_shank(nwb_file_name)"
   ]
  },
  {
   "cell_type": "markdown",
   "metadata": {},
   "source": [
    "Each electrode has an `electrode_id` and is associated with an\n",
    "`electrode_group_name`, which corresponds with a `sort_group_id`.\n",
    "\n",
    "For example, data recorded from a 32 tetrode (128 channel) drive results in 128\n",
    "unique `electrode_id`. This could result in 32 unique `electrode_group_name` and\n",
    "32 unique `sort_group_id`.\n"
   ]
  },
  {
   "cell_type": "code",
   "execution_count": 18,
   "metadata": {},
   "outputs": [
    {
     "data": {
      "text/html": [
       "\n",
       "    \n",
       "    <style type=\"text/css\">\n",
       "        .Table{\n",
       "            border-collapse:collapse;\n",
       "        }\n",
       "        .Table th{\n",
       "            background: #A0A0A0; color: #ffffff; padding:4px; border:#f0e0e0 1px solid;\n",
       "            font-weight: normal; font-family: monospace; font-size: 100%;\n",
       "        }\n",
       "        .Table td{\n",
       "            padding:4px; border:#f0e0e0 1px solid; font-size:100%;\n",
       "        }\n",
       "        .Table tr:nth-child(odd){\n",
       "            background: #ffffff;\n",
       "            color: #000000;\n",
       "        }\n",
       "        .Table tr:nth-child(even){\n",
       "            background: #f3f1ff;\n",
       "            color: #000000;\n",
       "        }\n",
       "        /* Tooltip container */\n",
       "        .djtooltip {\n",
       "        }\n",
       "        /* Tooltip text */\n",
       "        .djtooltip .djtooltiptext {\n",
       "            visibility: hidden;\n",
       "            width: 120px;\n",
       "            background-color: black;\n",
       "            color: #fff;\n",
       "            text-align: center;\n",
       "            padding: 5px 0;\n",
       "            border-radius: 6px;\n",
       "            /* Position the tooltip text - see examples below! */\n",
       "            position: absolute;\n",
       "            z-index: 1;\n",
       "        }\n",
       "        #primary {\n",
       "            font-weight: bold;\n",
       "            color: black;\n",
       "        }\n",
       "        #nonprimary {\n",
       "            font-weight: normal;\n",
       "            color: white;\n",
       "        }\n",
       "\n",
       "        /* Show the tooltip text when you mouse over the tooltip container */\n",
       "        .djtooltip:hover .djtooltiptext {\n",
       "            visibility: visible;\n",
       "        }\n",
       "    </style>\n",
       "    \n",
       "    <b></b>\n",
       "        <div style=\"max-height:1000px;max-width:1500px;overflow:auto;\">\n",
       "        <table border=\"1\" class=\"Table\">\n",
       "            <thead> <tr style=\"text-align: right;\"> <th> <div class=\"djtooltip\">\n",
       "                            <p id=\"primary\">nwb_file_name</p>\n",
       "                            <span class=\"djtooltiptext\">name of the NWB file</span>\n",
       "                        </div></th><th><div class=\"djtooltip\">\n",
       "                            <p id=\"primary\">sort_group_id</p>\n",
       "                            <span class=\"djtooltiptext\">identifier for a group of electrodes</span>\n",
       "                        </div></th><th><div class=\"djtooltip\">\n",
       "                            <p id=\"primary\">electrode_group_name</p>\n",
       "                            <span class=\"djtooltiptext\">electrode group name from NWBFile</span>\n",
       "                        </div></th><th><div class=\"djtooltip\">\n",
       "                            <p id=\"primary\">electrode_id</p>\n",
       "                            <span class=\"djtooltiptext\">the unique number for this electrode</span>\n",
       "                        </div> </th> </tr> </thead>\n",
       "            <tbody> <tr> <td>minirec20230622_.nwb</td>\n",
       "<td>0</td>\n",
       "<td>0</td>\n",
       "<td>0</td></tr><tr><td>minirec20230622_.nwb</td>\n",
       "<td>0</td>\n",
       "<td>0</td>\n",
       "<td>1</td></tr><tr><td>minirec20230622_.nwb</td>\n",
       "<td>0</td>\n",
       "<td>0</td>\n",
       "<td>2</td></tr><tr><td>minirec20230622_.nwb</td>\n",
       "<td>0</td>\n",
       "<td>0</td>\n",
       "<td>3</td></tr><tr><td>minirec20230622_.nwb</td>\n",
       "<td>0</td>\n",
       "<td>0</td>\n",
       "<td>4</td></tr><tr><td>minirec20230622_.nwb</td>\n",
       "<td>0</td>\n",
       "<td>0</td>\n",
       "<td>5</td></tr><tr><td>minirec20230622_.nwb</td>\n",
       "<td>0</td>\n",
       "<td>0</td>\n",
       "<td>6</td></tr><tr><td>minirec20230622_.nwb</td>\n",
       "<td>0</td>\n",
       "<td>0</td>\n",
       "<td>7</td></tr><tr><td>minirec20230622_.nwb</td>\n",
       "<td>0</td>\n",
       "<td>0</td>\n",
       "<td>8</td></tr><tr><td>minirec20230622_.nwb</td>\n",
       "<td>0</td>\n",
       "<td>0</td>\n",
       "<td>9</td></tr><tr><td>minirec20230622_.nwb</td>\n",
       "<td>0</td>\n",
       "<td>0</td>\n",
       "<td>10</td></tr><tr><td>minirec20230622_.nwb</td>\n",
       "<td>0</td>\n",
       "<td>0</td>\n",
       "<td>11</td> </tr> </tbody>\n",
       "        </table>\n",
       "        <p>...</p>\n",
       "        <p>Total: 128</p></div>\n",
       "        "
      ],
      "text/plain": [
       "*nwb_file_name *sort_group_id *electrode_gro *electrode_id \n",
       "+------------+ +------------+ +------------+ +------------+\n",
       "minirec2023062 0              0              0             \n",
       "minirec2023062 0              0              1             \n",
       "minirec2023062 0              0              2             \n",
       "minirec2023062 0              0              3             \n",
       "minirec2023062 0              0              4             \n",
       "minirec2023062 0              0              5             \n",
       "minirec2023062 0              0              6             \n",
       "minirec2023062 0              0              7             \n",
       "minirec2023062 0              0              8             \n",
       "minirec2023062 0              0              9             \n",
       "minirec2023062 0              0              10            \n",
       "minirec2023062 0              0              11            \n",
       "   ...\n",
       " (Total: 128)"
      ]
     },
     "execution_count": 18,
     "metadata": {},
     "output_type": "execute_result"
    }
   ],
   "source": [
    "sgs.SortGroup.SortGroupElectrode & {\"nwb_file_name\": nwb_file_name}"
   ]
  },
  {
   "cell_type": "markdown",
   "metadata": {
    "tags": []
   },
   "source": [
    "#### `IntervalList`\n",
    "\n",
    "Next, we make a decision about the time interval for our spike sorting using\n",
    "`IntervalList`.\n"
   ]
  },
  {
   "cell_type": "code",
   "execution_count": 19,
   "metadata": {
    "tags": []
   },
   "outputs": [
    {
     "data": {
      "text/html": [
       "\n",
       "    \n",
       "    <style type=\"text/css\">\n",
       "        .Table{\n",
       "            border-collapse:collapse;\n",
       "        }\n",
       "        .Table th{\n",
       "            background: #A0A0A0; color: #ffffff; padding:4px; border:#f0e0e0 1px solid;\n",
       "            font-weight: normal; font-family: monospace; font-size: 100%;\n",
       "        }\n",
       "        .Table td{\n",
       "            padding:4px; border:#f0e0e0 1px solid; font-size:100%;\n",
       "        }\n",
       "        .Table tr:nth-child(odd){\n",
       "            background: #ffffff;\n",
       "            color: #000000;\n",
       "        }\n",
       "        .Table tr:nth-child(even){\n",
       "            background: #f3f1ff;\n",
       "            color: #000000;\n",
       "        }\n",
       "        /* Tooltip container */\n",
       "        .djtooltip {\n",
       "        }\n",
       "        /* Tooltip text */\n",
       "        .djtooltip .djtooltiptext {\n",
       "            visibility: hidden;\n",
       "            width: 120px;\n",
       "            background-color: black;\n",
       "            color: #fff;\n",
       "            text-align: center;\n",
       "            padding: 5px 0;\n",
       "            border-radius: 6px;\n",
       "            /* Position the tooltip text - see examples below! */\n",
       "            position: absolute;\n",
       "            z-index: 1;\n",
       "        }\n",
       "        #primary {\n",
       "            font-weight: bold;\n",
       "            color: black;\n",
       "        }\n",
       "        #nonprimary {\n",
       "            font-weight: normal;\n",
       "            color: white;\n",
       "        }\n",
       "\n",
       "        /* Show the tooltip text when you mouse over the tooltip container */\n",
       "        .djtooltip:hover .djtooltiptext {\n",
       "            visibility: visible;\n",
       "        }\n",
       "    </style>\n",
       "    \n",
       "    <b>Time intervals used for analysis</b>\n",
       "        <div style=\"max-height:1000px;max-width:1500px;overflow:auto;\">\n",
       "        <table border=\"1\" class=\"Table\">\n",
       "            <thead> <tr style=\"text-align: right;\"> <th> <div class=\"djtooltip\">\n",
       "                            <p id=\"primary\">nwb_file_name</p>\n",
       "                            <span class=\"djtooltiptext\">name of the NWB file</span>\n",
       "                        </div></th><th><div class=\"djtooltip\">\n",
       "                            <p id=\"primary\">interval_list_name</p>\n",
       "                            <span class=\"djtooltiptext\">descriptive name of this interval list</span>\n",
       "                        </div></th><th><div class=\"djtooltip\">\n",
       "                            <p id=\"nonprimary\">valid_times</p>\n",
       "                            <span class=\"djtooltiptext\">numpy array with start and end times for each interval</span>\n",
       "                        </div> </th> </tr> </thead>\n",
       "            <tbody> <tr> <td>minirec20230622_.nwb</td>\n",
       "<td>01_s1</td>\n",
       "<td>=BLOB=</td></tr><tr><td>minirec20230622_.nwb</td>\n",
       "<td>02_s2</td>\n",
       "<td>=BLOB=</td></tr><tr><td>minirec20230622_.nwb</td>\n",
       "<td>pos 0 valid times</td>\n",
       "<td>=BLOB=</td></tr><tr><td>minirec20230622_.nwb</td>\n",
       "<td>pos 1 valid times</td>\n",
       "<td>=BLOB=</td></tr><tr><td>minirec20230622_.nwb</td>\n",
       "<td>pos 2 valid times</td>\n",
       "<td>=BLOB=</td></tr><tr><td>minirec20230622_.nwb</td>\n",
       "<td>pos 3 valid times</td>\n",
       "<td>=BLOB=</td></tr><tr><td>minirec20230622_.nwb</td>\n",
       "<td>raw data valid times</td>\n",
       "<td>=BLOB=</td> </tr> </tbody>\n",
       "        </table>\n",
       "        \n",
       "        <p>Total: 7</p></div>\n",
       "        "
      ],
      "text/plain": [
       "*nwb_file_name *interval_list valid_time\n",
       "+------------+ +------------+ +--------+\n",
       "minirec2023062 01_s1          =BLOB=    \n",
       "minirec2023062 02_s2          =BLOB=    \n",
       "minirec2023062 pos 0 valid ti =BLOB=    \n",
       "minirec2023062 pos 1 valid ti =BLOB=    \n",
       "minirec2023062 pos 2 valid ti =BLOB=    \n",
       "minirec2023062 pos 3 valid ti =BLOB=    \n",
       "minirec2023062 raw data valid =BLOB=    \n",
       " (Total: 7)"
      ]
     },
     "execution_count": 19,
     "metadata": {},
     "output_type": "execute_result"
    }
   ],
   "source": [
    "sgc.IntervalList & {\"nwb_file_name\": nwb_file_name}"
   ]
  },
  {
   "cell_type": "markdown",
   "metadata": {},
   "source": [
    "Let's start with the first run interval (`01_s1`) and fetch corresponding `valid_times`. For the `minirec` example, this is relatively short.\n"
   ]
  },
  {
   "cell_type": "code",
   "execution_count": 20,
   "metadata": {},
   "outputs": [
    {
     "name": "stdout",
     "output_type": "stream",
     "text": [
      "This interval list is 10 seconds long\n"
     ]
    }
   ],
   "source": [
    "interval_list_name = \"01_s1\"\n",
    "interval_list = (\n",
    "    sgc.IntervalList\n",
    "    & {\"nwb_file_name\": nwb_file_name, \"interval_list_name\": interval_list_name}\n",
    ").fetch1(\"valid_times\")[0]\n",
    "\n",
    "\n",
    "def print_interval_duration(interval_list: np.ndarray):\n",
    "    duration = np.round((interval_list[1] - interval_list[0]))\n",
    "    print(f\"This interval list is {duration:g} seconds long\")\n",
    "\n",
    "\n",
    "print_interval_duration(interval_list)"
   ]
  },
  {
   "cell_type": "markdown",
   "metadata": {},
   "source": [
    "#### `SortInterval`\n",
    "\n",
    "For longer recordings, Spyglass subsets this interval with `SortInterval`.\n",
    "Below, we select the first `n` seconds of this interval.\n"
   ]
  },
  {
   "cell_type": "code",
   "execution_count": 21,
   "metadata": {},
   "outputs": [],
   "source": [
    "n = 9\n",
    "sort_interval_name = interval_list_name + f\"_first{n}\"\n",
    "sort_interval = np.array([interval_list[0], interval_list[0] + n])"
   ]
  },
  {
   "cell_type": "markdown",
   "metadata": {},
   "source": [
    "With the above, we can insert into `SortInterval`\n"
   ]
  },
  {
   "cell_type": "code",
   "execution_count": 22,
   "metadata": {},
   "outputs": [],
   "source": [
    "sgs.SortInterval.insert1(\n",
    "    {\n",
    "        \"nwb_file_name\": nwb_file_name,\n",
    "        \"sort_interval_name\": sort_interval_name,\n",
    "        \"sort_interval\": sort_interval,\n",
    "    },\n",
    "    skip_duplicates=True,\n",
    ")"
   ]
  },
  {
   "cell_type": "markdown",
   "metadata": {},
   "source": [
    "And verify the entry\n"
   ]
  },
  {
   "cell_type": "code",
   "execution_count": 23,
   "metadata": {},
   "outputs": [
    {
     "name": "stdout",
     "output_type": "stream",
     "text": [
      "This interval list is 9 seconds long\n"
     ]
    }
   ],
   "source": [
    "print_interval_duration(\n",
    "    (\n",
    "        sgs.SortInterval\n",
    "        & {\n",
    "            \"nwb_file_name\": nwb_file_name,\n",
    "            \"sort_interval_name\": sort_interval_name,\n",
    "        }\n",
    "    ).fetch1(\"sort_interval\")\n",
    ")"
   ]
  },
  {
   "cell_type": "markdown",
   "metadata": {},
   "source": [
    "## Preprocessing Parameters\n"
   ]
  },
  {
   "cell_type": "markdown",
   "metadata": {},
   "source": [
    "`SpikeSortingPreprocessingParameters` contains the parameters used to filter the\n",
    "recorded data in the spike band prior to sorting.\n"
   ]
  },
  {
   "cell_type": "code",
   "execution_count": 24,
   "metadata": {},
   "outputs": [
    {
     "data": {
      "text/html": [
       "\n",
       "    \n",
       "    <style type=\"text/css\">\n",
       "        .Table{\n",
       "            border-collapse:collapse;\n",
       "        }\n",
       "        .Table th{\n",
       "            background: #A0A0A0; color: #ffffff; padding:4px; border:#f0e0e0 1px solid;\n",
       "            font-weight: normal; font-family: monospace; font-size: 100%;\n",
       "        }\n",
       "        .Table td{\n",
       "            padding:4px; border:#f0e0e0 1px solid; font-size:100%;\n",
       "        }\n",
       "        .Table tr:nth-child(odd){\n",
       "            background: #ffffff;\n",
       "            color: #000000;\n",
       "        }\n",
       "        .Table tr:nth-child(even){\n",
       "            background: #f3f1ff;\n",
       "            color: #000000;\n",
       "        }\n",
       "        /* Tooltip container */\n",
       "        .djtooltip {\n",
       "        }\n",
       "        /* Tooltip text */\n",
       "        .djtooltip .djtooltiptext {\n",
       "            visibility: hidden;\n",
       "            width: 120px;\n",
       "            background-color: black;\n",
       "            color: #fff;\n",
       "            text-align: center;\n",
       "            padding: 5px 0;\n",
       "            border-radius: 6px;\n",
       "            /* Position the tooltip text - see examples below! */\n",
       "            position: absolute;\n",
       "            z-index: 1;\n",
       "        }\n",
       "        #primary {\n",
       "            font-weight: bold;\n",
       "            color: black;\n",
       "        }\n",
       "        #nonprimary {\n",
       "            font-weight: normal;\n",
       "            color: white;\n",
       "        }\n",
       "\n",
       "        /* Show the tooltip text when you mouse over the tooltip container */\n",
       "        .djtooltip:hover .djtooltiptext {\n",
       "            visibility: visible;\n",
       "        }\n",
       "    </style>\n",
       "    \n",
       "    <b></b>\n",
       "        <div style=\"max-height:1000px;max-width:1500px;overflow:auto;\">\n",
       "        <table border=\"1\" class=\"Table\">\n",
       "            <thead> <tr style=\"text-align: right;\"> <th> <div class=\"djtooltip\">\n",
       "                            <p id=\"primary\">preproc_params_name</p>\n",
       "                            <span class=\"djtooltiptext\"></span>\n",
       "                        </div></th><th><div class=\"djtooltip\">\n",
       "                            <p id=\"nonprimary\">preproc_params</p>\n",
       "                            <span class=\"djtooltiptext\"></span>\n",
       "                        </div> </th> </tr> </thead>\n",
       "            <tbody> <tr> <td>default</td>\n",
       "<td>=BLOB=</td> </tr> </tbody>\n",
       "        </table>\n",
       "        \n",
       "        <p>Total: 1</p></div>\n",
       "        "
      ],
      "text/plain": [
       "*preproc_param preproc_pa\n",
       "+------------+ +--------+\n",
       "default        =BLOB=    \n",
       " (Total: 1)"
      ]
     },
     "execution_count": 24,
     "metadata": {},
     "output_type": "execute_result"
    }
   ],
   "source": [
    "sgs.SpikeSortingPreprocessingParameters()"
   ]
  },
  {
   "cell_type": "markdown",
   "metadata": {},
   "source": [
    "Here, we insert the default parameters and then fetch them.\n"
   ]
  },
  {
   "cell_type": "code",
   "execution_count": 25,
   "metadata": {},
   "outputs": [
    {
     "name": "stdout",
     "output_type": "stream",
     "text": [
      "{'frequency_min': 300, 'frequency_max': 6000, 'margin_ms': 5, 'seed': 0}\n"
     ]
    }
   ],
   "source": [
    "sgs.SpikeSortingPreprocessingParameters().insert_default()\n",
    "preproc_params = (\n",
    "    sgs.SpikeSortingPreprocessingParameters()\n",
    "    & {\"preproc_params_name\": \"default\"}\n",
    ").fetch1(\"preproc_params\")\n",
    "print(preproc_params)"
   ]
  },
  {
   "cell_type": "markdown",
   "metadata": {},
   "source": [
    "Let's adjust the `frequency_min` to 600, the preference for hippocampal data,\n",
    "and insert that into the table as a new set of parameters for hippocampal data.\n"
   ]
  },
  {
   "cell_type": "code",
   "execution_count": 26,
   "metadata": {},
   "outputs": [],
   "source": [
    "preproc_params[\"frequency_min\"] = 600\n",
    "sgs.SpikeSortingPreprocessingParameters().insert1(\n",
    "    {\n",
    "        \"preproc_params_name\": \"default_hippocampus\",\n",
    "        \"preproc_params\": preproc_params,\n",
    "    },\n",
    "    skip_duplicates=True,\n",
    ")"
   ]
  },
  {
   "cell_type": "markdown",
   "metadata": {},
   "source": [
    "## Processing a key\n",
    "\n",
    "_key_ is often used to describe an entry we want to move through the pipeline,\n",
    "and keys are often managed as dictionaries. Here, we'll manage the spike sort\n",
    "recording key, `ssr_key`.\n"
   ]
  },
  {
   "cell_type": "code",
   "execution_count": 33,
   "metadata": {},
   "outputs": [
    {
     "data": {
      "text/plain": [
       "'01_s1'"
      ]
     },
     "execution_count": 33,
     "metadata": {},
     "output_type": "execute_result"
    }
   ],
   "source": [
    "interval_list_name"
   ]
  },
  {
   "cell_type": "code",
   "execution_count": 34,
   "metadata": {},
   "outputs": [],
   "source": [
    "ssr_key = dict(\n",
    "    nwb_file_name=nwb_file_name,\n",
    "    sort_group_id=0,  # See SortGroup\n",
    "    sort_interval_name=sort_interval_name,  # First N seconds above\n",
    "    preproc_params_name=\"default_hippocampus\",  # See preproc_params\n",
    "    interval_list_name=interval_list_name,\n",
    "    team_name=\"My Team\",\n",
    ")"
   ]
  },
  {
   "cell_type": "markdown",
   "metadata": {},
   "source": [
    "### Recording Selection\n",
    "\n",
    "We now insert this key `SpikeSortingRecordingSelection` table to specify what\n",
    "time/tetrode/etc. of the recording we want to extract.\n"
   ]
  },
  {
   "cell_type": "code",
   "execution_count": 35,
   "metadata": {},
   "outputs": [
    {
     "data": {
      "text/html": [
       "\n",
       "    \n",
       "    <style type=\"text/css\">\n",
       "        .Table{\n",
       "            border-collapse:collapse;\n",
       "        }\n",
       "        .Table th{\n",
       "            background: #A0A0A0; color: #ffffff; padding:4px; border:#f0e0e0 1px solid;\n",
       "            font-weight: normal; font-family: monospace; font-size: 100%;\n",
       "        }\n",
       "        .Table td{\n",
       "            padding:4px; border:#f0e0e0 1px solid; font-size:100%;\n",
       "        }\n",
       "        .Table tr:nth-child(odd){\n",
       "            background: #ffffff;\n",
       "            color: #000000;\n",
       "        }\n",
       "        .Table tr:nth-child(even){\n",
       "            background: #f3f1ff;\n",
       "            color: #000000;\n",
       "        }\n",
       "        /* Tooltip container */\n",
       "        .djtooltip {\n",
       "        }\n",
       "        /* Tooltip text */\n",
       "        .djtooltip .djtooltiptext {\n",
       "            visibility: hidden;\n",
       "            width: 120px;\n",
       "            background-color: black;\n",
       "            color: #fff;\n",
       "            text-align: center;\n",
       "            padding: 5px 0;\n",
       "            border-radius: 6px;\n",
       "            /* Position the tooltip text - see examples below! */\n",
       "            position: absolute;\n",
       "            z-index: 1;\n",
       "        }\n",
       "        #primary {\n",
       "            font-weight: bold;\n",
       "            color: black;\n",
       "        }\n",
       "        #nonprimary {\n",
       "            font-weight: normal;\n",
       "            color: white;\n",
       "        }\n",
       "\n",
       "        /* Show the tooltip text when you mouse over the tooltip container */\n",
       "        .djtooltip:hover .djtooltiptext {\n",
       "            visibility: visible;\n",
       "        }\n",
       "    </style>\n",
       "    \n",
       "    <b>Defines recordings to be sorted</b>\n",
       "        <div style=\"max-height:1000px;max-width:1500px;overflow:auto;\">\n",
       "        <table border=\"1\" class=\"Table\">\n",
       "            <thead> <tr style=\"text-align: right;\"> <th> <div class=\"djtooltip\">\n",
       "                            <p id=\"primary\">nwb_file_name</p>\n",
       "                            <span class=\"djtooltiptext\">name of the NWB file</span>\n",
       "                        </div></th><th><div class=\"djtooltip\">\n",
       "                            <p id=\"primary\">sort_group_id</p>\n",
       "                            <span class=\"djtooltiptext\">identifier for a group of electrodes</span>\n",
       "                        </div></th><th><div class=\"djtooltip\">\n",
       "                            <p id=\"primary\">sort_interval_name</p>\n",
       "                            <span class=\"djtooltiptext\">name for this interval</span>\n",
       "                        </div></th><th><div class=\"djtooltip\">\n",
       "                            <p id=\"primary\">preproc_params_name</p>\n",
       "                            <span class=\"djtooltiptext\"></span>\n",
       "                        </div></th><th><div class=\"djtooltip\">\n",
       "                            <p id=\"primary\">team_name</p>\n",
       "                            <span class=\"djtooltiptext\"></span>\n",
       "                        </div></th><th><div class=\"djtooltip\">\n",
       "                            <p id=\"nonprimary\">interval_list_name</p>\n",
       "                            <span class=\"djtooltiptext\">descriptive name of this interval list</span>\n",
       "                        </div> </th> </tr> </thead>\n",
       "            <tbody> <tr> <td>minirec20230622_.nwb</td>\n",
       "<td>0</td>\n",
       "<td>01_s1_first9</td>\n",
       "<td>default_hippocampus</td>\n",
       "<td>My Team</td>\n",
       "<td>01_s1</td> </tr> </tbody>\n",
       "        </table>\n",
       "        \n",
       "        <p>Total: 1</p></div>\n",
       "        "
      ],
      "text/plain": [
       "*nwb_file_name *sort_group_id *sort_interval *preproc_param *team_name    interval_list_\n",
       "+------------+ +------------+ +------------+ +------------+ +-----------+ +------------+\n",
       "minirec2023062 0              01_s1_first9   default_hippoc My Team       01_s1         \n",
       " (Total: 1)"
      ]
     },
     "execution_count": 35,
     "metadata": {},
     "output_type": "execute_result"
    }
   ],
   "source": [
    "sgs.SpikeSortingRecordingSelection.insert1(ssr_key, skip_duplicates=True)\n",
    "sgs.SpikeSortingRecordingSelection() & ssr_key"
   ]
  },
  {
   "cell_type": "markdown",
   "metadata": {},
   "source": [
    "### `SpikeSortingRecording`\n",
    "\n",
    "And now we're ready to extract the recording! The\n",
    "[`populate` command](https://datajoint.com/docs/core/datajoint-python/0.14/compute/populate/)\n",
    "will automatically process data in Computed or Imported\n",
    "[table tiers](https://datajoint.com/docs/core/datajoint-python/0.14/design/tables/tiers/).\n",
    "\n",
    "If we only want to process certain entries, we can grab their primary key with\n",
    "the [`.proj()` command](https://datajoint.com/docs/core/datajoint-python/0.14/query/project/)\n",
    "and use a list of primary keys when calling `populate`.\n"
   ]
  },
  {
   "cell_type": "code",
   "execution_count": null,
   "metadata": {},
   "outputs": [
    {
     "name": "stdout",
     "output_type": "stream",
     "text": [
      "write_binary_recording with n_jobs = 8 and chunk_size = 299593\n"
     ]
    },
    {
     "data": {
      "application/vnd.jupyter.widget-view+json": {
       "model_id": "0b6d4bd70bba4a92bdf77c88d07d4b08",
       "version_major": 2,
       "version_minor": 0
      },
      "text/plain": [
       "write_binary_recording:   0%|          | 0/1 [00:00<?, ?it/s]"
      ]
     },
     "metadata": {},
     "output_type": "display_data"
    }
   ],
   "source": [
    "ssr_pk = (sgs.SpikeSortingRecordingSelection & ssr_key).proj()\n",
    "sgs.SpikeSortingRecording.populate([ssr_pk])"
   ]
  },
  {
   "cell_type": "markdown",
   "metadata": {},
   "source": [
    "Now we can see our recording in the table. _E x c i t i n g !_\n"
   ]
  },
  {
   "cell_type": "code",
   "execution_count": 39,
   "metadata": {},
   "outputs": [
    {
     "data": {
      "text/html": [
       "\n",
       "    \n",
       "    <style type=\"text/css\">\n",
       "        .Table{\n",
       "            border-collapse:collapse;\n",
       "        }\n",
       "        .Table th{\n",
       "            background: #A0A0A0; color: #ffffff; padding:4px; border:#f0e0e0 1px solid;\n",
       "            font-weight: normal; font-family: monospace; font-size: 100%;\n",
       "        }\n",
       "        .Table td{\n",
       "            padding:4px; border:#f0e0e0 1px solid; font-size:100%;\n",
       "        }\n",
       "        .Table tr:nth-child(odd){\n",
       "            background: #ffffff;\n",
       "            color: #000000;\n",
       "        }\n",
       "        .Table tr:nth-child(even){\n",
       "            background: #f3f1ff;\n",
       "            color: #000000;\n",
       "        }\n",
       "        /* Tooltip container */\n",
       "        .djtooltip {\n",
       "        }\n",
       "        /* Tooltip text */\n",
       "        .djtooltip .djtooltiptext {\n",
       "            visibility: hidden;\n",
       "            width: 120px;\n",
       "            background-color: black;\n",
       "            color: #fff;\n",
       "            text-align: center;\n",
       "            padding: 5px 0;\n",
       "            border-radius: 6px;\n",
       "            /* Position the tooltip text - see examples below! */\n",
       "            position: absolute;\n",
       "            z-index: 1;\n",
       "        }\n",
       "        #primary {\n",
       "            font-weight: bold;\n",
       "            color: black;\n",
       "        }\n",
       "        #nonprimary {\n",
       "            font-weight: normal;\n",
       "            color: white;\n",
       "        }\n",
       "\n",
       "        /* Show the tooltip text when you mouse over the tooltip container */\n",
       "        .djtooltip:hover .djtooltiptext {\n",
       "            visibility: visible;\n",
       "        }\n",
       "    </style>\n",
       "    \n",
       "    <b></b>\n",
       "        <div style=\"max-height:1000px;max-width:1500px;overflow:auto;\">\n",
       "        <table border=\"1\" class=\"Table\">\n",
       "            <thead> <tr style=\"text-align: right;\"> <th> <div class=\"djtooltip\">\n",
       "                            <p id=\"primary\">nwb_file_name</p>\n",
       "                            <span class=\"djtooltiptext\">name of the NWB file</span>\n",
       "                        </div></th><th><div class=\"djtooltip\">\n",
       "                            <p id=\"primary\">sort_group_id</p>\n",
       "                            <span class=\"djtooltiptext\">identifier for a group of electrodes</span>\n",
       "                        </div></th><th><div class=\"djtooltip\">\n",
       "                            <p id=\"primary\">sort_interval_name</p>\n",
       "                            <span class=\"djtooltiptext\">name for this interval</span>\n",
       "                        </div></th><th><div class=\"djtooltip\">\n",
       "                            <p id=\"primary\">preproc_params_name</p>\n",
       "                            <span class=\"djtooltiptext\"></span>\n",
       "                        </div></th><th><div class=\"djtooltip\">\n",
       "                            <p id=\"primary\">team_name</p>\n",
       "                            <span class=\"djtooltiptext\"></span>\n",
       "                        </div></th><th><div class=\"djtooltip\">\n",
       "                            <p id=\"nonprimary\">recording_path</p>\n",
       "                            <span class=\"djtooltiptext\"></span>\n",
       "                        </div></th><th><div class=\"djtooltip\">\n",
       "                            <p id=\"nonprimary\">sort_interval_list_name</p>\n",
       "                            <span class=\"djtooltiptext\">descriptive name of this interval list</span>\n",
       "                        </div> </th> </tr> </thead>\n",
       "            <tbody> <tr> <td>minirec20230622_.nwb</td>\n",
       "<td>0</td>\n",
       "<td>01_s1_first9</td>\n",
       "<td>default_hippocampus</td>\n",
       "<td>My Team</td>\n",
       "<td>/home/cb/wrk/zOther/data/recording/minirec20230622_.nwb_01_s1_first9_0_default_hippocampus</td>\n",
       "<td>minirec20230622_.nwb_01_s1_first9_0_default_hippocampus</td> </tr> </tbody>\n",
       "        </table>\n",
       "        \n",
       "        <p>Total: 1</p></div>\n",
       "        "
      ],
      "text/plain": [
       "*nwb_file_name *sort_group_id *sort_interval *preproc_param *team_name    recording_path sort_interval_\n",
       "+------------+ +------------+ +------------+ +------------+ +-----------+ +------------+ +------------+\n",
       "minirec2023062 0              01_s1_first9   default_hippoc My Team       /home/cb/wrk/z minirec2023062\n",
       " (Total: 1)"
      ]
     },
     "execution_count": 39,
     "metadata": {},
     "output_type": "execute_result"
    }
   ],
   "source": [
    "sgs.SpikeSortingRecording() & ssr_key"
   ]
  },
  {
   "cell_type": "markdown",
   "metadata": {},
   "source": [
    "## Artifact Detection\n",
    "\n",
    "`ArtifactDetectionParameters` establishes the parameters for removing artifacts\n",
    "from the data. We may want to target artifact signal that is within the\n",
    "frequency band of our filter (600Hz-6KHz), and thus will not get removed by\n",
    "filtering.\n",
    "\n",
    "For this demo, we'll use a parameter set to skip this step.\n"
   ]
  },
  {
   "cell_type": "code",
   "execution_count": 41,
   "metadata": {},
   "outputs": [],
   "source": [
    "sgs.ArtifactDetectionParameters().insert_default()\n",
    "artifact_key = (sgs.SpikeSortingRecording() & ssr_key).fetch1(\"KEY\")\n",
    "artifact_key[\"artifact_params_name\"] = \"none\""
   ]
  },
  {
   "cell_type": "markdown",
   "metadata": {},
   "source": [
    "We then pair artifact detection parameters in `ArtifactParameters` with a\n",
    "recording extracted through population of `SpikeSortingRecording` and insert\n",
    "into `ArtifactDetectionSelection`.\n"
   ]
  },
  {
   "cell_type": "code",
   "execution_count": 42,
   "metadata": {},
   "outputs": [
    {
     "data": {
      "text/html": [
       "\n",
       "    \n",
       "    <style type=\"text/css\">\n",
       "        .Table{\n",
       "            border-collapse:collapse;\n",
       "        }\n",
       "        .Table th{\n",
       "            background: #A0A0A0; color: #ffffff; padding:4px; border:#f0e0e0 1px solid;\n",
       "            font-weight: normal; font-family: monospace; font-size: 100%;\n",
       "        }\n",
       "        .Table td{\n",
       "            padding:4px; border:#f0e0e0 1px solid; font-size:100%;\n",
       "        }\n",
       "        .Table tr:nth-child(odd){\n",
       "            background: #ffffff;\n",
       "            color: #000000;\n",
       "        }\n",
       "        .Table tr:nth-child(even){\n",
       "            background: #f3f1ff;\n",
       "            color: #000000;\n",
       "        }\n",
       "        /* Tooltip container */\n",
       "        .djtooltip {\n",
       "        }\n",
       "        /* Tooltip text */\n",
       "        .djtooltip .djtooltiptext {\n",
       "            visibility: hidden;\n",
       "            width: 120px;\n",
       "            background-color: black;\n",
       "            color: #fff;\n",
       "            text-align: center;\n",
       "            padding: 5px 0;\n",
       "            border-radius: 6px;\n",
       "            /* Position the tooltip text - see examples below! */\n",
       "            position: absolute;\n",
       "            z-index: 1;\n",
       "        }\n",
       "        #primary {\n",
       "            font-weight: bold;\n",
       "            color: black;\n",
       "        }\n",
       "        #nonprimary {\n",
       "            font-weight: normal;\n",
       "            color: white;\n",
       "        }\n",
       "\n",
       "        /* Show the tooltip text when you mouse over the tooltip container */\n",
       "        .djtooltip:hover .djtooltiptext {\n",
       "            visibility: visible;\n",
       "        }\n",
       "    </style>\n",
       "    \n",
       "    <b>Specifies artifact detection parameters to apply to a sort group's recording.</b>\n",
       "        <div style=\"max-height:1000px;max-width:1500px;overflow:auto;\">\n",
       "        <table border=\"1\" class=\"Table\">\n",
       "            <thead> <tr style=\"text-align: right;\"> <th> <div class=\"djtooltip\">\n",
       "                            <p id=\"primary\">nwb_file_name</p>\n",
       "                            <span class=\"djtooltiptext\">name of the NWB file</span>\n",
       "                        </div></th><th><div class=\"djtooltip\">\n",
       "                            <p id=\"primary\">sort_group_id</p>\n",
       "                            <span class=\"djtooltiptext\">identifier for a group of electrodes</span>\n",
       "                        </div></th><th><div class=\"djtooltip\">\n",
       "                            <p id=\"primary\">sort_interval_name</p>\n",
       "                            <span class=\"djtooltiptext\">name for this interval</span>\n",
       "                        </div></th><th><div class=\"djtooltip\">\n",
       "                            <p id=\"primary\">preproc_params_name</p>\n",
       "                            <span class=\"djtooltiptext\"></span>\n",
       "                        </div></th><th><div class=\"djtooltip\">\n",
       "                            <p id=\"primary\">team_name</p>\n",
       "                            <span class=\"djtooltiptext\"></span>\n",
       "                        </div></th><th><div class=\"djtooltip\">\n",
       "                            <p id=\"primary\">artifact_params_name</p>\n",
       "                            <span class=\"djtooltiptext\"></span>\n",
       "                        </div></th><th><div class=\"djtooltip\">\n",
       "                            <p id=\"nonprimary\">custom_artifact_detection</p>\n",
       "                            <span class=\"djtooltiptext\"></span>\n",
       "                        </div> </th> </tr> </thead>\n",
       "            <tbody> <tr> <td>minirec20230622_.nwb</td>\n",
       "<td>0</td>\n",
       "<td>01_s1_first9</td>\n",
       "<td>default_hippocampus</td>\n",
       "<td>My Team</td>\n",
       "<td>none</td>\n",
       "<td>0</td> </tr> </tbody>\n",
       "        </table>\n",
       "        \n",
       "        <p>Total: 1</p></div>\n",
       "        "
      ],
      "text/plain": [
       "*nwb_file_name *sort_group_id *sort_interval *preproc_param *team_name    *artifact_para custom_artifac\n",
       "+------------+ +------------+ +------------+ +------------+ +-----------+ +------------+ +------------+\n",
       "minirec2023062 0              01_s1_first9   default_hippoc My Team       none           0             \n",
       " (Total: 1)"
      ]
     },
     "execution_count": 42,
     "metadata": {},
     "output_type": "execute_result"
    }
   ],
   "source": [
    "sgs.ArtifactDetectionSelection().insert1(artifact_key)\n",
    "sgs.ArtifactDetectionSelection() & artifact_key"
   ]
  },
  {
   "cell_type": "markdown",
   "metadata": {},
   "source": [
    "Then, we can populate `ArtifactDetection`, which will find periods where there\n",
    "are artifacts, as specified by the parameters.\n"
   ]
  },
  {
   "cell_type": "code",
   "execution_count": 43,
   "metadata": {},
   "outputs": [
    {
     "name": "stdout",
     "output_type": "stream",
     "text": [
      "Amplitude and zscore thresholds are both None, skipping artifact detection\n"
     ]
    }
   ],
   "source": [
    "sgs.ArtifactDetection.populate(artifact_key)"
   ]
  },
  {
   "cell_type": "markdown",
   "metadata": {},
   "source": [
    "Populating `ArtifactDetection` also inserts an entry into `ArtifactRemovedIntervalList`, which stores the interval without detected artifacts.\n"
   ]
  },
  {
   "cell_type": "code",
   "execution_count": 44,
   "metadata": {},
   "outputs": [
    {
     "data": {
      "text/html": [
       "\n",
       "    \n",
       "    <style type=\"text/css\">\n",
       "        .Table{\n",
       "            border-collapse:collapse;\n",
       "        }\n",
       "        .Table th{\n",
       "            background: #A0A0A0; color: #ffffff; padding:4px; border:#f0e0e0 1px solid;\n",
       "            font-weight: normal; font-family: monospace; font-size: 100%;\n",
       "        }\n",
       "        .Table td{\n",
       "            padding:4px; border:#f0e0e0 1px solid; font-size:100%;\n",
       "        }\n",
       "        .Table tr:nth-child(odd){\n",
       "            background: #ffffff;\n",
       "            color: #000000;\n",
       "        }\n",
       "        .Table tr:nth-child(even){\n",
       "            background: #f3f1ff;\n",
       "            color: #000000;\n",
       "        }\n",
       "        /* Tooltip container */\n",
       "        .djtooltip {\n",
       "        }\n",
       "        /* Tooltip text */\n",
       "        .djtooltip .djtooltiptext {\n",
       "            visibility: hidden;\n",
       "            width: 120px;\n",
       "            background-color: black;\n",
       "            color: #fff;\n",
       "            text-align: center;\n",
       "            padding: 5px 0;\n",
       "            border-radius: 6px;\n",
       "            /* Position the tooltip text - see examples below! */\n",
       "            position: absolute;\n",
       "            z-index: 1;\n",
       "        }\n",
       "        #primary {\n",
       "            font-weight: bold;\n",
       "            color: black;\n",
       "        }\n",
       "        #nonprimary {\n",
       "            font-weight: normal;\n",
       "            color: white;\n",
       "        }\n",
       "\n",
       "        /* Show the tooltip text when you mouse over the tooltip container */\n",
       "        .djtooltip:hover .djtooltiptext {\n",
       "            visibility: visible;\n",
       "        }\n",
       "    </style>\n",
       "    \n",
       "    <b>Stores intervals without detected artifacts.</b>\n",
       "        <div style=\"max-height:1000px;max-width:1500px;overflow:auto;\">\n",
       "        <table border=\"1\" class=\"Table\">\n",
       "            <thead> <tr style=\"text-align: right;\"> <th> <div class=\"djtooltip\">\n",
       "                            <p id=\"primary\">artifact_removed_interval_list_name</p>\n",
       "                            <span class=\"djtooltiptext\"></span>\n",
       "                        </div></th><th><div class=\"djtooltip\">\n",
       "                            <p id=\"nonprimary\">nwb_file_name</p>\n",
       "                            <span class=\"djtooltiptext\">name of the NWB file</span>\n",
       "                        </div></th><th><div class=\"djtooltip\">\n",
       "                            <p id=\"nonprimary\">sort_group_id</p>\n",
       "                            <span class=\"djtooltiptext\">identifier for a group of electrodes</span>\n",
       "                        </div></th><th><div class=\"djtooltip\">\n",
       "                            <p id=\"nonprimary\">sort_interval_name</p>\n",
       "                            <span class=\"djtooltiptext\">name for this interval</span>\n",
       "                        </div></th><th><div class=\"djtooltip\">\n",
       "                            <p id=\"nonprimary\">preproc_params_name</p>\n",
       "                            <span class=\"djtooltiptext\"></span>\n",
       "                        </div></th><th><div class=\"djtooltip\">\n",
       "                            <p id=\"nonprimary\">team_name</p>\n",
       "                            <span class=\"djtooltiptext\"></span>\n",
       "                        </div></th><th><div class=\"djtooltip\">\n",
       "                            <p id=\"nonprimary\">artifact_params_name</p>\n",
       "                            <span class=\"djtooltiptext\"></span>\n",
       "                        </div></th><th><div class=\"djtooltip\">\n",
       "                            <p id=\"nonprimary\">artifact_removed_valid_times</p>\n",
       "                            <span class=\"djtooltiptext\"></span>\n",
       "                        </div></th><th><div class=\"djtooltip\">\n",
       "                            <p id=\"nonprimary\">artifact_times</p>\n",
       "                            <span class=\"djtooltiptext\">np array of artifact intervals</span>\n",
       "                        </div> </th> </tr> </thead>\n",
       "            <tbody> <tr> <td>minirec20230622_.nwb_01_s1_first9_0_default_hippocampus_none_artifact_removed_valid_times</td>\n",
       "<td>minirec20230622_.nwb</td>\n",
       "<td>0</td>\n",
       "<td>01_s1_first9</td>\n",
       "<td>default_hippocampus</td>\n",
       "<td>My Team</td>\n",
       "<td>none</td>\n",
       "<td>=BLOB=</td>\n",
       "<td>=BLOB=</td> </tr> </tbody>\n",
       "        </table>\n",
       "        \n",
       "        <p>Total: 1</p></div>\n",
       "        "
      ],
      "text/plain": [
       "*artifact_remo nwb_file_name  sort_group_id  sort_interval_ preproc_params team_name     artifact_param artifact_r artifact_t\n",
       "+------------+ +------------+ +------------+ +------------+ +------------+ +-----------+ +------------+ +--------+ +--------+\n",
       "minirec2023062 minirec2023062 0              01_s1_first9   default_hippoc My Team       none           =BLOB=     =BLOB=    \n",
       " (Total: 1)"
      ]
     },
     "execution_count": 44,
     "metadata": {},
     "output_type": "execute_result"
    }
   ],
   "source": [
    "sgs.ArtifactRemovedIntervalList() & artifact_key"
   ]
  },
  {
   "cell_type": "markdown",
   "metadata": {},
   "source": [
    "## Spike sorting\n"
   ]
  },
  {
   "cell_type": "markdown",
   "metadata": {},
   "source": [
    "### `SpikeSorterParameters`\n",
    "\n",
    "For our example, we will be using `mountainsort4`. There are already some default parameters in the `SpikeSorterParameters` table we'll `fetch`.\n"
   ]
  },
  {
   "cell_type": "code",
   "execution_count": 45,
   "metadata": {},
   "outputs": [
    {
     "name": "stdout",
     "output_type": "stream",
     "text": [
      "{'sorter': 'mountainsort4', 'sorter_params_name': 'default', 'sorter_params': {'detect_sign': -1, 'adjacency_radius': -1, 'freq_min': 300, 'freq_max': 6000, 'filter': True, 'whiten': True, 'num_workers': 1, 'clip_size': 50, 'detect_threshold': 3, 'detect_interval': 10, 'tempdir': None}}\n"
     ]
    }
   ],
   "source": [
    "sgs.SpikeSorterParameters().insert_default()\n",
    "\n",
    "# Let's look at the default params\n",
    "sorter_name = \"mountainsort4\"\n",
    "ms4_default_params = (\n",
    "    sgs.SpikeSorterParameters\n",
    "    & {\"sorter\": sorter_name, \"sorter_params_name\": \"default\"}\n",
    ").fetch1()\n",
    "print(ms4_default_params)"
   ]
  },
  {
   "cell_type": "markdown",
   "metadata": {},
   "source": [
    "Now we can change these default parameters to line up more closely with our preferences.\n"
   ]
  },
  {
   "cell_type": "code",
   "execution_count": 52,
   "metadata": {
    "tags": []
   },
   "outputs": [
    {
     "name": "stdout",
     "output_type": "stream",
     "text": [
      "{'adjacency_radius': 100,\n",
      " 'clip_size': 39,\n",
      " 'detect_interval': 10,\n",
      " 'detect_sign': -1,\n",
      " 'detect_threshold': 3,\n",
      " 'filter': False,\n",
      " 'freq_max': 0,\n",
      " 'freq_min': 0,\n",
      " 'num_workers': 4,\n",
      " 'tempdir': None,\n",
      " 'verbose': True,\n",
      " 'whiten': False}\n"
     ]
    }
   ],
   "source": [
    "sorter_params = {\n",
    "    **ms4_default_params[\"sorter_params\"],  # start with defaults\n",
    "    \"detect_sign\": -1,  # downward going spikes (1 for upward, 0 for both)\n",
    "    \"adjacency_radius\": 100,  # Sort electrodes together within 100 microns\n",
    "    \"filter\": False,  # No filter, since we filter prior to starting sort\n",
    "    \"freq_min\": 0,\n",
    "    \"freq_max\": 0,\n",
    "    \"whiten\": False,  # Turn whiten, since we whiten it prior to starting sort\n",
    "    \"num_workers\": 4,  #  same number as number of electrodes\n",
    "    \"verbose\": True,\n",
    "    \"clip_size\": np.int64(\n",
    "        1.33e-3  # same as # of samples for 1.33 ms based on the sampling rate\n",
    "        * (sgc.Raw & {\"nwb_file_name\": nwb_file_name}).fetch1(\"sampling_rate\")\n",
    "    ),\n",
    "}\n",
    "from pprint import pprint\n",
    "\n",
    "pprint(sorter_params)"
   ]
  },
  {
   "cell_type": "markdown",
   "metadata": {},
   "source": [
    "We can give these `sorter_params` a `sorter_params_name` and insert into `SpikeSorterParameters`.\n"
   ]
  },
  {
   "cell_type": "code",
   "execution_count": 53,
   "metadata": {
    "tags": []
   },
   "outputs": [
    {
     "data": {
      "text/plain": [
       "{'sorter': 'mountainsort4',\n",
       " 'sorter_params_name': 'hippocampus_tutorial',\n",
       " 'sorter_params': {'detect_sign': -1,\n",
       "  'adjacency_radius': 100,\n",
       "  'freq_min': 0,\n",
       "  'freq_max': 0,\n",
       "  'filter': False,\n",
       "  'whiten': False,\n",
       "  'num_workers': 4,\n",
       "  'clip_size': 39,\n",
       "  'detect_threshold': 3,\n",
       "  'detect_interval': 10,\n",
       "  'tempdir': None,\n",
       "  'verbose': True}}"
      ]
     },
     "execution_count": 53,
     "metadata": {},
     "output_type": "execute_result"
    }
   ],
   "source": [
    "sorter_params_name = \"hippocampus_tutorial\"\n",
    "sgs.SpikeSorterParameters.insert1(\n",
    "    {\n",
    "        \"sorter\": sorter_name,\n",
    "        \"sorter_params_name\": sorter_params_name,\n",
    "        \"sorter_params\": sorter_params,\n",
    "    },\n",
    "    skip_duplicates=True,\n",
    ")\n",
    "(\n",
    "    sgs.SpikeSorterParameters\n",
    "    & {\"sorter\": sorter_name, \"sorter_params_name\": sorter_params_name}\n",
    ").fetch1()"
   ]
  },
  {
   "cell_type": "markdown",
   "metadata": {},
   "source": [
    "### `SpikeSortingSelection`\n",
    "\n",
    "**Gearing up to Spike Sort!**\n",
    "\n",
    "We now collect our various keys to insert into `SpikeSortingSelection`, which is specific to this recording and eventual sorting segment.\n",
    "\n",
    "_Note:_ the spike _sorter_ parameters defined above are specific to\n",
    "`mountainsort4` and may not work for other sorters.\n"
   ]
  },
  {
   "cell_type": "code",
   "execution_count": 59,
   "metadata": {},
   "outputs": [
    {
     "data": {
      "text/plain": [
       "{'nwb_file_name': 'minirec20230622_.nwb',\n",
       " 'sort_group_id': 0,\n",
       " 'sort_interval_name': '01_s1_first9',\n",
       " 'preproc_params_name': 'default_hippocampus',\n",
       " 'team_name': 'My Team',\n",
       " 'artifact_removed_interval_list_name': 'minirec20230622_.nwb_01_s1_first9_0_default_hippocampus_none_artifact_removed_valid_times',\n",
       " 'sorter': 'mountainsort4',\n",
       " 'sorter_params_name': 'hippocampus_tutorial'}"
      ]
     },
     "execution_count": 59,
     "metadata": {},
     "output_type": "execute_result"
    }
   ],
   "source": [
    "ss_key = dict(\n",
    "    **(sgs.ArtifactDetection & ssr_key).fetch1(\"KEY\"),\n",
    "    **(sgs.ArtifactRemovedIntervalList() & ssr_key).fetch1(\"KEY\"),\n",
    "    sorter=sorter_name,\n",
    "    sorter_params_name=sorter_params_name,\n",
    ")\n",
    "ss_key.pop(\"artifact_params_name\")\n",
    "ss_key"
   ]
  },
  {
   "cell_type": "code",
   "execution_count": 60,
   "metadata": {},
   "outputs": [
    {
     "data": {
      "text/html": [
       "\n",
       "    \n",
       "    <style type=\"text/css\">\n",
       "        .Table{\n",
       "            border-collapse:collapse;\n",
       "        }\n",
       "        .Table th{\n",
       "            background: #A0A0A0; color: #ffffff; padding:4px; border:#f0e0e0 1px solid;\n",
       "            font-weight: normal; font-family: monospace; font-size: 100%;\n",
       "        }\n",
       "        .Table td{\n",
       "            padding:4px; border:#f0e0e0 1px solid; font-size:100%;\n",
       "        }\n",
       "        .Table tr:nth-child(odd){\n",
       "            background: #ffffff;\n",
       "            color: #000000;\n",
       "        }\n",
       "        .Table tr:nth-child(even){\n",
       "            background: #f3f1ff;\n",
       "            color: #000000;\n",
       "        }\n",
       "        /* Tooltip container */\n",
       "        .djtooltip {\n",
       "        }\n",
       "        /* Tooltip text */\n",
       "        .djtooltip .djtooltiptext {\n",
       "            visibility: hidden;\n",
       "            width: 120px;\n",
       "            background-color: black;\n",
       "            color: #fff;\n",
       "            text-align: center;\n",
       "            padding: 5px 0;\n",
       "            border-radius: 6px;\n",
       "            /* Position the tooltip text - see examples below! */\n",
       "            position: absolute;\n",
       "            z-index: 1;\n",
       "        }\n",
       "        #primary {\n",
       "            font-weight: bold;\n",
       "            color: black;\n",
       "        }\n",
       "        #nonprimary {\n",
       "            font-weight: normal;\n",
       "            color: white;\n",
       "        }\n",
       "\n",
       "        /* Show the tooltip text when you mouse over the tooltip container */\n",
       "        .djtooltip:hover .djtooltiptext {\n",
       "            visibility: visible;\n",
       "        }\n",
       "    </style>\n",
       "    \n",
       "    <b>Table for holding selection of recording and parameters for each spike sorting run</b>\n",
       "        <div style=\"max-height:1000px;max-width:1500px;overflow:auto;\">\n",
       "        <table border=\"1\" class=\"Table\">\n",
       "            <thead> <tr style=\"text-align: right;\"> <th> <div class=\"djtooltip\">\n",
       "                            <p id=\"primary\">nwb_file_name</p>\n",
       "                            <span class=\"djtooltiptext\">name of the NWB file</span>\n",
       "                        </div></th><th><div class=\"djtooltip\">\n",
       "                            <p id=\"primary\">sort_group_id</p>\n",
       "                            <span class=\"djtooltiptext\">identifier for a group of electrodes</span>\n",
       "                        </div></th><th><div class=\"djtooltip\">\n",
       "                            <p id=\"primary\">sort_interval_name</p>\n",
       "                            <span class=\"djtooltiptext\">name for this interval</span>\n",
       "                        </div></th><th><div class=\"djtooltip\">\n",
       "                            <p id=\"primary\">preproc_params_name</p>\n",
       "                            <span class=\"djtooltiptext\"></span>\n",
       "                        </div></th><th><div class=\"djtooltip\">\n",
       "                            <p id=\"primary\">team_name</p>\n",
       "                            <span class=\"djtooltiptext\"></span>\n",
       "                        </div></th><th><div class=\"djtooltip\">\n",
       "                            <p id=\"primary\">sorter</p>\n",
       "                            <span class=\"djtooltiptext\"></span>\n",
       "                        </div></th><th><div class=\"djtooltip\">\n",
       "                            <p id=\"primary\">sorter_params_name</p>\n",
       "                            <span class=\"djtooltiptext\"></span>\n",
       "                        </div></th><th><div class=\"djtooltip\">\n",
       "                            <p id=\"primary\">artifact_removed_interval_list_name</p>\n",
       "                            <span class=\"djtooltiptext\"></span>\n",
       "                        </div></th><th><div class=\"djtooltip\">\n",
       "                            <p id=\"nonprimary\">import_path</p>\n",
       "                            <span class=\"djtooltiptext\">optional path to previous curated sorting output</span>\n",
       "                        </div> </th> </tr> </thead>\n",
       "            <tbody> <tr> <td>minirec20230622_.nwb</td>\n",
       "<td>0</td>\n",
       "<td>01_s1_first9</td>\n",
       "<td>default_hippocampus</td>\n",
       "<td>My Team</td>\n",
       "<td>mountainsort4</td>\n",
       "<td>hippocampus_tutorial</td>\n",
       "<td>minirec20230622_.nwb_01_s1_first9_0_default_hippocampus_none_artifact_removed_valid_times</td>\n",
       "<td></td> </tr> </tbody>\n",
       "        </table>\n",
       "        \n",
       "        <p>Total: 1</p></div>\n",
       "        "
      ],
      "text/plain": [
       "*nwb_file_name *sort_group_id *sort_interval *preproc_param *team_name    *sorter        *sorter_params *artifact_remo import_path   \n",
       "+------------+ +------------+ +------------+ +------------+ +-----------+ +------------+ +------------+ +------------+ +------------+\n",
       "minirec2023062 0              01_s1_first9   default_hippoc My Team       mountainsort4  hippocampus_tu minirec2023062               \n",
       " (Total: 1)"
      ]
     },
     "execution_count": 60,
     "metadata": {},
     "output_type": "execute_result"
    }
   ],
   "source": [
    "sgs.SpikeSortingSelection.insert1(ss_key, skip_duplicates=True)\n",
    "(sgs.SpikeSortingSelection & ss_key)"
   ]
  },
  {
   "cell_type": "markdown",
   "metadata": {},
   "source": [
    "### `SpikeSorting`\n",
    "\n",
    "After adding to `SpikeSortingSelection`, we can simply populate `SpikeSorting`.\n",
    "\n",
    "_Note:_ This may take time with longer data sets. Be sure to `pip install mountainsort4` if this is your first time spike sorting.\n"
   ]
  },
  {
   "cell_type": "code",
   "execution_count": 62,
   "metadata": {
    "tags": []
   },
   "outputs": [
    {
     "name": "stdout",
     "output_type": "stream",
     "text": [
      "Running spike sorting on {'nwb_file_name': 'minirec20230622_.nwb', 'sort_group_id': 0, 'sort_interval_name': '01_s1_first9', 'preproc_params_name': 'default_hippocampus', 'team_name': 'My Team', 'sorter': 'mountainsort4', 'sorter_params_name': 'hippocampus_tutorial', 'artifact_removed_interval_list_name': 'minirec20230622_.nwb_01_s1_first9_0_default_hippocampus_none_artifact_removed_valid_times'}...\n",
      "Mountainsort4 use the OLD spikeextractors mapped with NewToOldRecording\n",
      "Using temporary directory /home/cb/wrk/zOther/data/tmp/tmpr9_xzjwk\n",
      "Using 4 workers.\n",
      "Using tempdir: /home/cb/wrk/zOther/data/tmp/tmpr9_xzjwk/tmpo_xved1i\n",
      "Num. workers = 4\n",
      "Preparing /home/cb/wrk/zOther/data/tmp/tmpr9_xzjwk/tmpo_xved1i/timeseries.hdf5...\n",
      "Preparing neighborhood sorters (M=31, N=269997)...\n",
      "Neighboorhood of channel 29 has 5 channels.Neighboorhood of channel 28 has 6 channels.\n",
      "\n",
      "Detecting events on channel 29 (phase1)...\n",
      "Detecting events on channel 30 (phase1)...\n",
      "Neighboorhood of channel 23 has 7 channels.\n",
      "Detecting events on channel 24 (phase1)...\n",
      "Neighboorhood of channel 7 has 7 channels.\n",
      "Detecting events on channel 8 (phase1)...\n",
      "Elapsed time for detect on neighborhood: 0:00:00.022525\n",
      "Num events detected on channel 30 (phase1): 1\n",
      "Computing PCA features for channel 30 (phase1)...\n",
      "Elapsed time for detect on neighborhood: 0:00:00.025604\n",
      "Num events detected on channel 29 (phase1): 6\n",
      "Computing PCA features for channel 29 (phase1)...\n",
      "Elapsed time for detect on neighborhood: 0:00:00.028793\n",
      "Num events detected on channel 24 (phase1): 5\n",
      "Computing PCA features for channel 24 (phase1)...\n",
      "Elapsed time for detect on neighborhood: 0:00:00.029814\n",
      "Num events detected on channel 8 (phase1): 5\n",
      "Computing PCA features for channel 8 (phase1)...\n",
      "Clustering for channel 30 (phase1)...\n",
      "Found 1 clusters for channel 30 (phase1)...\n",
      "Computing templates for channel 30 (phase1)...\n",
      "Re-assigning events for channel 30 (phase1)...\n",
      "Neighboorhood of channel 17 has 7 channels.\n",
      "Detecting events on channel 18 (phase1)...\n",
      "Elapsed time for detect on neighborhood: 0:00:00.096352\n",
      "Num events detected on channel 18 (phase1): 5\n",
      "Computing PCA features for channel 18 (phase1)...\n",
      "Clustering for channel 24 (phase1)...\n",
      "Found 1 clusters for channel 24 (phase1)...Clustering for channel 29 (phase1)...\n",
      "\n",
      "Computing templates for channel 24 (phase1)...\n",
      "Found 1 clusters for channel 29 (phase1)...\n",
      "Computing templates for channel 29 (phase1)...\n",
      "Clustering for channel 8 (phase1)...\n",
      "Found 1 clusters for channel 8 (phase1)...\n",
      "Computing templates for channel 8 (phase1)...\n",
      "Re-assigning events for channel 29 (phase1)...Re-assigning events for channel 24 (phase1)...\n",
      "Neighboorhood of channel 20 has 7 channels.\n",
      "Detecting events on channel 21 (phase1)...\n",
      "\n",
      "Neighboorhood of channel 25 has 7 channels.\n",
      "Detecting events on channel 26 (phase1)...\n",
      "Clustering for channel 18 (phase1)...\n",
      "Found 1 clusters for channel 18 (phase1)...\n",
      "Computing templates for channel 18 (phase1)...\n",
      "Re-assigning events for channel 8 (phase1)...\n",
      "Neighboorhood of channel 26 has 7 channels.\n",
      "Detecting events on channel 27 (phase1)...\n",
      "Elapsed time for detect on neighborhood: 0:00:00.039213\n",
      "Num events detected on channel 26 (phase1): 4\n",
      "Computing PCA features for channel 26 (phase1)...\n",
      "Elapsed time for detect on neighborhood:Re-assigning events for channel 18 (phase1)...\n",
      " 0:00:00.055824\n",
      "Num events detected on channel 21 (phase1): 14\n",
      "Neighboorhood of channel 14 has 7 channels.Computing PCA features for channel 21 (phase1)...\n",
      "\n",
      "Detecting events on channel 15 (phase1)...\n",
      "Elapsed time for detect on neighborhood: 0:00:00.029223\n",
      "Num events detected on channel 27 (phase1): 8\n",
      "Computing PCA features for channel 27 (phase1)...\n",
      "Elapsed time for detect on neighborhood:Clustering for channel 27 (phase1)...\n",
      "Found 1 clusters for channel 27 (phase1)... 0:00:00.086340\n",
      "Num events detected on channel 15 (phase1): 2\n",
      "Computing PCA features for channel 15 (phase1)...\n",
      "\n",
      "Computing templates for channel 27 (phase1)...\n",
      "Clustering for channel 26 (phase1)...\n",
      "Found 1 clusters for channel 26 (phase1)...\n",
      "Computing templates for channel 26 (phase1)...\n",
      "Clustering for channel 21 (phase1)...\n",
      "Found 1 clusters for channel 21 (phase1)...\n",
      "Computing templates for channel 21 (phase1)...\n",
      "Re-assigning events for channel 26 (phase1)...Re-assigning events for channel 27 (phase1)...\n",
      "Neighboorhood of channel 4 has 7 channels.\n",
      "Detecting events on channel 5 (phase1)...\n",
      "Re-assigning events for channel 21 (phase1)...\n",
      "\n",
      "Neighboorhood of channel 15 has 7 channels.Neighboorhood of channel 16 has 7 channels.\n",
      "Detecting events on channel 16 (phase1)...\n",
      "\n",
      "Detecting events on channel 17 (phase1)...\n",
      "Elapsed time for detect on neighborhood: 0:00:00.027093\n",
      "Num events detected on channel 5 (phase1): 18\n",
      "Computing PCA features for channel 5 (phase1)...\n",
      "Elapsed time for detect on neighborhood: 0:00:00.035564\n",
      "Num events detected on channel 16 (phase1): 6\n",
      "Computing PCA features for channel 16 (phase1)...\n",
      "Clustering for channel 5 (phase1)...\n",
      "Found 1 clusters for channel 5 (phase1)...\n",
      "Computing templates for channel 5 (phase1)...\n",
      "Clustering for channel 16 (phase1)...\n",
      "Found 1 clusters for channel 16 (phase1)...\n",
      "Computing templates for channel 16 (phase1)...\n",
      "Elapsed time for detect on neighborhood: 0:00:00.091005\n",
      "Num events detected on channel 17 (phase1): 17\n",
      "Computing PCA features for channel 17 (phase1)...\n",
      "Clustering for channel 15 (phase1)...Re-assigning events for channel 5 (phase1)...\n",
      "Found 1 clusters for channel 15 (phase1)...\n",
      "Computing templates for channel 15 (phase1)...\n",
      "\n",
      "Neighboorhood of channel 11 has 7 channels.\n",
      "Detecting events on channel 12 (phase1)...\n",
      "Re-assigning events for channel 16 (phase1)...\n",
      "Neighboorhood of channel 12 has 7 channels.\n",
      "Detecting events on channel 13 (phase1)...\n",
      "Elapsed time for detect on neighborhood:Re-assigning events for channel 15 (phase1)... 0:00:00.040278\n",
      "Num events detected on channel 12 (phase1): 7\n",
      "Computing PCA features for channel 12 (phase1)...\n",
      "\n",
      "Neighboorhood of channel 6 has 7 channels.\n",
      "Detecting events on channel 7 (phase1)...\n",
      "Clustering for channel 17 (phase1)...\n",
      "Found 1 clusters for channel 17 (phase1)...\n",
      "Computing templates for channel 17 (phase1)...\n",
      "Re-assigning events for channel 17 (phase1)...\n",
      "Neighboorhood of channel 21 has 7 channels.\n",
      "Detecting events on channel 22 (phase1)...\n",
      "Elapsed time for detect on neighborhood: 0:00:00.033808\n",
      "Num events detected on channel 7 (phase1): 10\n",
      "Computing PCA features for channel 7 (phase1)...\n",
      "Elapsed time for detect on neighborhood: 0:00:00.076235\n",
      "Num events detected on channel 13 (phase1): 1\n",
      "Computing PCA features for channel 13 (phase1)...\n",
      "Clustering for channel 12 (phase1)...\n",
      "Found 1 clusters for channel 12 (phase1)...\n",
      "Computing templates for channel 12 (phase1)...\n",
      "Clustering for channel 13 (phase1)...Re-assigning events for channel 12 (phase1)...\n",
      "Neighboorhood of channel 0 has 4 channels.\n",
      "Detecting events on channel 1 (phase1)...\n",
      "\n",
      "Found 1 clusters for channel 13 (phase1)...\n",
      "Computing templates for channel 13 (phase1)...\n",
      "Elapsed time for detect on neighborhood:Re-assigning events for channel 13 (phase1)...\n",
      "Neighboorhood of channel 5 has 7 channels.\n",
      "Detecting events on channel 6 (phase1)...\n",
      " 0:00:00.026181\n",
      "Num events detected on channel 1 (phase1): 3\n",
      "Computing PCA features for channel 1 (phase1)...\n",
      "Elapsed time for detect on neighborhood: 0:00:00.133353\n",
      "Num events detected on channel 22 (phase1): 3\n",
      "Computing PCA features for channel 22 (phase1)...\n",
      "Elapsed time for detect on neighborhood: 0:00:00.025383\n",
      "Num events detected on channel 6 (phase1): 2\n",
      "Computing PCA features for channel 6 (phase1)...\n",
      "Clustering for channel 1 (phase1)...Clustering for channel 7 (phase1)...\n",
      "Found 1 clusters for channel 1 (phase1)...\n",
      "Computing templates for channel 1 (phase1)...\n",
      "\n",
      "Found 1 clusters for channel 7 (phase1)...\n",
      "Computing templates for channel 7 (phase1)...\n",
      "Re-assigning events for channel 1 (phase1)...\n",
      "Neighboorhood of channel 13 has 7 channels.Re-assigning events for channel 7 (phase1)...\n",
      "Detecting events on channel 14 (phase1)...\n",
      "\n",
      "Neighboorhood of channel 8 has 7 channels.\n",
      "Detecting events on channel 9 (phase1)...\n",
      "Clustering for channel 6 (phase1)...\n",
      "Found 1 clusters for channel 6 (phase1)...\n",
      "Computing templates for channel 6 (phase1)...\n",
      "Elapsed time for detect on neighborhood: 0:00:00.033709\n",
      "Num events detected on channel 9 (phase1): 6\n",
      "Computing PCA features for channel 9 (phase1)...\n",
      "Elapsed time for detect on neighborhood:Re-assigning events for channel 6 (phase1)... 0:00:00.055517\n",
      "Num events detected on channel 14 (phase1): 4\n",
      "Computing PCA features for channel 14 (phase1)...\n",
      "\n",
      "Neighboorhood of channel 22 has 7 channels.\n",
      "Detecting events on channel 23 (phase1)...\n",
      "Elapsed time for detect on neighborhood: 0:00:00.020576\n",
      "Num events detected on channel 23 (phase1): 17\n",
      "Computing PCA features for channel 23 (phase1)...\n",
      "Clustering for channel 23 (phase1)...Clustering for channel 14 (phase1)...\n",
      "Found 1 clusters for channel 14 (phase1)...\n",
      "Computing templates for channel 14 (phase1)...\n",
      "Clustering for channel 22 (phase1)...\n",
      "Found 1 clusters for channel 22 (phase1)...\n",
      "Computing templates for channel 22 (phase1)...\n",
      "Clustering for channel 9 (phase1)...\n",
      "Found 1 clusters for channel 9 (phase1)...\n",
      "Computing templates for channel 9 (phase1)...\n",
      "\n",
      "Found 1 clusters for channel 23 (phase1)...\n",
      "Computing templates for channel 23 (phase1)...\n",
      "Re-assigning events for channel 14 (phase1)...\n",
      "Re-assigning events for channel 9 (phase1)...Neighboorhood of channel 18 has 7 channels.\n",
      "Detecting events on channel 19 (phase1)...\n",
      "\n",
      "Neighboorhood of channel 9 has 7 channels.\n",
      "Detecting events on channel 10 (phase1)...\n",
      "Re-assigning events for channel 23 (phase1)...\n",
      "Neighboorhood of channel 27 has 7 channels.\n",
      "Detecting events on channel 28 (phase1)...\n",
      "Re-assigning events for channel 22 (phase1)...\n",
      "Neighboorhood of channel 3 has 7 channels.\n",
      "Detecting events on channel 4 (phase1)...\n",
      "Elapsed time for detect on neighborhood: 0:00:00.035256\n",
      "Num events detected on channel 19 (phase1): 11\n",
      "Computing PCA features for channel 19 (phase1)...\n",
      "Elapsed time for detect on neighborhood: 0:00:00.040792\n",
      "Num events detected on channel 10 (phase1): 5\n",
      "Computing PCA features for channel 10 (phase1)...\n",
      "Elapsed time for detect on neighborhood: 0:00:00.033487\n",
      "Num events detected on channel 28 (phase1): 4\n",
      "Computing PCA features for channel 28 (phase1)...\n",
      "Elapsed time for detect on neighborhood: 0:00:00.029246\n",
      "Num events detected on channel 4 (phase1): 10\n",
      "Computing PCA features for channel 4 (phase1)...\n",
      "Clustering for channel 28 (phase1)...\n",
      "Found 1 clusters for channel 28 (phase1)...\n",
      "Computing templates for channel 28 (phase1)...\n",
      "Re-assigning events for channel 28 (phase1)...\n",
      "Clustering for channel 10 (phase1)...\n",
      "Found 1 clusters for channel 10 (phase1)...\n",
      "Computing templates for channel 10 (phase1)...\n",
      "Re-assigning events for channel 10 (phase1)...\n",
      "Clustering for channel 19 (phase1)...\n",
      "Found 1 clusters for channel 19 (phase1)...\n",
      "Computing templates for channel 19 (phase1)...\n",
      "Re-assigning events for channel 19 (phase1)...\n",
      "Neighboorhood of channel 1 has 5 channels.\n",
      "Detecting events on channel 2 (phase1)...\n",
      "Elapsed time for detect on neighborhood: 0:00:00.019415\n",
      "Num events detected on channel 2 (phase1): 3\n",
      "Computing PCA features for channel 2 (phase1)...\n",
      "Clustering for channel 4 (phase1)...\n",
      "Found 1 clusters for channel 4 (phase1)...\n",
      "Computing templates for channel 4 (phase1)...\n",
      "Clustering for channel 2 (phase1)...\n",
      "Found 1 clusters for channel 2 (phase1)...\n",
      "Computing templates for channel 2 (phase1)...\n",
      "Re-assigning events for channel 2 (phase1)...\n",
      "Neighboorhood of channel 30 has 4 channels.\n",
      "Detecting events on channel 31 (phase1)...\n",
      "Elapsed time for detect on neighborhood: 0:00:00.012684\n",
      "Num events detected on channel 31 (phase1): 0\n",
      "Computing PCA features for channel 31 (phase1)...\n",
      "Clustering for channel 31 (phase1)...\n",
      "Found 0 clusters for channel 31 (phase1)...\n",
      "Computing templates for channel 31 (phase1)...\n",
      "Re-assigning events for channel 31 (phase1)...\n",
      "Neighboorhood of channel 24 has 7 channels.\n",
      "Detecting events on channel 25 (phase1)...\n",
      "Elapsed time for detect on neighborhood: 0:00:00.017826\n",
      "Num events detected on channel 25 (phase1): 14\n",
      "Computing PCA features for channel 25 (phase1)...\n",
      "Re-assigning events for channel 4 (phase1)...\n",
      "Neighboorhood of channel 19 has 7 channels.\n",
      "Detecting events on channel 20 (phase1)...\n",
      "Clustering for channel 25 (phase1)...\n",
      "Found 1 clusters for channel 25 (phase1)...\n",
      "Computing templates for channel 25 (phase1)...\n",
      "Elapsed time for detect on neighborhood: 0:00:00.022288\n",
      "Num events detected on channel 20 (phase1): 14\n",
      "Computing PCA features for channel 20 (phase1)...\n",
      "Re-assigning events for channel 25 (phase1)...\n",
      "Neighboorhood of channel 2 has 6 channels.\n",
      "Detecting events on channel 3 (phase1)...\n",
      "Elapsed time for detect on neighborhood: 0:00:00.018741\n",
      "Num events detected on channel 3 (phase1): 11\n",
      "Computing PCA features for channel 3 (phase1)...\n",
      "Clustering for channel 3 (phase1)...\n",
      "Found 1 clusters for channel 3 (phase1)...\n",
      "Computing templates for channel 3 (phase1)...\n",
      "Re-assigning events for channel 3 (phase1)...\n",
      "Neighboorhood of channel 10 has 7 channels.\n",
      "Detecting events on channel 11 (phase1)...\n",
      "Clustering for channel 20 (phase1)...\n",
      "Found 1 clusters for channel 20 (phase1)...\n",
      "Computing templates for channel 20 (phase1)...\n",
      "Re-assigning events for channel 20 (phase1)...\n",
      "Elapsed time for detect on neighborhood: 0:00:00.035092\n",
      "Num events detected on channel 11 (phase1): 6\n",
      "Computing PCA features for channel 11 (phase1)...\n",
      "Clustering for channel 11 (phase1)...\n",
      "Found 1 clusters for channel 11 (phase1)...\n",
      "Computing templates for channel 11 (phase1)...\n",
      "Re-assigning events for channel 11 (phase1)...\n",
      "Neighboorhood of channel 17 has 7 channels.\n",
      "Computing PCA features for channel 18 (phase2)...\n",
      "No duplicate events found for channel 17 in phase2\n",
      "Neighboorhood of channel 25 has 7 channels.\n",
      "Computing PCA features for channel 26 (phase2)...\n",
      "No duplicate events found for channel 25 in phase2\n",
      "Neighboorhood of channel 4 has 7 channels.\n",
      "Computing PCA features for channel 5 (phase2)...\n",
      "No duplicate events found for channel 4 in phase2\n",
      "Neighboorhood of channel 29 has 5 channels.\n",
      "Computing PCA features for channel 30 (phase2)...\n",
      "No duplicate events found for channel 29 in phase2\n",
      "Clustering for channel 30 (phase2)...\n",
      "Found 1 clusters for channel 30 (phase2)...\n",
      "Neighboorhood of channel 8 has 7 channels.\n",
      "Computing PCA features for channel 9 (phase2)...\n",
      "No duplicate events found for channel 8 in phase2\n",
      "Clustering for channel 18 (phase2)...\n",
      "Found 1 clusters for channel 18 (phase2)...\n",
      "Neighboorhood of channel 24 has 7 channels.\n",
      "Computing PCA features for channel 25 (phase2)...\n",
      "No duplicate events found for channel 24 in phase2\n",
      "Clustering for channel 5 (phase2)...\n",
      "Found 1 clusters for channel 5 (phase2)...\n",
      "Neighboorhood of channel 1 has 5 channels.\n",
      "Computing PCA features for channel 2 (phase2)...\n",
      "No duplicate events found for channel 1 in phase2\n",
      "Clustering for channel 9 (phase2)...\n",
      "Found 1 clusters for channel 9 (phase2)...\n",
      "Neighboorhood of channel 14 has 7 channels.\n",
      "Computing PCA features for channel 15 (phase2)...\n",
      "No duplicate events found for channel 14 in phase2\n",
      "Clustering for channel 2 (phase2)...\n",
      "Found 1 clusters for channel 2 (phase2)...\n",
      "Neighboorhood of channel 12 has 7 channels.\n",
      "Computing PCA features for channel 13 (phase2)...\n",
      "No duplicate events found for channel 12 in phase2\n",
      "Clustering for channel 26 (phase2)...\n",
      "Found 1 clusters for channel 26 (phase2)...\n",
      "Neighboorhood of channel 27 has 7 channels.\n",
      "Computing PCA features for channel 28 (phase2)...\n",
      "No duplicate events found for channel 27 in phase2\n",
      "Clustering for channel 15 (phase2)...\n",
      "Found 1 clusters for channel 15 (phase2)...\n",
      "Neighboorhood of channel 28 has 6 channels.\n",
      "Computing PCA features for channel 29 (phase2)...\n",
      "No duplicate events found for channel 28 in phase2\n",
      "Clustering for channel 13 (phase2)...\n",
      "Found 1 clusters for channel 13 (phase2)...\n",
      "Clustering for channel 29 (phase2)...\n",
      "Found 1 clusters for channel 29 (phase2)...\n",
      "Neighboorhood of channel 16 has 7 channels.\n",
      "Computing PCA features for channel 17 (phase2)...\n",
      "No duplicate events found for channel 16 in phase2\n",
      "Neighboorhood of channel 13 has 7 channels.\n",
      "Computing PCA features for channel 14 (phase2)...\n",
      "No duplicate events found for channel 13 in phase2\n",
      "Clustering for channel 17 (phase2)...\n",
      "Found 1 clusters for channel 17 (phase2)...\n",
      "Neighboorhood of channel 26 has 7 channels.\n",
      "Computing PCA features for channel 27 (phase2)...\n",
      "No duplicate events found for channel 26 in phase2\n",
      "Clustering for channel 27 (phase2)...Clustering for channel 14 (phase2)...\n",
      "\n",
      "Found 1 clusters for channel 14 (phase2)...\n",
      "Found 1 clusters for channel 27 (phase2)...\n",
      "Neighboorhood of channel 18 has 7 channels.\n",
      "Computing PCA features for channel 19 (phase2)...\n",
      "No duplicate events found for channel 18 in phase2\n",
      "Neighboorhood of channel 11 has 7 channels.\n",
      "Computing PCA features for channel 12 (phase2)...Clustering for channel 28 (phase2)...\n",
      "\n",
      "No duplicate events found for channel 11 in phase2\n",
      "Found 1 clusters for channel 28 (phase2)...\n",
      "Neighboorhood of channel 15 has 7 channels.\n",
      "Computing PCA features for channel 16 (phase2)...\n",
      "No duplicate events found for channel 15 in phase2\n",
      "Clustering for channel 25 (phase2)...\n",
      "Found 1 clusters for channel 25 (phase2)...\n",
      "Neighboorhood of channel 9 has 7 channels.\n",
      "Computing PCA features for channel 10 (phase2)...\n",
      "No duplicate events found for channel 9 in phase2\n",
      "Clustering for channel 12 (phase2)...\n",
      "Found 1 clusters for channel 12 (phase2)...\n",
      "Neighboorhood of channel 10 has 7 channels.\n",
      "Computing PCA features for channel 11 (phase2)...\n",
      "No duplicate events found for channel 10 in phase2\n",
      "Clustering for channel 19 (phase2)...\n",
      "Found 1 clusters for channel 19 (phase2)...\n",
      "Neighboorhood of channel 3 has 7 channels.\n",
      "Computing PCA features for channel 4 (phase2)...\n",
      "No duplicate events found for channel 3 in phase2\n",
      "Clustering for channel 11 (phase2)...\n",
      "Found 1 clusters for channel 11 (phase2)...\n",
      "Neighboorhood of channel 6 has 7 channels.\n",
      "Computing PCA features for channel 7 (phase2)...\n",
      "No duplicate events found for channel 6 in phase2\n",
      "Clustering for channel 4 (phase2)...\n",
      "Found 1 clusters for channel 4 (phase2)...\n",
      "Neighboorhood of channel 23 has 7 channels.\n",
      "Computing PCA features for channel 24 (phase2)...\n",
      "No duplicate events found for channel 23 in phase2\n",
      "Clustering for channel 7 (phase2)...\n",
      "Found 1 clusters for channel 7 (phase2)...\n",
      "Neighboorhood of channel 22 has 7 channels.\n",
      "Computing PCA features for channel 23 (phase2)...\n",
      "No duplicate events found for channel 22 in phase2\n",
      "Clustering for channel 23 (phase2)...Clustering for channel 16 (phase2)...\n",
      "\n",
      "Found 1 clusters for channel 16 (phase2)...\n",
      "Found 1 clusters for channel 23 (phase2)...\n",
      "Neighboorhood of channel 5 has 7 channels.\n",
      "Computing PCA features for channel 6 (phase2)...\n",
      "No duplicate events found for channel 5 in phase2\n",
      "Neighboorhood of channel 20 has 7 channels.\n",
      "Computing PCA features for channel 21 (phase2)...\n",
      "No duplicate events found for channel 20 in phase2\n",
      "Clustering for channel 10 (phase2)...\n",
      "Found 1 clusters for channel 10 (phase2)...\n",
      "Neighboorhood of channel 2 has 6 channels.\n",
      "Computing PCA features for channel 3 (phase2)...\n",
      "No duplicate events found for channel 2 in phase2\n",
      "Clustering for channel 24 (phase2)...\n",
      "Found 1 clusters for channel 24 (phase2)...\n",
      "Clustering for channel 21 (phase2)...\n",
      "Found 1 clusters for channel 21 (phase2)...\n",
      "Neighboorhood of channel 21 has 7 channels.\n",
      "Computing PCA features for channel 22 (phase2)...\n",
      "No duplicate events found for channel 21 in phase2\n",
      "Clustering for channel 6 (phase2)...\n",
      "Found 1 clusters for channel 6 (phase2)...\n",
      "Neighboorhood of channel 7 has 7 channels.\n",
      "Clustering for channel 22 (phase2)...\n",
      "Found 1 clusters for channel 22 (phase2)...\n",
      "Computing PCA features for channel 8 (phase2)...\n",
      "No duplicate events found for channel 7 in phase2\n",
      "Clustering for channel 3 (phase2)...\n",
      "Found 1 clusters for channel 3 (phase2)...\n",
      "Neighboorhood of channel 0 has 4 channels.\n",
      "Computing PCA features for channel 1 (phase2)...\n",
      "No duplicate events found for channel 0 in phase2\n",
      "Clustering for channel 1 (phase2)...\n",
      "Found 1 clusters for channel 1 (phase2)...\n",
      "Neighboorhood of channel 30 has 4 channels.\n",
      "Computing PCA features for channel 31 (phase2)...\n",
      "No duplicate events found for channel 30 in phase2\n",
      "Clustering for channel 31 (phase2)...\n",
      "Found 0 clusters for channel 31 (phase2)...\n",
      "Clustering for channel 8 (phase2)...\n",
      "Found 1 clusters for channel 8 (phase2)...\n",
      "Neighboorhood of channel 19 has 7 channels.\n",
      "Computing PCA features for channel 20 (phase2)...\n",
      "No duplicate events found for channel 19 in phase2\n",
      "Clustering for channel 20 (phase2)...\n",
      "Found 1 clusters for channel 20 (phase2)...\n",
      "Preparing output...\n",
      "Done with ms4alg.\n",
      "Cleaning tempdir::::: /home/cb/wrk/zOther/data/tmp/tmpr9_xzjwk/tmpo_xved1i\n",
      "mountainsort4 run time 5.69s\n",
      "Saving sorting results...\n"
     ]
    },
    {
     "name": "stderr",
     "output_type": "stream",
     "text": [
      "/home/cb/miniconda3/envs/spy/lib/python3.9/site-packages/spikeinterface/core/basesorting.py:212: UserWarning: The registered recording will not be persistent on disk, but only available in memory\n",
      "  warnings.warn(\"The registered recording will not be persistent on disk, but only available in memory\")\n",
      "/home/cb/miniconda3/envs/spy/lib/python3.9/tempfile.py:821: ResourceWarning: Implicitly cleaning up <TemporaryDirectory '/home/cb/wrk/zOther/data/tmp/tmpr9_xzjwk'>\n",
      "  _warnings.warn(warn_message, ResourceWarning)\n"
     ]
    }
   ],
   "source": [
    "# [(sgs.SpikeSortingSelection & ss_key).proj()]\n",
    "sgs.SpikeSorting.populate()"
   ]
  },
  {
   "cell_type": "markdown",
   "metadata": {},
   "source": [
    "#### Check to make sure the table populated\n"
   ]
  },
  {
   "cell_type": "code",
   "execution_count": 63,
   "metadata": {},
   "outputs": [
    {
     "data": {
      "text/html": [
       "\n",
       "    \n",
       "    <style type=\"text/css\">\n",
       "        .Table{\n",
       "            border-collapse:collapse;\n",
       "        }\n",
       "        .Table th{\n",
       "            background: #A0A0A0; color: #ffffff; padding:4px; border:#f0e0e0 1px solid;\n",
       "            font-weight: normal; font-family: monospace; font-size: 100%;\n",
       "        }\n",
       "        .Table td{\n",
       "            padding:4px; border:#f0e0e0 1px solid; font-size:100%;\n",
       "        }\n",
       "        .Table tr:nth-child(odd){\n",
       "            background: #ffffff;\n",
       "            color: #000000;\n",
       "        }\n",
       "        .Table tr:nth-child(even){\n",
       "            background: #f3f1ff;\n",
       "            color: #000000;\n",
       "        }\n",
       "        /* Tooltip container */\n",
       "        .djtooltip {\n",
       "        }\n",
       "        /* Tooltip text */\n",
       "        .djtooltip .djtooltiptext {\n",
       "            visibility: hidden;\n",
       "            width: 120px;\n",
       "            background-color: black;\n",
       "            color: #fff;\n",
       "            text-align: center;\n",
       "            padding: 5px 0;\n",
       "            border-radius: 6px;\n",
       "            /* Position the tooltip text - see examples below! */\n",
       "            position: absolute;\n",
       "            z-index: 1;\n",
       "        }\n",
       "        #primary {\n",
       "            font-weight: bold;\n",
       "            color: black;\n",
       "        }\n",
       "        #nonprimary {\n",
       "            font-weight: normal;\n",
       "            color: white;\n",
       "        }\n",
       "\n",
       "        /* Show the tooltip text when you mouse over the tooltip container */\n",
       "        .djtooltip:hover .djtooltiptext {\n",
       "            visibility: visible;\n",
       "        }\n",
       "    </style>\n",
       "    \n",
       "    <b></b>\n",
       "        <div style=\"max-height:1000px;max-width:1500px;overflow:auto;\">\n",
       "        <table border=\"1\" class=\"Table\">\n",
       "            <thead> <tr style=\"text-align: right;\"> <th> <div class=\"djtooltip\">\n",
       "                            <p id=\"primary\">nwb_file_name</p>\n",
       "                            <span class=\"djtooltiptext\">name of the NWB file</span>\n",
       "                        </div></th><th><div class=\"djtooltip\">\n",
       "                            <p id=\"primary\">sort_group_id</p>\n",
       "                            <span class=\"djtooltiptext\">identifier for a group of electrodes</span>\n",
       "                        </div></th><th><div class=\"djtooltip\">\n",
       "                            <p id=\"primary\">sort_interval_name</p>\n",
       "                            <span class=\"djtooltiptext\">name for this interval</span>\n",
       "                        </div></th><th><div class=\"djtooltip\">\n",
       "                            <p id=\"primary\">preproc_params_name</p>\n",
       "                            <span class=\"djtooltiptext\"></span>\n",
       "                        </div></th><th><div class=\"djtooltip\">\n",
       "                            <p id=\"primary\">team_name</p>\n",
       "                            <span class=\"djtooltiptext\"></span>\n",
       "                        </div></th><th><div class=\"djtooltip\">\n",
       "                            <p id=\"primary\">sorter</p>\n",
       "                            <span class=\"djtooltiptext\"></span>\n",
       "                        </div></th><th><div class=\"djtooltip\">\n",
       "                            <p id=\"primary\">sorter_params_name</p>\n",
       "                            <span class=\"djtooltiptext\"></span>\n",
       "                        </div></th><th><div class=\"djtooltip\">\n",
       "                            <p id=\"primary\">artifact_removed_interval_list_name</p>\n",
       "                            <span class=\"djtooltiptext\"></span>\n",
       "                        </div></th><th><div class=\"djtooltip\">\n",
       "                            <p id=\"nonprimary\">sorting_path</p>\n",
       "                            <span class=\"djtooltiptext\"></span>\n",
       "                        </div></th><th><div class=\"djtooltip\">\n",
       "                            <p id=\"nonprimary\">time_of_sort</p>\n",
       "                            <span class=\"djtooltiptext\">in Unix time, to the nearest second</span>\n",
       "                        </div> </th> </tr> </thead>\n",
       "            <tbody> <tr> <td>minirec20230622_.nwb</td>\n",
       "<td>0</td>\n",
       "<td>01_s1_first9</td>\n",
       "<td>default_hippocampus</td>\n",
       "<td>My Team</td>\n",
       "<td>mountainsort4</td>\n",
       "<td>hippocampus_tutorial</td>\n",
       "<td>minirec20230622_.nwb_01_s1_first9_0_default_hippocampus_none_artifact_removed_valid_times</td>\n",
       "<td>/home/cb/wrk/zOther/data/\"sorting\"/minirec20230622_.nwb_01_s1_first9_0_default_hippocampus_3335c236_spikesorting</td>\n",
       "<td>1689971050</td> </tr> </tbody>\n",
       "        </table>\n",
       "        \n",
       "        <p>Total: 1</p></div>\n",
       "        "
      ],
      "text/plain": [
       "*nwb_file_name *sort_group_id *sort_interval *preproc_param *team_name    *sorter        *sorter_params *artifact_remo sorting_path   time_of_sort  \n",
       "+------------+ +------------+ +------------+ +------------+ +-----------+ +------------+ +------------+ +------------+ +------------+ +------------+\n",
       "minirec2023062 0              01_s1_first9   default_hippoc My Team       mountainsort4  hippocampus_tu minirec2023062 /home/cb/wrk/z 1689971050    \n",
       " (Total: 1)"
      ]
     },
     "execution_count": 63,
     "metadata": {},
     "output_type": "execute_result"
    }
   ],
   "source": [
    "sgs.SpikeSorting() & ss_key"
   ]
  },
  {
   "cell_type": "markdown",
   "metadata": {},
   "source": [
    "## Next Steps\n",
    "\n",
    "Congratulations, you've spike sorted! See our\n",
    "[next notebook](./03_Curation.ipynb) for curation steps.\n"
   ]
  }
 ],
 "metadata": {
  "kernelspec": {
   "display_name": "Python 3.10.5 64-bit",
   "language": "python",
   "name": "python3"
  },
  "language_info": {
   "codemirror_mode": {
    "name": "ipython",
    "version": 3
   },
   "file_extension": ".py",
   "mimetype": "text/x-python",
   "name": "python",
   "nbconvert_exporter": "python",
   "pygments_lexer": "ipython3",
   "version": "3.9.18"
  },
  "vscode": {
   "interpreter": {
    "hash": "8a94588eda9d64d9e9a351ab8144e55b1fabf5113b54e67dd26a8c27df0381b3"
   }
  }
 },
 "nbformat": 4,
 "nbformat_minor": 4
}
