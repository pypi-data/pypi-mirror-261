{
 "cells": [
  {
   "attachments": {},
   "cell_type": "markdown",
   "metadata": {},
   "source": [
    "# Curation\n"
   ]
  },
  {
   "cell_type": "markdown",
   "metadata": {},
   "source": [
    "## Overview\n"
   ]
  },
  {
   "cell_type": "markdown",
   "metadata": {},
   "source": [
    "_Developer Note:_ if you may make a PR in the future, be sure to copy this\n",
    "notebook, and use the `gitignore` prefix `temp` to avoid future conflicts.\n",
    "\n",
    "This is one notebook in a multi-part series on Spyglass.\n",
    "\n",
    "- To set up your Spyglass environment and database, see\n",
    "  [this notebook](./00_Setup.ipynb)\n",
    "- For a more detailed introduction to DataJoint with inserts, see\n",
    "  [this notebook](./01_Insert_Data.ipynb)\n",
    "- [The Spike Sorting notebook](./10_Spike_SortingV0.ipynb) is a mandatory\n",
    "  prerequisite to Curation.\n"
   ]
  },
  {
   "cell_type": "markdown",
   "metadata": {},
   "source": [
    "## Imports\n"
   ]
  },
  {
   "cell_type": "code",
   "execution_count": 6,
   "metadata": {},
   "outputs": [
    {
     "name": "stderr",
     "output_type": "stream",
     "text": [
      "[2023-07-21 13:55:48,211][INFO]: Connecting root@localhost:3306\n",
      "[2023-07-21 13:55:48,242][INFO]: Connected root@localhost:3306\n",
      "/home/cb/miniconda3/envs/spy/lib/python3.9/site-packages/spikeinterface/sortingcomponents/peak_detection.py:643: NumbaDeprecationWarning: \u001b[1mThe 'nopython' keyword argument was not supplied to the 'numba.jit' decorator. The implicit default value for this argument is currently False, but it will be changed to True in Numba 0.59.0. See https://numba.readthedocs.io/en/stable/reference/deprecation.html#deprecation-of-object-mode-fall-back-behaviour-when-using-jit for details.\u001b[0m\n",
      "  @numba.jit(parallel=False)\n",
      "/home/cb/miniconda3/envs/spy/lib/python3.9/site-packages/spikeinterface/sortingcomponents/peak_detection.py:668: NumbaDeprecationWarning: \u001b[1mThe 'nopython' keyword argument was not supplied to the 'numba.jit' decorator. The implicit default value for this argument is currently False, but it will be changed to True in Numba 0.59.0. See https://numba.readthedocs.io/en/stable/reference/deprecation.html#deprecation-of-object-mode-fall-back-behaviour-when-using-jit for details.\u001b[0m\n",
      "  @numba.jit(parallel=False)\n"
     ]
    }
   ],
   "source": [
    "import os\n",
    "import warnings\n",
    "import datajoint as dj\n",
    "\n",
    "warnings.simplefilter(\"ignore\", category=DeprecationWarning)\n",
    "warnings.simplefilter(\"ignore\", category=ResourceWarning)\n",
    "\n",
    "# change to the upper level folder to detect dj_local_conf.json\n",
    "if os.path.basename(os.getcwd()) == \"notebooks\":\n",
    "    os.chdir(\"..\")\n",
    "dj.config.load(\"dj_local_conf.json\")  # load config for database connection info\n",
    "\n",
    "from spyglass.spikesorting.v0 import SpikeSorting"
   ]
  },
  {
   "cell_type": "markdown",
   "metadata": {},
   "source": [
    "## Spikes Sorted\n",
    "\n",
    "Let's check that the sorting was successful in the previous notebook.\n"
   ]
  },
  {
   "cell_type": "code",
   "execution_count": 9,
   "metadata": {},
   "outputs": [
    {
     "data": {
      "text/html": [
       "\n",
       "    \n",
       "    <style type=\"text/css\">\n",
       "        .Table{\n",
       "            border-collapse:collapse;\n",
       "        }\n",
       "        .Table th{\n",
       "            background: #A0A0A0; color: #ffffff; padding:4px; border:#f0e0e0 1px solid;\n",
       "            font-weight: normal; font-family: monospace; font-size: 100%;\n",
       "        }\n",
       "        .Table td{\n",
       "            padding:4px; border:#f0e0e0 1px solid; font-size:100%;\n",
       "        }\n",
       "        .Table tr:nth-child(odd){\n",
       "            background: #ffffff;\n",
       "            color: #000000;\n",
       "        }\n",
       "        .Table tr:nth-child(even){\n",
       "            background: #f3f1ff;\n",
       "            color: #000000;\n",
       "        }\n",
       "        /* Tooltip container */\n",
       "        .djtooltip {\n",
       "        }\n",
       "        /* Tooltip text */\n",
       "        .djtooltip .djtooltiptext {\n",
       "            visibility: hidden;\n",
       "            width: 120px;\n",
       "            background-color: black;\n",
       "            color: #fff;\n",
       "            text-align: center;\n",
       "            padding: 5px 0;\n",
       "            border-radius: 6px;\n",
       "            /* Position the tooltip text - see examples below! */\n",
       "            position: absolute;\n",
       "            z-index: 1;\n",
       "        }\n",
       "        #primary {\n",
       "            font-weight: bold;\n",
       "            color: black;\n",
       "        }\n",
       "        #nonprimary {\n",
       "            font-weight: normal;\n",
       "            color: white;\n",
       "        }\n",
       "\n",
       "        /* Show the tooltip text when you mouse over the tooltip container */\n",
       "        .djtooltip:hover .djtooltiptext {\n",
       "            visibility: visible;\n",
       "        }\n",
       "    </style>\n",
       "    \n",
       "    <b></b>\n",
       "        <div style=\"max-height:1000px;max-width:1500px;overflow:auto;\">\n",
       "        <table border=\"1\" class=\"Table\">\n",
       "            <thead> <tr style=\"text-align: right;\"> <th> <div class=\"djtooltip\">\n",
       "                            <p id=\"primary\">nwb_file_name</p>\n",
       "                            <span class=\"djtooltiptext\">name of the NWB file</span>\n",
       "                        </div></th><th><div class=\"djtooltip\">\n",
       "                            <p id=\"primary\">sort_group_id</p>\n",
       "                            <span class=\"djtooltiptext\">identifier for a group of electrodes</span>\n",
       "                        </div></th><th><div class=\"djtooltip\">\n",
       "                            <p id=\"primary\">sort_interval_name</p>\n",
       "                            <span class=\"djtooltiptext\">name for this interval</span>\n",
       "                        </div></th><th><div class=\"djtooltip\">\n",
       "                            <p id=\"primary\">preproc_params_name</p>\n",
       "                            <span class=\"djtooltiptext\"></span>\n",
       "                        </div></th><th><div class=\"djtooltip\">\n",
       "                            <p id=\"primary\">team_name</p>\n",
       "                            <span class=\"djtooltiptext\"></span>\n",
       "                        </div></th><th><div class=\"djtooltip\">\n",
       "                            <p id=\"primary\">sorter</p>\n",
       "                            <span class=\"djtooltiptext\"></span>\n",
       "                        </div></th><th><div class=\"djtooltip\">\n",
       "                            <p id=\"primary\">sorter_params_name</p>\n",
       "                            <span class=\"djtooltiptext\"></span>\n",
       "                        </div></th><th><div class=\"djtooltip\">\n",
       "                            <p id=\"primary\">artifact_removed_interval_list_name</p>\n",
       "                            <span class=\"djtooltiptext\"></span>\n",
       "                        </div></th><th><div class=\"djtooltip\">\n",
       "                            <p id=\"nonprimary\">sorting_path</p>\n",
       "                            <span class=\"djtooltiptext\"></span>\n",
       "                        </div></th><th><div class=\"djtooltip\">\n",
       "                            <p id=\"nonprimary\">time_of_sort</p>\n",
       "                            <span class=\"djtooltiptext\">in Unix time, to the nearest second</span>\n",
       "                        </div> </th> </tr> </thead>\n",
       "            <tbody> <tr> <td>minirec20230622_.nwb</td>\n",
       "<td>0</td>\n",
       "<td>01_s1_first9</td>\n",
       "<td>default_hippocampus</td>\n",
       "<td>My Team</td>\n",
       "<td>mountainsort4</td>\n",
       "<td>hippocampus_tutorial</td>\n",
       "<td>minirec20230622_.nwb_01_s1_first9_0_default_hippocampus_none_artifact_removed_valid_times</td>\n",
       "<td>/home/cb/wrk/zOther/data/\"sorting\"/minirec20230622_.nwb_01_s1_first9_0_default_hippocampus_3335c236_spikesorting</td>\n",
       "<td>1689971050</td> </tr> </tbody>\n",
       "        </table>\n",
       "        \n",
       "        <p>Total: 1</p></div>\n",
       "        "
      ],
      "text/plain": [
       "*nwb_file_name *sort_group_id *sort_interval *preproc_param *team_name    *sorter        *sorter_params *artifact_remo sorting_path   time_of_sort  \n",
       "+------------+ +------------+ +------------+ +------------+ +-----------+ +------------+ +------------+ +------------+ +------------+ +------------+\n",
       "minirec2023062 0              01_s1_first9   default_hippoc My Team       mountainsort4  hippocampus_tu minirec2023062 /home/cb/wrk/z 1689971050    \n",
       " (Total: 1)"
      ]
     },
     "execution_count": 9,
     "metadata": {},
     "output_type": "execute_result"
    }
   ],
   "source": [
    "# Define the name of the file that you copied and renamed from previous tutorials\n",
    "nwb_file_name = \"minirec20230622.nwb\"\n",
    "nwb_copy_file_name = \"minirec20230622_.nwb\"\n",
    "SpikeSorting & {\"nwb_file_name\": nwb_copy_file_name}"
   ]
  },
  {
   "attachments": {},
   "cell_type": "markdown",
   "metadata": {},
   "source": [
    "## `sortingview` web app\n"
   ]
  },
  {
   "attachments": {},
   "cell_type": "markdown",
   "metadata": {},
   "source": [
    "As of June 2021, members of the Frank Lab can use the `sortingview` web app for\n",
    "manual curation.\n"
   ]
  },
  {
   "cell_type": "code",
   "execution_count": null,
   "metadata": {},
   "outputs": [],
   "source": [
    "# ERROR: curation_feed_uri not a field in SpikeSorting"
   ]
  },
  {
   "cell_type": "code",
   "execution_count": null,
   "metadata": {},
   "outputs": [],
   "source": [
    "workspace_uri = (SpikeSorting & {\"nwb_file_name\": nwb_copy_file_name}).fetch1(\n",
    "    \"curation_feed_uri\"\n",
    ")\n",
    "print(\n",
    "    f\"https://sortingview.vercel.app/workspace?workspace={workspace_uri}&channel=franklab\"\n",
    ")"
   ]
  },
  {
   "attachments": {},
   "cell_type": "markdown",
   "metadata": {},
   "source": [
    "This will take you to a workspace on the `sortingview` app. The workspace, which\n",
    "you can think of as a list of recording and associated sorting objects, was\n",
    "created at the end of spike sorting. On the workspace view, you will see a set\n",
    "of recordings that have been added to the workspace.\n",
    "\n",
    "![Workspace view](./../notebook-images/workspace.png)\n",
    "\n",
    "Clicking on a recording then takes you to a page that gives you information\n",
    "about the recording as well as the associated sorting objects.\n",
    "\n",
    "![Recording view](./../notebook-images/recording.png)\n",
    "\n",
    "Click on a sorting to see the curation view. Try exploring the many\n",
    "visualization widgets.\n",
    "\n",
    "![Unit table](./../notebook-images/unittable.png)\n",
    "\n",
    "The most important is the `Units Table` and the `Curation` menu, which allows\n",
    "you to give labels to the units. The curation labels will persist even if you\n",
    "suddenly lose connection to the app; this is because the curation actions are\n",
    "appended to the workspace as soon as they are created. Note that if you are not\n",
    "logged in with your Google account, `Curation` menu may not be visible. Log in\n",
    "and refresh the page to access this feature.\n",
    "\n",
    "![Curation](./../notebook-images/curation.png)\n"
   ]
  },
  {
   "cell_type": "markdown",
   "metadata": {},
   "source": [
    "## Up Next\n",
    "\n",
    "Next, we'll turn our attention to [LFP data](./12_LFP.ipynb) data.\n"
   ]
  }
 ],
 "metadata": {
  "kernelspec": {
   "display_name": "base",
   "language": "python",
   "name": "python3"
  },
  "language_info": {
   "codemirror_mode": {
    "name": "ipython",
    "version": 3
   },
   "file_extension": ".py",
   "mimetype": "text/x-python",
   "name": "python",
   "nbconvert_exporter": "python",
   "pygments_lexer": "ipython3",
   "version": "3.9.16"
  },
  "vscode": {
   "interpreter": {
    "hash": "660bf1f5e0ab56266266a9ce589faf8a830d2aef7f15e27b16e9135d893e3d0b"
   }
  }
 },
 "nbformat": 4,
 "nbformat_minor": 4
}
