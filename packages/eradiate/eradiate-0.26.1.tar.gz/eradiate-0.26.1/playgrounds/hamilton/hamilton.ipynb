{
 "cells": [
  {
   "cell_type": "code",
   "execution_count": null,
   "metadata": {},
   "outputs": [],
   "source": [
    "%load_ext eradiate.notebook"
   ]
  },
  {
   "cell_type": "code",
   "execution_count": null,
   "metadata": {},
   "outputs": [],
   "source": [
    "import importlib  # noqa: E402\n",
    "\n",
    "import eradiate  # noqa: E402\n",
    "\n",
    "eradiate.set_mode(\"ckd\")"
   ]
  },
  {
   "cell_type": "code",
   "execution_count": null,
   "metadata": {},
   "outputs": [],
   "source": [
    "import eradiate.pipelines.core as core  # noqa: E402\n",
    "import eradiate.pipelines.logic as logic  # noqa: E402\n",
    "\n",
    "importlib.reload(logic)\n",
    "importlib.reload(core)\n",
    "\n",
    "exp = eradiate.experiments.AtmosphereExperiment()\n",
    "# drv = core.driver(\"distant_flux\")\n",
    "# drv = core.driver(\"hemispherical_distant\")\n",
    "# drv = core.driver(\"multi_distant\")\n",
    "# drv = core.driver(\"perspective\")\n",
    "# drv = core.driver(\"radiancemeter\")\n",
    "exp.process()\n",
    "\n",
    "config = core.config(exp.measures[0])\n",
    "drv = core.driver(config)\n",
    "display(core.list_variables(drv, as_table=True))\n",
    "drv.display_all_functions(orient=\"LR\", deduplicate_inputs=True)"
   ]
  },
  {
   "cell_type": "code",
   "execution_count": null,
   "metadata": {},
   "outputs": [],
   "source": [
    "[x.name for x in drv.list_available_variables() if x.tags.get(\"final\") == \"true\"]"
   ]
  },
  {
   "cell_type": "code",
   "execution_count": null,
   "metadata": {},
   "outputs": [],
   "source": [
    "drv.visualize_execution(\n",
    "    final_vars=[\"radiance\"],\n",
    "    inputs={\n",
    "        \"bitmaps\": None,\n",
    "        \"spectral_set\": None,\n",
    "        \"measure\": None,\n",
    "        \"illumination\": None,\n",
    "    },\n",
    "    overrides={\"viewing_angles\": None},\n",
    "    orient=\"LR\",\n",
    "    deduplicate_inputs=True,\n",
    ")"
   ]
  },
  {
   "cell_type": "code",
   "execution_count": null,
   "metadata": {},
   "outputs": [],
   "source": [
    "eradiate.set_mode(\"ckd\")\n",
    "\n",
    "# mi_results = list(exp.measures[0].mi_results.values())\n",
    "drv = exp.pipeline(exp.measures[0])\n",
    "# display(drv.display_all_functions(orient=\"TB\", deduplicate_inputs=True))\n",
    "inputs = exp._pipeline_inputs(0)\n",
    "# display(inputs)\n",
    "outputs = eradiate.pipelines.outputs(drv)\n",
    "display(\n",
    "    exp.pipeline(exp.measures[0]).visualize_execution(\n",
    "        final_vars=outputs,\n",
    "        inputs=inputs,\n",
    "        orient=\"LR\",\n",
    "        deduplicate_inputs=True,\n",
    "        hide_inputs=True,\n",
    "    )\n",
    ")\n",
    "exp.postprocess()\n",
    "display(exp.results[\"measure\"])\n",
    "# xr.Dataset({var: exp.results[\"measure\"][var] for var in outputs})"
   ]
  },
  {
   "cell_type": "code",
   "execution_count": null,
   "metadata": {},
   "outputs": [],
   "source": []
  }
 ],
 "metadata": {
  "kernelspec": {
   "display_name": "eradiate",
   "language": "python",
   "name": "python3"
  },
  "language_info": {
   "codemirror_mode": {
    "name": "ipython",
    "version": 3
   },
   "file_extension": ".py",
   "mimetype": "text/x-python",
   "name": "python",
   "nbconvert_exporter": "python",
   "pygments_lexer": "ipython3",
   "version": "3.9.18"
  }
 },
 "nbformat": 4,
 "nbformat_minor": 2
}
