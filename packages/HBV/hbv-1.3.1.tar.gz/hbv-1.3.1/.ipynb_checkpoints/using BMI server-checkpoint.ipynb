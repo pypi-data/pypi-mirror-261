{
 "cells": [
  {
   "cell_type": "code",
   "execution_count": 2,
   "id": "63cbf698-0157-4fb9-a294-0fba3b4de43e",
   "metadata": {},
   "outputs": [],
   "source": [
    "import grpc"
   ]
  },
  {
   "cell_type": "code",
   "execution_count": 2,
   "id": "4b9a6b56-c5e5-4f7d-83ca-fbbbef7622a0",
   "metadata": {},
   "outputs": [],
   "source": [
    "# from grpc4bmi.bmi_client_docker import BmiClientDocker"
   ]
  },
  {
   "cell_type": "code",
   "execution_count": 1,
   "id": "99b05573-fda7-4871-b4c7-38f706afd6c8",
   "metadata": {},
   "outputs": [],
   "source": [
    "# model = BmiClientDocker(image='daafip/hbv-bmi-grpc4bmi:v0.1.0', image_port=55555,\n",
    "#                         work_dir=\"./input\")"
   ]
  },
  {
   "cell_type": "code",
   "execution_count": 1,
   "id": "610b7646-092c-4229-a26a-36a72434292e",
   "metadata": {},
   "outputs": [
    {
     "data": {
      "text/plain": [
       "'test'"
      ]
     },
     "execution_count": 1,
     "metadata": {},
     "output_type": "execute_result"
    }
   ],
   "source": [
    "\"test\""
   ]
  },
  {
   "cell_type": "code",
   "execution_count": null,
   "id": "05633260-b85e-44ec-9432-4b9b645eb3df",
   "metadata": {},
   "outputs": [],
   "source": []
  }
 ],
 "metadata": {
  "kernelspec": {
   "display_name": "Python 3 (ipykernel)",
   "language": "python",
   "name": "python3"
  },
  "language_info": {
   "codemirror_mode": {
    "name": "ipython",
    "version": 3
   },
   "file_extension": ".py",
   "mimetype": "text/x-python",
   "name": "python",
   "nbconvert_exporter": "python",
   "pygments_lexer": "ipython3",
   "version": "3.12.0"
  }
 },
 "nbformat": 4,
 "nbformat_minor": 5
}
