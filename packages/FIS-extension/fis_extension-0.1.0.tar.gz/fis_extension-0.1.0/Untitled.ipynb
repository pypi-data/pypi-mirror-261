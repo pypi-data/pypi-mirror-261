{
 "cells": [
  {
   "cell_type": "code",
   "execution_count": null,
   "id": "d62b2553-8af7-4b80-8699-83c2129a2184",
   "metadata": {},
   "outputs": [],
   "source": [
    "FIS_labextension button clicked!\n"
   ]
  },
  {
   "cell_type": "code",
   "execution_count": null,
   "id": "d524f378-1448-40fb-a80f-966795e6b2e5",
   "metadata": {},
   "outputs": [],
   "source": []
  },
  {
   "cell_type": "code",
   "execution_count": null,
   "id": "8d68bab3-c527-4c9d-a651-cec6c6dfb6c6",
   "metadata": {},
   "outputs": [],
   "source": []
  },
  {
   "cell_type": "code",
   "execution_count": null,
   "id": "6d353c4c-0306-46e6-b3ce-9ff6147dedf7",
   "metadata": {},
   "outputs": [
    {
     "name": "stderr",
     "output_type": "stream",
     "text": [
      "Error: TypeError: Cannot set properties of undefined (setting 'text')\n"
     ]
    }
   ],
   "source": [
    "provide me python code for flask application"
   ]
  }
 ],
 "metadata": {
  "kernelspec": {
   "display_name": "Python 3 (ipykernel)",
   "language": "python",
   "name": "python3"
  },
  "language_info": {
   "codemirror_mode": {
    "name": "ipython",
    "version": 3
   },
   "file_extension": ".py",
   "mimetype": "text/x-python",
   "name": "python",
   "nbconvert_exporter": "python",
   "pygments_lexer": "ipython3",
   "version": "3.12.2"
  }
 },
 "nbformat": 4,
 "nbformat_minor": 5
}
