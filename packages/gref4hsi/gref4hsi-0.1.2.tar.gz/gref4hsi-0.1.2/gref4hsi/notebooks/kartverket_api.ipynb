{
 "cells": [
  {
   "cell_type": "code",
   "execution_count": 10,
   "metadata": {},
   "outputs": [],
   "source": [
    "import urllib.request\n",
    "\n",
    "\n",
    "\n",
    "\n",
    "\n",
    "url_request = r\"https://api.sehavniva.no/tideapi.php?lat=58.974339&lon=5.730121&fromtime=2024-02-15T00%3A00&totime=2024-02-16T00%3A00&datatype=all&refcode=cd&place=&file=&lang=nn&interval=10&dst=0&tzone=&tide_request=locationdata\"\n",
    "\n",
    "with urllib.request.urlopen(url_request) as response:\n",
    "    with open('test_tide.xml', 'wb') as f:  # Open the file in binary write mode\n",
    "        f.write(response.read())  # Write the response content directly to the file\n"
   ]
  },
  {
   "cell_type": "code",
   "execution_count": 11,
   "metadata": {},
   "outputs": [
    {
     "name": "stdout",
     "output_type": "stream",
     "text": [
      "https://api.sehavniva.no/tideapi.php?lat=58.974339&lon=5.730121&fromtime=2024-02-15T00%3A00&totime=2024-02-16T00%3A00&datatype=all&refcode=cd&place=&file=&lang=nn&interval=10&dst=0&tzone=&tide_request=locationdata\n"
     ]
    }
   ],
   "source": [
    "def generate_url(lat, lon, fromtime, totime, datatype='all', refcode='cd', place='', file='', lang='nn', interval=10, dst=0, tzone='', tide_request='locationdata'):\n",
    "    base_url = \"https://api.sehavniva.no/tideapi.php?\"\n",
    "    url_options = {\n",
    "        'lat': lat,\n",
    "        'lon': lon,\n",
    "        'fromtime': fromtime,\n",
    "        'totime': totime,\n",
    "        'datatype': datatype,\n",
    "        'refcode': refcode,\n",
    "        'place': place,\n",
    "        'file': file,\n",
    "        'lang': lang,\n",
    "        'interval': interval,\n",
    "        'dst': dst,\n",
    "        'tzone': tzone,\n",
    "        'tide_request': tide_request\n",
    "    }\n",
    "    url_params = urllib.parse.urlencode(url_options)\n",
    "    return base_url + url_params\n",
    "\n",
    "# Example usage\n",
    "lat = 58.974339\n",
    "lon = 5.730121\n",
    "fromtime = '2024-02-15T00:00'\n",
    "totime = '2024-02-16T00:00'\n",
    "\n",
    "url_request = generate_url(lat, lon, fromtime, totime)\n",
    "print(url_request)"
   ]
  },
  {
   "cell_type": "code",
   "execution_count": 34,
   "metadata": {},
   "outputs": [],
   "source": [
    "url_request = r\"https://ws.geonorge.no/hoydedata/v1/punkt?koordsys=4258&nord=63&ost=10\"\n",
    "\n",
    "with urllib.request.urlopen(url_request) as response:\n",
    "    with open('test_terrain.xml', 'wb') as f:  # Open the file in binary write mode\n",
    "        f.write(response.read())  # Write the response content directly to the file"
   ]
  },
  {
   "cell_type": "code",
   "execution_count": 40,
   "metadata": {},
   "outputs": [
    {
     "name": "stdout",
     "output_type": "stream",
     "text": [
      "Error: Failed to export DEM. Status code: 400\n"
     ]
    }
   ],
   "source": [
    "import requests\n",
    "base_url = r\"https://api.opentopodata.org/v1/aster30m?\"\n",
    "\n",
    "# Specify the bounding box coordinates (min_lon, min_lat, max_lon, max_lat)\n",
    "min_lon = 9\n",
    "min_lat = 63\n",
    "max_lon = 11\n",
    "max_lat = 64\n",
    "\n",
    "mapbox_api_key = 'pk.eyJ1IjoiaGFhdmFzbCIsImEiOiJjbHBpMTZ3cTMwZGVyMmpwNmg2N2piN2dxIn0.H0rJrSeeDjOc-NEtmMXMlA'\n",
    "\n",
    "bbox = [7.8881, ,13.3813,61.7]\n",
    "\n",
    "# Specify the output format (GeoTIFF or LAS)\n",
    "output_format = \"GTiff\"\n",
    "\n",
    "# Specify the output CRS (Coordinate Reference System) EPSG code\n",
    "output_epsg = 4326  # WGS84\n",
    "\n",
    "# Construct the request URL with parameters\n",
    "request_url = 'https://api.mapbox.com/styles/v1/mapbox/satellite-v9/static/10.636,60.0025,6,0/500x500?access_token={mapbox_api_key}'\n",
    "url_request = f\"{base_url}?minx={min_lon}&miny={min_lat}&maxx={max_lon}&maxy={max_lat}&outputFormat={output_format}&outputSRS=EPSG:{output_epsg}\"\n",
    "\n",
    "# Send the GET request to the Open Topography API\n",
    "response = requests.get(url_request)\n",
    "\n",
    "# Check if the request was successful\n",
    "if response.status_code == 200:\n",
    "    # Save the response content (DEM) to a file\n",
    "    with open(\"dem_output.tif\", \"wb\") as f:\n",
    "        f.write(response.content)\n",
    "    print(\"DEM exported successfully.\")\n",
    "else:\n",
    "    print(f\"Error: Failed to export DEM. Status code: {response.status_code}\")"
   ]
  },
  {
   "cell_type": "code",
   "execution_count": 32,
   "metadata": {},
   "outputs": [
    {
     "name": "stdout",
     "output_type": "stream",
     "text": [
      "b''\n",
      "Chart image saved successfully.\n"
     ]
    }
   ],
   "source": [
    "url_request = r\"https://ws.geonorge.no/hoydedata/v1/?service=WPS&request=execute&identifier=elevationChart&ost=8&nord=62\"\n",
    "\n",
    "import matplotlib.pyplot as plt\n",
    "# Make the GET request\n",
    "with urllib.request.urlopen(url_request) as response:\n",
    "    # Check if the request was successful\n",
    "    if response.status == 200:\n",
    "        # Save the response content (PNG image) to a file\n",
    "        with open(\"elevation_chart.png\", \"wb\") as f:\n",
    "            f.write(response.read())\n",
    "            print(response.read())\n",
    "        print(\"Chart image saved successfully.\")\n",
    "    else:\n",
    "        print(f\"Error: Failed to fetch chart image. Status code: {response.status}\")"
   ]
  },
  {
   "cell_type": "code",
   "execution_count": 1,
   "metadata": {},
   "outputs": [
    {
     "ename": "CalledProcessError",
     "evalue": "Command 'make -C C:\\Users\\haavasl\\AppData\\Local\\bopen\\elevation\\Cache\\SRTM1 download ENSURE_TILES=\"N41/N41E012.tif\"' returned non-zero exit status 1.",
     "output_type": "error",
     "traceback": [
      "\u001b[1;31m---------------------------------------------------------------------------\u001b[0m",
      "\u001b[1;31mCalledProcessError\u001b[0m                        Traceback (most recent call last)",
      "Cell \u001b[1;32mIn[1], line 3\u001b[0m\n\u001b[0;32m      1\u001b[0m \u001b[38;5;28;01mimport\u001b[39;00m \u001b[38;5;21;01melevation\u001b[39;00m\n\u001b[0;32m      2\u001b[0m \u001b[38;5;66;03m# clip the SRTM1 30m DEM of Rome and save it to Rome-DEM.tif\u001b[39;00m\n\u001b[1;32m----> 3\u001b[0m \u001b[43melevation\u001b[49m\u001b[38;5;241;43m.\u001b[39;49m\u001b[43mclip\u001b[49m\u001b[43m(\u001b[49m\u001b[43mbounds\u001b[49m\u001b[38;5;241;43m=\u001b[39;49m\u001b[43m(\u001b[49m\u001b[38;5;241;43m12.35\u001b[39;49m\u001b[43m,\u001b[49m\u001b[43m \u001b[49m\u001b[38;5;241;43m41.8\u001b[39;49m\u001b[43m,\u001b[49m\u001b[43m \u001b[49m\u001b[38;5;241;43m12.65\u001b[39;49m\u001b[43m,\u001b[49m\u001b[43m \u001b[49m\u001b[38;5;241;43m42\u001b[39;49m\u001b[43m)\u001b[49m\u001b[43m,\u001b[49m\u001b[43m \u001b[49m\u001b[43moutput\u001b[49m\u001b[38;5;241;43m=\u001b[39;49m\u001b[38;5;124;43m'\u001b[39;49m\u001b[38;5;124;43mRome-DEM.tif\u001b[39;49m\u001b[38;5;124;43m'\u001b[39;49m\u001b[43m)\u001b[49m\n\u001b[0;32m      4\u001b[0m \u001b[38;5;66;03m# clean up stale temporary files and fix the cache in the event of a server error\u001b[39;00m\n\u001b[0;32m      5\u001b[0m elevation\u001b[38;5;241m.\u001b[39mclean()\n",
      "File \u001b[1;32mc:\\Users\\haavasl\\AppData\\Local\\miniconda3\\envs\\hyperspectral_toolchain\\lib\\site-packages\\elevation\\datasource.py:216\u001b[0m, in \u001b[0;36mclip\u001b[1;34m(bounds, output, margin, **kwargs)\u001b[0m\n\u001b[0;32m    207\u001b[0m \u001b[38;5;250m\u001b[39m\u001b[38;5;124;03m\"\"\"Clip the DEM to given bounds.\u001b[39;00m\n\u001b[0;32m    208\u001b[0m \n\u001b[0;32m    209\u001b[0m \u001b[38;5;124;03m:param bounds: Output bounds in 'left bottom right top' order.\u001b[39;00m\n\u001b[1;32m   (...)\u001b[0m\n\u001b[0;32m    213\u001b[0m \u001b[38;5;124;03m:param product: DEM product choice.\u001b[39;00m\n\u001b[0;32m    214\u001b[0m \u001b[38;5;124;03m\"\"\"\u001b[39;00m\n\u001b[0;32m    215\u001b[0m bounds \u001b[38;5;241m=\u001b[39m build_bounds(bounds, margin\u001b[38;5;241m=\u001b[39mmargin)\n\u001b[1;32m--> 216\u001b[0m datasource_root \u001b[38;5;241m=\u001b[39m \u001b[43mseed\u001b[49m\u001b[43m(\u001b[49m\u001b[43mbounds\u001b[49m\u001b[38;5;241;43m=\u001b[39;49m\u001b[43mbounds\u001b[49m\u001b[43m,\u001b[49m\u001b[43m \u001b[49m\u001b[38;5;241;43m*\u001b[39;49m\u001b[38;5;241;43m*\u001b[39;49m\u001b[43mkwargs\u001b[49m\u001b[43m)\u001b[49m\n\u001b[0;32m    217\u001b[0m do_clip(datasource_root, bounds, output, \u001b[38;5;241m*\u001b[39m\u001b[38;5;241m*\u001b[39mkwargs)\n",
      "File \u001b[1;32mc:\\Users\\haavasl\\AppData\\Local\\miniconda3\\envs\\hyperspectral_toolchain\\lib\\site-packages\\elevation\\datasource.py:188\u001b[0m, in \u001b[0;36mseed\u001b[1;34m(cache_dir, product, bounds, max_download_tiles, **kwargs)\u001b[0m\n\u001b[0;32m    182\u001b[0m     \u001b[38;5;28;01mraise\u001b[39;00m \u001b[38;5;167;01mRuntimeError\u001b[39;00m(\n\u001b[0;32m    183\u001b[0m         \u001b[38;5;124m\"\u001b[39m\u001b[38;5;124mToo many tiles: \u001b[39m\u001b[38;5;132;01m%d\u001b[39;00m\u001b[38;5;124m. Please consult the providers\u001b[39m\u001b[38;5;124m'\u001b[39m\u001b[38;5;124m websites \u001b[39m\u001b[38;5;124m\"\u001b[39m\n\u001b[0;32m    184\u001b[0m         \u001b[38;5;124m\"\u001b[39m\u001b[38;5;124mfor how to bulk download tiles.\u001b[39m\u001b[38;5;124m\"\u001b[39m \u001b[38;5;241m%\u001b[39m \u001b[38;5;28mlen\u001b[39m(ensure_tiles_names)\n\u001b[0;32m    185\u001b[0m     )\n\u001b[0;32m    187\u001b[0m \u001b[38;5;28;01mwith\u001b[39;00m util\u001b[38;5;241m.\u001b[39mlock_tiles(datasource_root, ensure_tiles_names):\n\u001b[1;32m--> 188\u001b[0m     \u001b[43mensure_tiles\u001b[49m\u001b[43m(\u001b[49m\u001b[43mdatasource_root\u001b[49m\u001b[43m,\u001b[49m\u001b[43m \u001b[49m\u001b[43mensure_tiles_names\u001b[49m\u001b[43m,\u001b[49m\u001b[43m \u001b[49m\u001b[38;5;241;43m*\u001b[39;49m\u001b[38;5;241;43m*\u001b[39;49m\u001b[43mkwargs\u001b[49m\u001b[43m)\u001b[49m\n\u001b[0;32m    190\u001b[0m \u001b[38;5;28;01mwith\u001b[39;00m util\u001b[38;5;241m.\u001b[39mlock_vrt(datasource_root, product):\n\u001b[0;32m    191\u001b[0m     util\u001b[38;5;241m.\u001b[39mcheck_call_make(datasource_root, targets\u001b[38;5;241m=\u001b[39m[\u001b[38;5;124m'\u001b[39m\u001b[38;5;124mall\u001b[39m\u001b[38;5;124m'\u001b[39m])\n",
      "File \u001b[1;32mc:\\Users\\haavasl\\AppData\\Local\\miniconda3\\envs\\hyperspectral_toolchain\\lib\\site-packages\\elevation\\datasource.py:148\u001b[0m, in \u001b[0;36mensure_tiles\u001b[1;34m(path, ensure_tiles_names, **kwargs)\u001b[0m\n\u001b[0;32m    146\u001b[0m ensure_tiles \u001b[38;5;241m=\u001b[39m \u001b[38;5;124m'\u001b[39m\u001b[38;5;124m \u001b[39m\u001b[38;5;124m'\u001b[39m\u001b[38;5;241m.\u001b[39mjoin(ensure_tiles_names)\n\u001b[0;32m    147\u001b[0m variables_items \u001b[38;5;241m=\u001b[39m [(\u001b[38;5;124m'\u001b[39m\u001b[38;5;124mensure_tiles\u001b[39m\u001b[38;5;124m'\u001b[39m, ensure_tiles)]\n\u001b[1;32m--> 148\u001b[0m \u001b[38;5;28;01mreturn\u001b[39;00m \u001b[43mutil\u001b[49m\u001b[38;5;241;43m.\u001b[39;49m\u001b[43mcheck_call_make\u001b[49m\u001b[43m(\u001b[49m\u001b[43mpath\u001b[49m\u001b[43m,\u001b[49m\u001b[43m \u001b[49m\u001b[43mtargets\u001b[49m\u001b[38;5;241;43m=\u001b[39;49m\u001b[43m[\u001b[49m\u001b[38;5;124;43m'\u001b[39;49m\u001b[38;5;124;43mdownload\u001b[39;49m\u001b[38;5;124;43m'\u001b[39;49m\u001b[43m]\u001b[49m\u001b[43m,\u001b[49m\u001b[43m \u001b[49m\u001b[43mvariables\u001b[49m\u001b[38;5;241;43m=\u001b[39;49m\u001b[43mvariables_items\u001b[49m\u001b[43m,\u001b[49m\u001b[43m \u001b[49m\u001b[38;5;241;43m*\u001b[39;49m\u001b[38;5;241;43m*\u001b[39;49m\u001b[43mkwargs\u001b[49m\u001b[43m)\u001b[49m\n",
      "File \u001b[1;32mc:\\Users\\haavasl\\AppData\\Local\\miniconda3\\envs\\hyperspectral_toolchain\\lib\\site-packages\\elevation\\util.py:88\u001b[0m, in \u001b[0;36mcheck_call_make\u001b[1;34m(path, targets, variables)\u001b[0m\n\u001b[0;32m     86\u001b[0m make_variables \u001b[38;5;241m=\u001b[39m \u001b[38;5;124m'\u001b[39m\u001b[38;5;124m \u001b[39m\u001b[38;5;124m'\u001b[39m\u001b[38;5;241m.\u001b[39mjoin(\u001b[38;5;124m'\u001b[39m\u001b[38;5;132;01m%s\u001b[39;00m\u001b[38;5;124m=\u001b[39m\u001b[38;5;124m\"\u001b[39m\u001b[38;5;132;01m%s\u001b[39;00m\u001b[38;5;124m\"\u001b[39m\u001b[38;5;124m'\u001b[39m \u001b[38;5;241m%\u001b[39m (k\u001b[38;5;241m.\u001b[39mupper(), v) \u001b[38;5;28;01mfor\u001b[39;00m k, v \u001b[38;5;129;01min\u001b[39;00m variables_items)\n\u001b[0;32m     87\u001b[0m cmd \u001b[38;5;241m=\u001b[39m \u001b[38;5;124m'\u001b[39m\u001b[38;5;124mmake -C \u001b[39m\u001b[38;5;132;01m{path}\u001b[39;00m\u001b[38;5;124m \u001b[39m\u001b[38;5;132;01m{make_targets}\u001b[39;00m\u001b[38;5;124m \u001b[39m\u001b[38;5;132;01m{make_variables}\u001b[39;00m\u001b[38;5;124m'\u001b[39m\u001b[38;5;241m.\u001b[39mformat(\u001b[38;5;241m*\u001b[39m\u001b[38;5;241m*\u001b[39m\u001b[38;5;28mlocals\u001b[39m())\n\u001b[1;32m---> 88\u001b[0m \u001b[43msubprocess\u001b[49m\u001b[38;5;241;43m.\u001b[39;49m\u001b[43mcheck_call\u001b[49m\u001b[43m(\u001b[49m\u001b[43mcmd\u001b[49m\u001b[43m,\u001b[49m\u001b[43m \u001b[49m\u001b[43mshell\u001b[49m\u001b[38;5;241;43m=\u001b[39;49m\u001b[38;5;28;43;01mTrue\u001b[39;49;00m\u001b[43m)\u001b[49m\n\u001b[0;32m     89\u001b[0m \u001b[38;5;28;01mreturn\u001b[39;00m cmd\n",
      "File \u001b[1;32mc:\\Users\\haavasl\\AppData\\Local\\miniconda3\\envs\\hyperspectral_toolchain\\lib\\subprocess.py:364\u001b[0m, in \u001b[0;36mcheck_call\u001b[1;34m(*popenargs, **kwargs)\u001b[0m\n\u001b[0;32m    362\u001b[0m     \u001b[38;5;28;01mif\u001b[39;00m cmd \u001b[38;5;129;01mis\u001b[39;00m \u001b[38;5;28;01mNone\u001b[39;00m:\n\u001b[0;32m    363\u001b[0m         cmd \u001b[38;5;241m=\u001b[39m popenargs[\u001b[38;5;241m0\u001b[39m]\n\u001b[1;32m--> 364\u001b[0m     \u001b[38;5;28;01mraise\u001b[39;00m CalledProcessError(retcode, cmd)\n\u001b[0;32m    365\u001b[0m \u001b[38;5;28;01mreturn\u001b[39;00m \u001b[38;5;241m0\u001b[39m\n",
      "\u001b[1;31mCalledProcessError\u001b[0m: Command 'make -C C:\\Users\\haavasl\\AppData\\Local\\bopen\\elevation\\Cache\\SRTM1 download ENSURE_TILES=\"N41/N41E012.tif\"' returned non-zero exit status 1."
     ]
    }
   ],
   "source": [
    "import elevation\n",
    "# clip the SRTM1 30m DEM of Rome and save it to Rome-DEM.tif\n",
    "elevation.clip(bounds=(12.35, 41.8, 12.65, 42), output='Rome-DEM.tif')\n",
    "# clean up stale temporary files and fix the cache in the event of a server error\n",
    "elevation.clean()"
   ]
  }
 ],
 "metadata": {
  "kernelspec": {
   "display_name": "Python 3",
   "language": "python",
   "name": "python3"
  },
  "language_info": {
   "codemirror_mode": {
    "name": "ipython",
    "version": 3
   },
   "file_extension": ".py",
   "mimetype": "text/x-python",
   "name": "python",
   "nbconvert_exporter": "python",
   "pygments_lexer": "ipython3",
   "version": "3.8.18"
  }
 },
 "nbformat": 4,
 "nbformat_minor": 2
}
