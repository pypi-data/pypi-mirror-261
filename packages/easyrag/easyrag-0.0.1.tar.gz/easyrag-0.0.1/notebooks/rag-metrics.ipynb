{
 "cells": [
  {
   "cell_type": "markdown",
   "metadata": {},
   "source": [
    "# RAG Metrics\n",
    "\n",
    "## Metrics definition\n",
    "* **Answer Correctness**: evaluates the `answer` with the `ground truth` and returns a score between 0 and 1.\n",
    "* **Context Precision**: evaluates how well documents are retrieved by the retriever based on the `question`.\n",
    "* **Context Recall**: evaluates how well documents are retrieved by the retriever based on the `ground truth` answer."
   ]
  },
  {
   "cell_type": "code",
   "execution_count": 1,
   "metadata": {},
   "outputs": [
    {
     "name": "stderr",
     "output_type": "stream",
     "text": [
      "/opt/homebrew/Caskroom/miniforge/base/envs/hf/lib/python3.8/site-packages/langchain_core/_api/deprecation.py:117: LangChainDeprecationWarning: The class `langchain_community.chat_models.openai.ChatOpenAI` was deprecated in langchain-community 0.0.10 and will be removed in 0.2.0. An updated version of the class exists in the langchain-openai package and should be used instead. To use it run `pip install -U langchain-openai` and import as `from langchain_openai import ChatOpenAI`.\n",
      "  warn_deprecated(\n"
     ]
    }
   ],
   "source": [
    "import huggingface_hub\n",
    "from langchain_community.chat_models.openai import ChatOpenAI\n",
    "\n",
    "llm = ChatOpenAI(\n",
    "    model_name=\"NousResearch/Nous-Hermes-2-Mixtral-8x7B-DPO\",\n",
    "    openai_api_key=huggingface_hub.get_token(),\n",
    "    openai_api_base=\"https://api-inference.huggingface.co/v1/\",\n",
    "    max_tokens=1024,\n",
    "    temperature=0.1,\n",
    ")"
   ]
  },
  {
   "cell_type": "code",
   "execution_count": 2,
   "metadata": {},
   "outputs": [],
   "source": [
    "fake = {\n",
    "    \"question\": \"What is the capital of France?\",\n",
    "    \"ground_truth\": \"Paris\",\n",
    "    \"answer\": \"Paris\",\n",
    "    \"contexts\": [\"Paris is the capital of France.\" , \"Charlie likes to eat chocolate.\", \"1776 Paris was the center of a war.\"],\n",
    "  }"
   ]
  },
  {
   "cell_type": "markdown",
   "metadata": {},
   "source": [
    "## Context Recall\n",
    "\n",
    "Context recall measures the extent to which the retrieved context aligns with the ground truth. It is computed based on the ground truth and the retrieved context, and the values range between 0 and 1, with higher values indicating better performance.\n"
   ]
  },
  {
   "cell_type": "code",
   "execution_count": 3,
   "metadata": {},
   "outputs": [],
   "source": [
    "from easyrag.metrics import ContextRecall\n",
    "\n",
    "context_recall = ContextRecall(llm=llm,verbose=True)"
   ]
  },
  {
   "cell_type": "code",
   "execution_count": 4,
   "metadata": {},
   "outputs": [
    {
     "name": "stderr",
     "output_type": "stream",
     "text": [
      "INFO:easyrag.metrics.context_recall:LLM prompt: [SystemMessage(content=\"Given a context, and an answer, analyze each sentence in the answer and classify if the sentence can be attributed to the given context or not. Use only 'Yes' (1) or 'No' (0) as a binary classification. Output json with reason. Output in only valid JSON format.\"), HumanMessage(content='context: \"Albert Einstein (14 March 1879 – 18 April 1955) was a German-born theoretical physicist, widely held to be one of the greatest and most influential scientists of all time. Best known for developing the theory of relativity, he also made important contributions to quantum mechanics, and was thus a central figure in the revolutionary reshaping of the scientific understanding of nature that modern physics accomplished in the first decades of the twentieth century. His mass–energy equivalence formula E = mc2, which arises from relativity theory, has been called \\'the world\\'s most famous equation\\'. He received the 1921 Nobel Prize in Physics \\'for his services to theoretical physics, and especially for his discovery of the law of the photoelectric effect\\', a pivotal step in the development of quantum theory. His work is also known for its influence on the philosophy of science. In a 1999 poll of 130 leading physicists worldwide by the British journal Physics World, Einstein was ranked the greatest physicist of all time. His intellectual achievements and originality have made Einstein synonymous with genius.\"\\nanswer: \"Albert Einstein born in 14 March 1879 was  German-born theoretical physicist, widely held to be one of the greatest and most influential scientists of all time. He received the 1921 Nobel Prize in Physics for his services to theoretical physics. He published 4 papers in 1905.  Einstein moved to Switzerland in 1895\"\\n'), AIMessage(content='{\"classification\": [{\"statement_1\": \"Albert Einstein, born on 14 March 1879, was a German-born theoretical physicist, widely held to be one of the greatest and most influential scientists of all time.\", \"reason\": \"The date of birth of Einstein is mentioned clearly in the context.\", \"Attributed\": \"1\"}, {\"statement_2\": \"He received the 1921 Nobel Prize in Physics \\'for his services to theoretical physics.\", \"reason\": \"The exact sentence is present in the given context.\", \"Attributed\": \"1\"}, {\"statement_3\": \"He published 4 papers in 1905.\", \"reason\": \"There is no mention about papers he wrote in the given context.\", \"Attributed\": \"0\"}, {\"statement_4\": \"Einstein moved to Switzerland in 1895.\", \"reason\": \"There is no supporting evidence for this in the given context.\", \"Attributed\": \"0\"}]}'), HumanMessage(content='context: \"The 2022 ICC Men\\'s T20 World Cup, held from October 16 to November 13, 2022, in Australia, was the eighth edition of the tournament. Originally scheduled for 2020, it was postponed due to the COVID-19 pandemic. England emerged victorious, defeating Pakistan by five wickets in the final to clinch their second ICC Men\\'s T20 World Cup title.\"\\nanswer: \"England\"\\n'), AIMessage(content='{\"classification\": [{\"statement_1\": \"England won the 2022 ICC Men\\'s T20 World Cup.\", \"reason\": \"From context it is clear that England defeated Pakistan to win the World Cup.\", \"Attributed\": \"1\"}]}'), HumanMessage(content='context: \"Paris is the capital of France.\\nCharlie likes to eat chocolate.\\n1776 Paris was the center of a war.\"\\nground_truth: \"Paris\"\\n')]\n",
      "INFO:easyrag.metrics.context_recall:LLM response parsed: {'classification': [{'statement_1': 'Paris is the capital of France.', 'reason': 'The context clearly states that Paris is the capital of France.', 'Attributed': '1'}]}\n"
     ]
    },
    {
     "data": {
      "text/plain": [
       "1.0"
      ]
     },
     "execution_count": 4,
     "metadata": {},
     "output_type": "execute_result"
    }
   ],
   "source": [
    "context_recall.compute(ground_truth=fake[\"ground_truth\"], contexts=fake[\"contexts\"])"
   ]
  },
  {
   "cell_type": "markdown",
   "metadata": {},
   "source": [
    "## Context Precision\n",
    "\n",
    "Context Precision is a metric that evaluates whether all of the ground-truth relevant items present in the contexts are ranked higher or not. Ideally all the relevant chunks must appear at the top ranks. This metric is computed using the question and the contexts, with values ranging between 0 and 1, where higher scores indicate better precision."
   ]
  },
  {
   "cell_type": "code",
   "execution_count": 5,
   "metadata": {},
   "outputs": [],
   "source": [
    "from easyrag.metrics import ContextPrecision\n",
    "\n",
    "context_precision = ContextPrecision(llm=llm,verbose=True)"
   ]
  },
  {
   "cell_type": "code",
   "execution_count": 6,
   "metadata": {},
   "outputs": [
    {
     "name": "stderr",
     "output_type": "stream",
     "text": [
      "INFO:easyrag.metrics.context_precision:LLM prompt: [SystemMessage(content='Given question, answer and context verify if the context was useful in arriving at the given answer. Give score as \"1\" if useful and \"0\" if not with json output.'), HumanMessage(content='question: \"What can you tell me about albert Albert Einstein?\"\\ncontext: \"Albert Einstein (14 March 1879 – 18 April 1955) was a German-born theoretical physicist, widely held to be one of the greatest and most influential scientists of all time. Best known for developing the theory of relativity, he also made important contributions to quantum mechanics, and was thus a central figure in the revolutionary reshaping of the scientific understanding of nature that modern physics accomplished in the first decades of the twentieth century. His mass–energy equivalence formula E = mc2, which arises from relativity theory, has been called \"the world\\'s most famous equation\". He received the 1921 Nobel Prize in Physics \"for his services to theoretical physics, and especially for his discovery of the law of the photoelectric effect\", a pivotal step in the development of quantum theory. His work is also known for its influence on the philosophy of science. In a 1999 poll of 130 leading physicists worldwide by the British journal Physics World, Einstein was ranked the greatest physicist of all time. His intellectual achievements and originality have made Einstein synonymous with genius.\"\\nanswer: \"Albert Einstein born in 14 March 1879 was German-born theoretical physicist, widely held to be one of the greatest and most influential scientists of all time. He received the 1921 Nobel Prize in Physics for his services to theoretical physics. He published 4 papers in 1905. Einstein moved to Switzerland in 1895\"\\n'), AIMessage(content='{\"verification\": {\"reason\": \"The provided context was indeed useful in arriving at the given answer. The context includes key information about Albert Einstein\\'s life and contributions, which are reflected in the answer.\", \"score\": \"1\"}}'), HumanMessage(content='question: \"who won 2020 icc world cup?\"\\ncontext: \"The 2022 ICC Men\\'s T20 World Cup, held from October 16 to November 13, 2022, in Australia, was the eighth edition of the tournament. Originally scheduled for 2020, it was postponed due to the COVID-19 pandemic. England emerged victorious, defeating Pakistan by five wickets in the final to clinch their second ICC Men\\'s T20 World Cup title.\"\\nanswer: \"England\"\\n'), AIMessage(content='{\"verification\": {\"reason\": \"the context was useful in clarifying the situation regarding the 2020 ICC World Cup and indicating that England was the winner of the tournament that was intended to be held in 2020 but actually took place in 2022.\", \"score\": \"1\"}}'), HumanMessage(content='question: \"What is the tallest mountain in the world?\"\\ncontext: \"The Andes is the longest continental mountain range in the world, located in South America. It stretches across seven countries and features many of the highest peaks in the Western Hemisphere. The range is known for its diverse ecosystems, including the high-altitude Andean Plateau and the Amazon rainforest.\"\\nanswer: \"Mount Everest.\"\\n'), AIMessage(content='{\"verification\": {\"reason\": \"the provided context discusses the Andes mountain range, which, while impressive, does not include Mount Everest or directly relate to the question about the world\\'s tallest mountain.\", \"score\": \"0\"}}'), HumanMessage(content='question: \"What is the capital of France?\"\\ncontext: \"Paris is the capital of France.\"\\nanswer: Paris\\n')]\n",
      "INFO:easyrag.metrics.context_precision:LLM response parsed: {'verification': {'reason': 'The provided context directly answers the question by stating that Paris is the capital of France.', 'score': '1'}}\n",
      "INFO:easyrag.metrics.context_precision:LLM prompt: [SystemMessage(content='Given question, answer and context verify if the context was useful in arriving at the given answer. Give score as \"1\" if useful and \"0\" if not with json output.'), HumanMessage(content='question: \"What can you tell me about albert Albert Einstein?\"\\ncontext: \"Albert Einstein (14 March 1879 – 18 April 1955) was a German-born theoretical physicist, widely held to be one of the greatest and most influential scientists of all time. Best known for developing the theory of relativity, he also made important contributions to quantum mechanics, and was thus a central figure in the revolutionary reshaping of the scientific understanding of nature that modern physics accomplished in the first decades of the twentieth century. His mass–energy equivalence formula E = mc2, which arises from relativity theory, has been called \"the world\\'s most famous equation\". He received the 1921 Nobel Prize in Physics \"for his services to theoretical physics, and especially for his discovery of the law of the photoelectric effect\", a pivotal step in the development of quantum theory. His work is also known for its influence on the philosophy of science. In a 1999 poll of 130 leading physicists worldwide by the British journal Physics World, Einstein was ranked the greatest physicist of all time. His intellectual achievements and originality have made Einstein synonymous with genius.\"\\nanswer: \"Albert Einstein born in 14 March 1879 was German-born theoretical physicist, widely held to be one of the greatest and most influential scientists of all time. He received the 1921 Nobel Prize in Physics for his services to theoretical physics. He published 4 papers in 1905. Einstein moved to Switzerland in 1895\"\\n'), AIMessage(content='{\"verification\": {\"reason\": \"The provided context was indeed useful in arriving at the given answer. The context includes key information about Albert Einstein\\'s life and contributions, which are reflected in the answer.\", \"score\": \"1\"}}'), HumanMessage(content='question: \"who won 2020 icc world cup?\"\\ncontext: \"The 2022 ICC Men\\'s T20 World Cup, held from October 16 to November 13, 2022, in Australia, was the eighth edition of the tournament. Originally scheduled for 2020, it was postponed due to the COVID-19 pandemic. England emerged victorious, defeating Pakistan by five wickets in the final to clinch their second ICC Men\\'s T20 World Cup title.\"\\nanswer: \"England\"\\n'), AIMessage(content='{\"verification\": {\"reason\": \"the context was useful in clarifying the situation regarding the 2020 ICC World Cup and indicating that England was the winner of the tournament that was intended to be held in 2020 but actually took place in 2022.\", \"score\": \"1\"}}'), HumanMessage(content='question: \"What is the tallest mountain in the world?\"\\ncontext: \"The Andes is the longest continental mountain range in the world, located in South America. It stretches across seven countries and features many of the highest peaks in the Western Hemisphere. The range is known for its diverse ecosystems, including the high-altitude Andean Plateau and the Amazon rainforest.\"\\nanswer: \"Mount Everest.\"\\n'), AIMessage(content='{\"verification\": {\"reason\": \"the provided context discusses the Andes mountain range, which, while impressive, does not include Mount Everest or directly relate to the question about the world\\'s tallest mountain.\", \"score\": \"0\"}}'), HumanMessage(content='question: \"What is the capital of France?\"\\ncontext: \"Charlie likes to eat chocolate.\"\\nanswer: Paris\\n')]\n",
      "INFO:easyrag.metrics.context_precision:LLM response parsed: {'verification': {'reason': 'The provided context does not contain any information about France or its capital city, making it unhelpful in arriving at the correct answer.', 'score': '0'}}\n",
      "INFO:easyrag.metrics.context_precision:LLM prompt: [SystemMessage(content='Given question, answer and context verify if the context was useful in arriving at the given answer. Give score as \"1\" if useful and \"0\" if not with json output.'), HumanMessage(content='question: \"What can you tell me about albert Albert Einstein?\"\\ncontext: \"Albert Einstein (14 March 1879 – 18 April 1955) was a German-born theoretical physicist, widely held to be one of the greatest and most influential scientists of all time. Best known for developing the theory of relativity, he also made important contributions to quantum mechanics, and was thus a central figure in the revolutionary reshaping of the scientific understanding of nature that modern physics accomplished in the first decades of the twentieth century. His mass–energy equivalence formula E = mc2, which arises from relativity theory, has been called \"the world\\'s most famous equation\". He received the 1921 Nobel Prize in Physics \"for his services to theoretical physics, and especially for his discovery of the law of the photoelectric effect\", a pivotal step in the development of quantum theory. His work is also known for its influence on the philosophy of science. In a 1999 poll of 130 leading physicists worldwide by the British journal Physics World, Einstein was ranked the greatest physicist of all time. His intellectual achievements and originality have made Einstein synonymous with genius.\"\\nanswer: \"Albert Einstein born in 14 March 1879 was German-born theoretical physicist, widely held to be one of the greatest and most influential scientists of all time. He received the 1921 Nobel Prize in Physics for his services to theoretical physics. He published 4 papers in 1905. Einstein moved to Switzerland in 1895\"\\n'), AIMessage(content='{\"verification\": {\"reason\": \"The provided context was indeed useful in arriving at the given answer. The context includes key information about Albert Einstein\\'s life and contributions, which are reflected in the answer.\", \"score\": \"1\"}}'), HumanMessage(content='question: \"who won 2020 icc world cup?\"\\ncontext: \"The 2022 ICC Men\\'s T20 World Cup, held from October 16 to November 13, 2022, in Australia, was the eighth edition of the tournament. Originally scheduled for 2020, it was postponed due to the COVID-19 pandemic. England emerged victorious, defeating Pakistan by five wickets in the final to clinch their second ICC Men\\'s T20 World Cup title.\"\\nanswer: \"England\"\\n'), AIMessage(content='{\"verification\": {\"reason\": \"the context was useful in clarifying the situation regarding the 2020 ICC World Cup and indicating that England was the winner of the tournament that was intended to be held in 2020 but actually took place in 2022.\", \"score\": \"1\"}}'), HumanMessage(content='question: \"What is the tallest mountain in the world?\"\\ncontext: \"The Andes is the longest continental mountain range in the world, located in South America. It stretches across seven countries and features many of the highest peaks in the Western Hemisphere. The range is known for its diverse ecosystems, including the high-altitude Andean Plateau and the Amazon rainforest.\"\\nanswer: \"Mount Everest.\"\\n'), AIMessage(content='{\"verification\": {\"reason\": \"the provided context discusses the Andes mountain range, which, while impressive, does not include Mount Everest or directly relate to the question about the world\\'s tallest mountain.\", \"score\": \"0\"}}'), HumanMessage(content='question: \"What is the capital of France?\"\\ncontext: \"1776 Paris was the center of a war.\"\\nanswer: Paris\\n')]\n",
      "INFO:easyrag.metrics.context_precision:LLM response parsed: {'verification': {'reason': \"The context provided, while mentioning Paris, does not explicitly state that it is the capital of France. However, it does imply that Paris is an important city in France's history, which is relevant to the question. Therefore, the context was somewhat useful in arriving at the given answer.\", 'score': '1'}}\n"
     ]
    },
    {
     "data": {
      "text/plain": [
       "0.6666666666666666"
      ]
     },
     "execution_count": 6,
     "metadata": {},
     "output_type": "execute_result"
    }
   ],
   "source": [
    "context_precision.compute(quesiton=fake[\"question\"], answer=fake[\"answer\"], contexts=fake[\"contexts\"])"
   ]
  },
  {
   "cell_type": "markdown",
   "metadata": {},
   "source": [
    "## Answer Correctness\n",
    "\n",
    "Answer Correctness is a metric that evaluates the correctness of the generated answer. It is computed based on the ground truth and the generated answer and returns a score with 0 INCORRECT and 1 CORRECT."
   ]
  },
  {
   "cell_type": "code",
   "execution_count": 7,
   "metadata": {},
   "outputs": [],
   "source": [
    "from easyrag.metrics import AnswerCorrectness\n",
    "answer_correctness  = AnswerCorrectness(llm=llm,verbose=True)"
   ]
  },
  {
   "cell_type": "code",
   "execution_count": 8,
   "metadata": {},
   "outputs": [
    {
     "name": "stderr",
     "output_type": "stream",
     "text": [
      "INFO:easyrag.metrics.answer_correctness:LLM prompt: [SystemMessage(content=\"You are an expert evaluation system for a question answering chatbot.\\n\\nYou are given the following information:\\n- a question, \\n- a ground_truth\\n- a answer.\\n\\nYour job is to score the correctness of the answer. Use only 'Correct' (1) or 'Incorrect' (0) as a binary classification. Output json with reason. Output in only valid JSON format.\"), HumanMessage(content='question: \"What powers the sun and what is its primary function?\"\\nground_truth: \"The sun is actually powered by nuclear fusion, not fission. In its core, hydrogen atoms fuse to form helium, releasing a tremendous amount of energy. This energy is what lights up the sun and provides heat and light, essential for life on Earth. The sun\\'s light also plays a critical role in Earth\\'s climate system and helps to drive the weather and ocean currents.\"\\nanswer: \"The sun is powered by nuclear fission, similar to nuclear reactors on Earth, and its primary function is to provide light to the solar system.\"\\n'), AIMessage(content='{\"result\": {\"reason\": \"The answer provided incorrectly states the process that powers the sun as nuclear fission, while the correct process is nuclear fusion, as mentioned in the ground truth. Nuclear fusion, not fission, is the reaction in which hydrogen atoms fuse to form helium in the sun\\'s core, releasing a significant amount of energy. This energy is indeed crucial for providing light and heat to the Earth, which are essential for life and for driving Earth\\'s climate and weather patterns.\", \"score\": \"0\"}}'), HumanMessage(content='question: \"who won 2020 icc world cup?\"\\nground_truth: \"Based on the context you\\'ve provided, there seems to be a misunderstanding in your question. The ICC Men\\'s T20 World Cup that was originally scheduled for 2020 was postponed to 2022 due to the COVID-19 pandemic. England won the 2022 ICC Men\\'s T20 World Cup, defeating Pakistan by five wickets in the final. This victory marked England\\'s second ICC Men\\'s T20 World Cup title. Therefore, there was no ICC World Cup held in 2020 due to the postponement.\"\\nanswer: \"There was no ICC in 2020. The 2020 ICC was post poned which was won by England\"\\n'), AIMessage(content='{\"result\": {\"reason\": \"There was no ICC in 2020. The 2020 ICC was post poned which was won by England\", \"score\": \"1\"}}'), HumanMessage(content='question: \"What is the boiling point of water?\"\\nground_truth: \"The boiling point of water is 100 degrees Celsius (212 degrees Fahrenheit) at sea level, but it can change with altitude.\"\\nanswer: \"The boiling point of water is 100 degrees Celsius at sea level.\"\\n'), AIMessage(content='{\"result\": {\"reason\": \"The answer provided is correct based on the question and the context given. The question asks for the boiling point of water, and the answer correctly states that it is 100 degrees Celsius at sea level, which is in agreement with the context provided. The answer specifically addresses the condition \"at sea level,\" which is crucial because, as noted in the context, the boiling point of water can change with altitude.\", \"score\": \"1\"}}'), HumanMessage(content='question: \"What is the gross margin rate of apple in 2020?\"\\nground_truth: \"In 2020, Apple had a gross margin percentage of 38.2%.\"\\nanswer: \"Apple\\'s gross margin rate in 2021 is approximately 35.91%. Note that this is an estimation and not an official figure provided by Apple. The actual gross margin rate for 2021 may vary depending on the company\\'s actual financial results.\"\\n'), AIMessage(content='{\"result\": {\"reason\": \"The provided answer does not accurately address the question asked. The question specifically inquires about Apple\\'s gross margin rate in 2020, but the answer discusses the estimated gross margin rate for 2021. There is a discrepancy in the year of interest, making the response irrelevant to the question. The answer fails to provide the requested information for the correct year, 2020, and instead offers an estimation for a different year without acknowledging or correcting the discrepancy. Given this, the answer is incorrect as it does not match the year specified in the question nor does it align with the provided ground truth.\", \"score\": \"0\"}}'), HumanMessage(content='question: \"What is the capital of France?\"\\nground_truth: \"Paris\"\\nanswer: Paris\\n')]\n",
      "INFO:easyrag.metrics.answer_correctness:LLM response parsed: {'result': {'reason': 'The answer provided is correct based on the question and the context given. The question asks for the capital of France, and the answer correctly states that it is Paris, which is in agreement with the context provided.', 'score': '1'}}\n"
     ]
    },
    {
     "data": {
      "text/plain": [
       "1.0"
      ]
     },
     "execution_count": 8,
     "metadata": {},
     "output_type": "execute_result"
    }
   ],
   "source": [
    "answer_correctness.compute(quesiton=fake[\"question\"], answer=fake[\"answer\"], ground_truth=fake[\"ground_truth\"])"
   ]
  },
  {
   "cell_type": "markdown",
   "metadata": {},
   "source": [
    "## Answer Faithfulness\n",
    "\n",
    "The Answer Faithfulness is metric evaluates whether the response is faithful to any of the retrieved contexts. It is computed using the retrieved contexts, and the generated answer, and returns a score with 0 NOT FAITHFUL and 1 FAITHFUL."
   ]
  },
  {
   "cell_type": "code",
   "execution_count": 9,
   "metadata": {},
   "outputs": [],
   "source": [
    "from easyrag.metrics import AnswerFaithfulness\n",
    "answer_faithfulness  = AnswerFaithfulness(llm=llm,verbose=True)"
   ]
  },
  {
   "cell_type": "code",
   "execution_count": 11,
   "metadata": {},
   "outputs": [
    {
     "name": "stderr",
     "output_type": "stream",
     "text": [
      "INFO:easyrag.metrics.answer_faithfulness:LLM prompt: [SystemMessage(content=\"You are an expert evaluation system for a question answering chatbot.\\n\\nYou are given the following information:\\n- a context including information, \\n- a generated answer.\\n\\nYour job is to classify if the answer is supported by the context. Use only 'Faithfull' (1) if the any of the contexts supports the answer, even if most of the context is unrelated. Use 'Unfaithfull' (0) if the context doesn't provide any support for the answer. Output json with reason. Output in only valid JSON format.\"), HumanMessage(content='context: \"John is a student at XYZ University. He is pursuing a degree in Computer Science. He is enrolled in several courses this semester, including Data Structures, Algorithms, and Database Management. John is a diligent student and spends a significant amount of time studying and completing assignments. He often stays late in the library to work on his projects.\"\\nanswer: \"John is majoring in Biology.\"\\n'), AIMessage(content='{\"result\": {\"reason\": \"John\\'s major is explicitly mentioned as Computer Science. There is no information suggesting he is majoring in Biology.\", \"score\": \"0\"}}'), HumanMessage(content='context: \"Uruguay\\'s capital, Montevideo, was founded by the Spanish in the early 18th century as a military stronghold; its natural harbor soon developed into a commercial center competing with Argentina\\'s capital, Buenos Aires. Uruguay\\'s early 19th century history was shaped by ongoing conflicts between the British, Spanish, Portuguese, and colonial forces for dominance in the Argentina-Brazil-Uruguay region. /ref> In 1806 and 1807, the British army attempted to seize Buenos Aires as part of their war with Spain. As a result, at the beginning of 1807, Montevideo was occupied by a 10,000-strong British force who held it until the middle of the year when they left to attack Buenos Aires.\"\\nanswer: \"The early 19th-century geopolitical landscape of the Argentina-Brazil-Uruguay region was marked by intense rivalry and conflict involving major colonial and European powers, namely the British, Spanish, and Portuguese. \"\\n'), AIMessage(content='{\"result\": {\"reason\": \"The context discusses the conflicts and rivalries in the Argentina-Brazil-Uruguay region during the early 19th century, involving the British, Spanish, Portuguese, and colonial forces, which directly supports the answer.\",\"score\": \"1\"}}'), HumanMessage(content='context: \"It is vital for all known forms of life, despite not providing food energy or organic micronutrients. Its chemical formula, H2O, indicates that each of its molecules contains one oxygen and two hydrogen atoms, connected by covalent bonds. The hydrogen atoms are attached to the oxygen atom at an angle of 104.45°.[20] \"Water\" is also the name of the liquid state of H2O at standard temperature and pressure.\\n\\nThe boiling point of water is 212 degrees Fahrenheit or 100 degrees Celsius at sea level. That means in most places this is the temperatures of boiled water. However, as you rise above sea level water will boil at a lower temperature.\\n\\nCan water boil at 200 degrees?\\nThe temperature at which water boils varies based on elevation.\"\\nanswer: \"The boiling point of water is 100 degrees Celsius (212 degrees Fahrenheit) at sea level, but it can change with altitude.\"\\n'), AIMessage(content='{\"result\": {\"reason\": \"The context explains that water boils at 212 degrees Fahrenheit (100 degrees Celsius) at sea level and also mentions that the boiling point decreases with elevation, directly supporting the answer.\", \"score\": \"1\"}}'), HumanMessage(content='context: \"Photosynthesis is the process by which plants, algae, and some bacteria convert light energy from the sun into chemical energy in the form of glucose. This process occurs in specialized structures called chloroplasts, which are found in the leaves of plants and other photosynthetic organisms.\"\\nanswer: \"Apple\\'s gross margin rate in 2021 is approximately 35.91%. Note that this is an estimation and not an official figure provided by Apple. The actual gross margin rate for 2021 may vary depending on the company\\'s actual financial results.\"\\n'), AIMessage(content='{\"result\": {\"reason\": \"The context provides information about the process of photosynthesis, which is unrelated to the financial metrics of a technology company like Apple.\", \"score\": \"0\"}}'), HumanMessage(content='context: \"Paris is the capital of France.\\nCharlie likes to eat chocolate.\\n1776 Paris was the center of a war.\"\\nanswer: \"Paris\"\\n')]\n",
      "INFO:easyrag.metrics.answer_faithfulness:LLM response parsed: {'result': {'reason': 'The context mentions that Paris is the capital of France, which directly supports the answer.', 'score': '1'}}\n"
     ]
    },
    {
     "data": {
      "text/plain": [
       "1.0"
      ]
     },
     "execution_count": 11,
     "metadata": {},
     "output_type": "execute_result"
    }
   ],
   "source": [
    "answer_faithfulness.compute(answer=fake[\"answer\"], context=fake[\"contexts\"])"
   ]
  },
  {
   "cell_type": "code",
   "execution_count": 12,
   "metadata": {},
   "outputs": [
    {
     "name": "stderr",
     "output_type": "stream",
     "text": [
      "INFO:easyrag.metrics.answer_faithfulness:LLM prompt: [SystemMessage(content=\"You are an expert evaluation system for a question answering chatbot.\\n\\nYou are given the following information:\\n- a context including information, \\n- a generated answer.\\n\\nYour job is to classify if the answer is supported by the context. Use only 'Faithfull' (1) if the any of the contexts supports the answer, even if most of the context is unrelated. Use 'Unfaithfull' (0) if the context doesn't provide any support for the answer. Output json with reason. Output in only valid JSON format.\"), HumanMessage(content='context: \"John is a student at XYZ University. He is pursuing a degree in Computer Science. He is enrolled in several courses this semester, including Data Structures, Algorithms, and Database Management. John is a diligent student and spends a significant amount of time studying and completing assignments. He often stays late in the library to work on his projects.\"\\nanswer: \"John is majoring in Biology.\"\\n'), AIMessage(content='{\"result\": {\"reason\": \"John\\'s major is explicitly mentioned as Computer Science. There is no information suggesting he is majoring in Biology.\", \"score\": \"0\"}}'), HumanMessage(content='context: \"Uruguay\\'s capital, Montevideo, was founded by the Spanish in the early 18th century as a military stronghold; its natural harbor soon developed into a commercial center competing with Argentina\\'s capital, Buenos Aires. Uruguay\\'s early 19th century history was shaped by ongoing conflicts between the British, Spanish, Portuguese, and colonial forces for dominance in the Argentina-Brazil-Uruguay region. /ref> In 1806 and 1807, the British army attempted to seize Buenos Aires as part of their war with Spain. As a result, at the beginning of 1807, Montevideo was occupied by a 10,000-strong British force who held it until the middle of the year when they left to attack Buenos Aires.\"\\nanswer: \"The early 19th-century geopolitical landscape of the Argentina-Brazil-Uruguay region was marked by intense rivalry and conflict involving major colonial and European powers, namely the British, Spanish, and Portuguese. \"\\n'), AIMessage(content='{\"result\": {\"reason\": \"The context discusses the conflicts and rivalries in the Argentina-Brazil-Uruguay region during the early 19th century, involving the British, Spanish, Portuguese, and colonial forces, which directly supports the answer.\",\"score\": \"1\"}}'), HumanMessage(content='context: \"It is vital for all known forms of life, despite not providing food energy or organic micronutrients. Its chemical formula, H2O, indicates that each of its molecules contains one oxygen and two hydrogen atoms, connected by covalent bonds. The hydrogen atoms are attached to the oxygen atom at an angle of 104.45°.[20] \"Water\" is also the name of the liquid state of H2O at standard temperature and pressure.\\n\\nThe boiling point of water is 212 degrees Fahrenheit or 100 degrees Celsius at sea level. That means in most places this is the temperatures of boiled water. However, as you rise above sea level water will boil at a lower temperature.\\n\\nCan water boil at 200 degrees?\\nThe temperature at which water boils varies based on elevation.\"\\nanswer: \"The boiling point of water is 100 degrees Celsius (212 degrees Fahrenheit) at sea level, but it can change with altitude.\"\\n'), AIMessage(content='{\"result\": {\"reason\": \"The context explains that water boils at 212 degrees Fahrenheit (100 degrees Celsius) at sea level and also mentions that the boiling point decreases with elevation, directly supporting the answer.\", \"score\": \"1\"}}'), HumanMessage(content='context: \"Photosynthesis is the process by which plants, algae, and some bacteria convert light energy from the sun into chemical energy in the form of glucose. This process occurs in specialized structures called chloroplasts, which are found in the leaves of plants and other photosynthetic organisms.\"\\nanswer: \"Apple\\'s gross margin rate in 2021 is approximately 35.91%. Note that this is an estimation and not an official figure provided by Apple. The actual gross margin rate for 2021 may vary depending on the company\\'s actual financial results.\"\\n'), AIMessage(content='{\"result\": {\"reason\": \"The context provides information about the process of photosynthesis, which is unrelated to the financial metrics of a technology company like Apple.\", \"score\": \"0\"}}'), HumanMessage(content='context: \"Today is a sunny day.\"\\nanswer: \"Paris\"\\n')]\n",
      "INFO:easyrag.metrics.answer_faithfulness:LLM response parsed: {'result': {'reason': 'The context provides information about the weather (a sunny day), but does not mention any location, making it impossible to determine if Paris is related to the context.', 'score': '0'}}\n"
     ]
    },
    {
     "data": {
      "text/plain": [
       "0.0"
      ]
     },
     "execution_count": 12,
     "metadata": {},
     "output_type": "execute_result"
    }
   ],
   "source": [
    "answer_faithfulness.compute(answer=fake[\"answer\"], context=\"Today is a sunny day.\")"
   ]
  },
  {
   "cell_type": "markdown",
   "metadata": {},
   "source": []
  }
 ],
 "metadata": {
  "kernelspec": {
   "display_name": "hf",
   "language": "python",
   "name": "python3"
  },
  "language_info": {
   "codemirror_mode": {
    "name": "ipython",
    "version": 3
   },
   "file_extension": ".py",
   "mimetype": "text/x-python",
   "name": "python",
   "nbconvert_exporter": "python",
   "pygments_lexer": "ipython3",
   "version": "3.8.12"
  }
 },
 "nbformat": 4,
 "nbformat_minor": 2
}
