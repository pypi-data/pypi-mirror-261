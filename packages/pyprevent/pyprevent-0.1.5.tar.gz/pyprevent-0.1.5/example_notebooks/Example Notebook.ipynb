{
 "cells": [
  {
   "cell_type": "code",
   "execution_count": 1,
   "id": "9772f479-da0e-494f-bb31-d433cb6db2b0",
   "metadata": {},
   "outputs": [
    {
     "data": {
      "text/html": [
       "\n",
       "                <script type=\"application/javascript\" id=\"jupyter_black\">\n",
       "                (function() {\n",
       "                    if (window.IPython === undefined) {\n",
       "                        return\n",
       "                    }\n",
       "                    var msg = \"WARNING: it looks like you might have loaded \" +\n",
       "                        \"jupyter_black in a non-lab notebook with \" +\n",
       "                        \"`is_lab=True`. Please double check, and if \" +\n",
       "                        \"loading with `%load_ext` please review the README!\"\n",
       "                    console.log(msg)\n",
       "                    alert(msg)\n",
       "                })()\n",
       "                </script>\n",
       "                "
      ],
      "text/plain": [
       "<IPython.core.display.HTML object>"
      ]
     },
     "metadata": {},
     "output_type": "display_data"
    }
   ],
   "source": [
    "import pandas as pd\n",
    "import time\n",
    "import pyprevent\n",
    "import jupyter_black\n",
    "import numpy as np\n",
    "\n",
    "jupyter_black.load(lab=True)"
   ]
  },
  {
   "cell_type": "markdown",
   "id": "77220b47-4890-42d7-b4dd-d1ccd0e5794a",
   "metadata": {},
   "source": [
    "## Data Setup"
   ]
  },
  {
   "cell_type": "code",
   "execution_count": 2,
   "id": "c2f676dd-48e7-413d-95f0-0ece2fb693f2",
   "metadata": {},
   "outputs": [],
   "source": [
    "test_patient = (\"female\", 40, 200, 50, 120, True, True, 25, 70, True, True)\n",
    "test_list = [test_patient for _ in range(10_000_000)]\n",
    "df = pd.DataFrame(\n",
    "    test_list,\n",
    "    columns=[\n",
    "        \"sex\",\n",
    "        \"age\",\n",
    "        \"total_cholesterol\",\n",
    "        \"hdl_cholesterol\",\n",
    "        \"systolic_bp\",\n",
    "        \"has_diabetes\",\n",
    "        \"current_smoker\",\n",
    "        \"bmi\",\n",
    "        \"egfr\",\n",
    "        \"on_htn_meds\",\n",
    "        \"on_cholesterol_meds\",\n",
    "    ],\n",
    ")"
   ]
  },
  {
   "cell_type": "code",
   "execution_count": 3,
   "id": "3300c829-4bbc-4fd2-8745-5b19161ea29e",
   "metadata": {},
   "outputs": [
    {
     "data": {
      "text/plain": [
       "{'sex': 'female',\n",
       " 'age': 40,\n",
       " 'total_cholesterol': 200,\n",
       " 'hdl_cholesterol': 50,\n",
       " 'systolic_bp': 120,\n",
       " 'has_diabetes': True,\n",
       " 'current_smoker': True,\n",
       " 'bmi': 25,\n",
       " 'egfr': 70,\n",
       " 'on_htn_meds': True,\n",
       " 'on_cholesterol_meds': True}"
      ]
     },
     "execution_count": 3,
     "metadata": {},
     "output_type": "execute_result"
    }
   ],
   "source": [
    "df.iloc[0].to_dict()"
   ]
  },
  {
   "cell_type": "markdown",
   "id": "a485b68b-45ac-4d09-a212-df7fa41fea63",
   "metadata": {},
   "source": [
    "## Individual patient calculations\n",
    "\n",
    "Taking the first row in the form of a dict, we have a test patient.\n",
    "\n",
    "The keys of this dictionary are the input arguments for all of the functions.\n",
    "\n",
    "Here, we can pass the dictionary as kwargs to return the risk. Of note this float represents the risk as a percentage."
   ]
  },
  {
   "cell_type": "code",
   "execution_count": 4,
   "id": "2574f72d-97e1-4e25-81c0-2c251149d4f3",
   "metadata": {},
   "outputs": [
    {
     "data": {
      "text/plain": [
       "4.723678963112583"
      ]
     },
     "execution_count": 4,
     "metadata": {},
     "output_type": "execute_result"
    }
   ],
   "source": [
    "pyprevent.calculate_10_yr_ascvd_risk(**df.iloc[0].to_dict())"
   ]
  },
  {
   "cell_type": "markdown",
   "id": "21874bcc-8e89-4ae3-94e6-b448d93462ab",
   "metadata": {},
   "source": [
    "(You can also pass in the arguments like a normal python function)"
   ]
  },
  {
   "cell_type": "code",
   "execution_count": 5,
   "id": "c4d60014-6770-4a86-934f-d051698d6ee7",
   "metadata": {},
   "outputs": [
    {
     "data": {
      "text/plain": [
       "7.008061525002453"
      ]
     },
     "execution_count": 5,
     "metadata": {},
     "output_type": "execute_result"
    }
   ],
   "source": [
    "pyprevent.calculate_30_yr_ascvd_risk(\n",
    "    sex=\"MALE\",\n",
    "    age=40,\n",
    "    total_cholesterol=200,\n",
    "    hdl_cholesterol=50,\n",
    "    systolic_bp=120,\n",
    "    has_diabetes=False,\n",
    "    current_smoker=False,\n",
    "    bmi=25,\n",
    "    egfr=70,\n",
    "    on_htn_meds=False,\n",
    "    on_cholesterol_meds=False,\n",
    ")"
   ]
  },
  {
   "cell_type": "markdown",
   "id": "f83c49be-4e40-477c-b3fb-92d7215bb30b",
   "metadata": {},
   "source": [
    "All of the inputs have constains, and will return an error if the values are outside of the acceptable range.\n",
    "\n",
    "These ranges are set by the AHA PREVENT formulas to constain any extrapolation at extreme values."
   ]
  },
  {
   "cell_type": "code",
   "execution_count": 6,
   "id": "4ee0db2e-251a-4b7f-b138-90f9b69cb7c3",
   "metadata": {},
   "outputs": [
    {
     "ename": "ValueError",
     "evalue": "Sex must be either 'male' or 'female'.",
     "output_type": "error",
     "traceback": [
      "\u001b[0;31m---------------------------------------------------------------------------\u001b[0m",
      "\u001b[0;31mValueError\u001b[0m                                Traceback (most recent call last)",
      "Cell \u001b[0;32mIn[6], line 1\u001b[0m\n\u001b[0;32m----> 1\u001b[0m \u001b[43mpyprevent\u001b[49m\u001b[38;5;241;43m.\u001b[39;49m\u001b[43mcalculate_30_yr_ascvd_risk\u001b[49m\u001b[43m(\u001b[49m\n\u001b[1;32m      2\u001b[0m \u001b[43m    \u001b[49m\n\u001b[1;32m      3\u001b[0m \u001b[43m    \u001b[49m\u001b[43msex\u001b[49m\u001b[38;5;241;43m=\u001b[39;49m\u001b[38;5;124;43m\"\u001b[39;49m\u001b[38;5;124;43munknown\u001b[39;49m\u001b[38;5;124;43m\"\u001b[39;49m\u001b[43m,\u001b[49m\n\u001b[1;32m      4\u001b[0m \n\u001b[1;32m      5\u001b[0m \u001b[43m    \u001b[49m\n\u001b[1;32m      6\u001b[0m \u001b[43m    \u001b[49m\u001b[43mage\u001b[49m\u001b[38;5;241;43m=\u001b[39;49m\u001b[38;5;241;43m40\u001b[39;49m\u001b[43m,\u001b[49m\n\u001b[1;32m      7\u001b[0m \u001b[43m    \u001b[49m\u001b[43mtotal_cholesterol\u001b[49m\u001b[38;5;241;43m=\u001b[39;49m\u001b[38;5;241;43m200\u001b[39;49m\u001b[43m,\u001b[49m\n\u001b[1;32m      8\u001b[0m \u001b[43m    \u001b[49m\u001b[43mhdl_cholesterol\u001b[49m\u001b[38;5;241;43m=\u001b[39;49m\u001b[38;5;241;43m50\u001b[39;49m\u001b[43m,\u001b[49m\n\u001b[1;32m      9\u001b[0m \u001b[43m    \u001b[49m\u001b[43msystolic_bp\u001b[49m\u001b[38;5;241;43m=\u001b[39;49m\u001b[38;5;241;43m120\u001b[39;49m\u001b[43m,\u001b[49m\n\u001b[1;32m     10\u001b[0m \u001b[43m    \u001b[49m\u001b[43mhas_diabetes\u001b[49m\u001b[38;5;241;43m=\u001b[39;49m\u001b[38;5;28;43;01mFalse\u001b[39;49;00m\u001b[43m,\u001b[49m\n\u001b[1;32m     11\u001b[0m \u001b[43m    \u001b[49m\u001b[43mcurrent_smoker\u001b[49m\u001b[38;5;241;43m=\u001b[39;49m\u001b[38;5;28;43;01mFalse\u001b[39;49;00m\u001b[43m,\u001b[49m\n\u001b[1;32m     12\u001b[0m \u001b[43m    \u001b[49m\u001b[43mbmi\u001b[49m\u001b[38;5;241;43m=\u001b[39;49m\u001b[38;5;241;43m25\u001b[39;49m\u001b[43m,\u001b[49m\n\u001b[1;32m     13\u001b[0m \u001b[43m    \u001b[49m\u001b[43megfr\u001b[49m\u001b[38;5;241;43m=\u001b[39;49m\u001b[38;5;241;43m70\u001b[39;49m\u001b[43m,\u001b[49m\n\u001b[1;32m     14\u001b[0m \u001b[43m    \u001b[49m\u001b[43mon_htn_meds\u001b[49m\u001b[38;5;241;43m=\u001b[39;49m\u001b[38;5;28;43;01mFalse\u001b[39;49;00m\u001b[43m,\u001b[49m\n\u001b[1;32m     15\u001b[0m \u001b[43m    \u001b[49m\u001b[43mon_cholesterol_meds\u001b[49m\u001b[38;5;241;43m=\u001b[39;49m\u001b[38;5;28;43;01mFalse\u001b[39;49;00m\u001b[43m,\u001b[49m\n\u001b[1;32m     16\u001b[0m \u001b[43m)\u001b[49m\n",
      "File \u001b[0;32m~/miniconda3/envs/pyprevent/lib/python3.10/site-packages/pyprevent/ascvd_calc.py:133\u001b[0m, in \u001b[0;36mcalculate_30_yr_ascvd_risk\u001b[0;34m(sex, age, total_cholesterol, hdl_cholesterol, systolic_bp, has_diabetes, current_smoker, bmi, egfr, on_htn_meds, on_cholesterol_meds)\u001b[0m\n\u001b[1;32m     78\u001b[0m \u001b[38;5;28;01mdef\u001b[39;00m \u001b[38;5;21mcalculate_30_yr_ascvd_risk\u001b[39m(\n\u001b[1;32m     79\u001b[0m     sex: \u001b[38;5;28mstr\u001b[39m,\n\u001b[1;32m     80\u001b[0m     age: \u001b[38;5;28mfloat\u001b[39m,\n\u001b[0;32m   (...)\u001b[0m\n\u001b[1;32m     89\u001b[0m     on_cholesterol_meds: \u001b[38;5;28mbool\u001b[39m,\n\u001b[1;32m     90\u001b[0m ) \u001b[38;5;241m-\u001b[39m\u001b[38;5;241m>\u001b[39m \u001b[38;5;28mfloat\u001b[39m:\n\u001b[1;32m     91\u001b[0m \u001b[38;5;250m    \u001b[39m\u001b[38;5;124;03m\"\"\"\u001b[39;00m\n\u001b[1;32m     92\u001b[0m \u001b[38;5;124;03m    Calculate the 30-year risk of atherosclerotic cardiovascular disease (ASCVD).\u001b[39;00m\n\u001b[1;32m     93\u001b[0m \n\u001b[0;32m   (...)\u001b[0m\n\u001b[1;32m    131\u001b[0m \u001b[38;5;124;03m    # Returns: Estimated 30-year ASCVD risk percentage (e.g., 12.3)\u001b[39;00m\n\u001b[1;32m    132\u001b[0m \u001b[38;5;124;03m    \"\"\"\u001b[39;00m\n\u001b[0;32m--> 133\u001b[0m     \u001b[38;5;28;01mreturn\u001b[39;00m \u001b[43m_pyprevent\u001b[49m\u001b[38;5;241;43m.\u001b[39;49m\u001b[43mcalculate_30_yr_ascvd_rust\u001b[49m\u001b[43m(\u001b[49m\n\u001b[1;32m    134\u001b[0m \u001b[43m        \u001b[49m\u001b[43msex\u001b[49m\u001b[43m,\u001b[49m\n\u001b[1;32m    135\u001b[0m \u001b[43m        \u001b[49m\u001b[43mage\u001b[49m\u001b[43m,\u001b[49m\n\u001b[1;32m    136\u001b[0m \u001b[43m        \u001b[49m\u001b[43mtotal_cholesterol\u001b[49m\u001b[43m,\u001b[49m\n\u001b[1;32m    137\u001b[0m \u001b[43m        \u001b[49m\u001b[43mhdl_cholesterol\u001b[49m\u001b[43m,\u001b[49m\n\u001b[1;32m    138\u001b[0m \u001b[43m        \u001b[49m\u001b[43msystolic_bp\u001b[49m\u001b[43m,\u001b[49m\n\u001b[1;32m    139\u001b[0m \u001b[43m        \u001b[49m\u001b[43mhas_diabetes\u001b[49m\u001b[43m,\u001b[49m\n\u001b[1;32m    140\u001b[0m \u001b[43m        \u001b[49m\u001b[43mcurrent_smoker\u001b[49m\u001b[43m,\u001b[49m\n\u001b[1;32m    141\u001b[0m \u001b[43m        \u001b[49m\u001b[43mbmi\u001b[49m\u001b[43m,\u001b[49m\n\u001b[1;32m    142\u001b[0m \u001b[43m        \u001b[49m\u001b[43megfr\u001b[49m\u001b[43m,\u001b[49m\n\u001b[1;32m    143\u001b[0m \u001b[43m        \u001b[49m\u001b[43mon_htn_meds\u001b[49m\u001b[43m,\u001b[49m\n\u001b[1;32m    144\u001b[0m \u001b[43m        \u001b[49m\u001b[43mon_cholesterol_meds\u001b[49m\u001b[43m,\u001b[49m\n\u001b[1;32m    145\u001b[0m \u001b[43m    \u001b[49m\u001b[43m)\u001b[49m\n",
      "\u001b[0;31mValueError\u001b[0m: Sex must be either 'male' or 'female'."
     ]
    }
   ],
   "source": [
    "pyprevent.calculate_30_yr_ascvd_risk(\n",
    "    \n",
    "    sex=\"unknown\",\n",
    "\n",
    "    \n",
    "    age=40,\n",
    "    total_cholesterol=200,\n",
    "    hdl_cholesterol=50,\n",
    "    systolic_bp=120,\n",
    "    has_diabetes=False,\n",
    "    current_smoker=False,\n",
    "    bmi=25,\n",
    "    egfr=70,\n",
    "    on_htn_meds=False,\n",
    "    on_cholesterol_meds=False,\n",
    ")"
   ]
  },
  {
   "cell_type": "code",
   "execution_count": 7,
   "id": "1045af64-7508-4794-ad76-eb63eed89758",
   "metadata": {},
   "outputs": [
    {
     "ename": "ValueError",
     "evalue": "Age must be between 30 and 59",
     "output_type": "error",
     "traceback": [
      "\u001b[0;31m---------------------------------------------------------------------------\u001b[0m",
      "\u001b[0;31mValueError\u001b[0m                                Traceback (most recent call last)",
      "Cell \u001b[0;32mIn[7], line 1\u001b[0m\n\u001b[0;32m----> 1\u001b[0m \u001b[43mpyprevent\u001b[49m\u001b[38;5;241;43m.\u001b[39;49m\u001b[43mcalculate_30_yr_ascvd_risk\u001b[49m\u001b[43m(\u001b[49m\n\u001b[1;32m      2\u001b[0m \u001b[43m    \u001b[49m\u001b[43msex\u001b[49m\u001b[38;5;241;43m=\u001b[39;49m\u001b[38;5;124;43m\"\u001b[39;49m\u001b[38;5;124;43mmale\u001b[39;49m\u001b[38;5;124;43m\"\u001b[39;49m\u001b[43m,\u001b[49m\n\u001b[1;32m      3\u001b[0m \u001b[43m    \u001b[49m\n\u001b[1;32m      4\u001b[0m \u001b[43m    \u001b[49m\u001b[43mage\u001b[49m\u001b[38;5;241;43m=\u001b[39;49m\u001b[38;5;241;43m10\u001b[39;49m\u001b[43m,\u001b[49m\n\u001b[1;32m      5\u001b[0m \u001b[43m    \u001b[49m\n\u001b[1;32m      6\u001b[0m \u001b[43m    \u001b[49m\u001b[43mtotal_cholesterol\u001b[49m\u001b[38;5;241;43m=\u001b[39;49m\u001b[38;5;241;43m200\u001b[39;49m\u001b[43m,\u001b[49m\n\u001b[1;32m      7\u001b[0m \u001b[43m    \u001b[49m\u001b[43mhdl_cholesterol\u001b[49m\u001b[38;5;241;43m=\u001b[39;49m\u001b[38;5;241;43m50\u001b[39;49m\u001b[43m,\u001b[49m\n\u001b[1;32m      8\u001b[0m \u001b[43m    \u001b[49m\u001b[43msystolic_bp\u001b[49m\u001b[38;5;241;43m=\u001b[39;49m\u001b[38;5;241;43m120\u001b[39;49m\u001b[43m,\u001b[49m\n\u001b[1;32m      9\u001b[0m \u001b[43m    \u001b[49m\u001b[43mhas_diabetes\u001b[49m\u001b[38;5;241;43m=\u001b[39;49m\u001b[38;5;28;43;01mFalse\u001b[39;49;00m\u001b[43m,\u001b[49m\n\u001b[1;32m     10\u001b[0m \u001b[43m    \u001b[49m\u001b[43mcurrent_smoker\u001b[49m\u001b[38;5;241;43m=\u001b[39;49m\u001b[38;5;28;43;01mFalse\u001b[39;49;00m\u001b[43m,\u001b[49m\n\u001b[1;32m     11\u001b[0m \u001b[43m    \u001b[49m\u001b[43mbmi\u001b[49m\u001b[38;5;241;43m=\u001b[39;49m\u001b[38;5;241;43m25\u001b[39;49m\u001b[43m,\u001b[49m\n\u001b[1;32m     12\u001b[0m \u001b[43m    \u001b[49m\u001b[43megfr\u001b[49m\u001b[38;5;241;43m=\u001b[39;49m\u001b[38;5;241;43m70\u001b[39;49m\u001b[43m,\u001b[49m\n\u001b[1;32m     13\u001b[0m \u001b[43m    \u001b[49m\u001b[43mon_htn_meds\u001b[49m\u001b[38;5;241;43m=\u001b[39;49m\u001b[38;5;28;43;01mFalse\u001b[39;49;00m\u001b[43m,\u001b[49m\n\u001b[1;32m     14\u001b[0m \u001b[43m    \u001b[49m\u001b[43mon_cholesterol_meds\u001b[49m\u001b[38;5;241;43m=\u001b[39;49m\u001b[38;5;28;43;01mFalse\u001b[39;49;00m\u001b[43m,\u001b[49m\n\u001b[1;32m     15\u001b[0m \u001b[43m)\u001b[49m\n",
      "File \u001b[0;32m~/miniconda3/envs/pyprevent/lib/python3.10/site-packages/pyprevent/ascvd_calc.py:133\u001b[0m, in \u001b[0;36mcalculate_30_yr_ascvd_risk\u001b[0;34m(sex, age, total_cholesterol, hdl_cholesterol, systolic_bp, has_diabetes, current_smoker, bmi, egfr, on_htn_meds, on_cholesterol_meds)\u001b[0m\n\u001b[1;32m     78\u001b[0m \u001b[38;5;28;01mdef\u001b[39;00m \u001b[38;5;21mcalculate_30_yr_ascvd_risk\u001b[39m(\n\u001b[1;32m     79\u001b[0m     sex: \u001b[38;5;28mstr\u001b[39m,\n\u001b[1;32m     80\u001b[0m     age: \u001b[38;5;28mfloat\u001b[39m,\n\u001b[0;32m   (...)\u001b[0m\n\u001b[1;32m     89\u001b[0m     on_cholesterol_meds: \u001b[38;5;28mbool\u001b[39m,\n\u001b[1;32m     90\u001b[0m ) \u001b[38;5;241m-\u001b[39m\u001b[38;5;241m>\u001b[39m \u001b[38;5;28mfloat\u001b[39m:\n\u001b[1;32m     91\u001b[0m \u001b[38;5;250m    \u001b[39m\u001b[38;5;124;03m\"\"\"\u001b[39;00m\n\u001b[1;32m     92\u001b[0m \u001b[38;5;124;03m    Calculate the 30-year risk of atherosclerotic cardiovascular disease (ASCVD).\u001b[39;00m\n\u001b[1;32m     93\u001b[0m \n\u001b[0;32m   (...)\u001b[0m\n\u001b[1;32m    131\u001b[0m \u001b[38;5;124;03m    # Returns: Estimated 30-year ASCVD risk percentage (e.g., 12.3)\u001b[39;00m\n\u001b[1;32m    132\u001b[0m \u001b[38;5;124;03m    \"\"\"\u001b[39;00m\n\u001b[0;32m--> 133\u001b[0m     \u001b[38;5;28;01mreturn\u001b[39;00m \u001b[43m_pyprevent\u001b[49m\u001b[38;5;241;43m.\u001b[39;49m\u001b[43mcalculate_30_yr_ascvd_rust\u001b[49m\u001b[43m(\u001b[49m\n\u001b[1;32m    134\u001b[0m \u001b[43m        \u001b[49m\u001b[43msex\u001b[49m\u001b[43m,\u001b[49m\n\u001b[1;32m    135\u001b[0m \u001b[43m        \u001b[49m\u001b[43mage\u001b[49m\u001b[43m,\u001b[49m\n\u001b[1;32m    136\u001b[0m \u001b[43m        \u001b[49m\u001b[43mtotal_cholesterol\u001b[49m\u001b[43m,\u001b[49m\n\u001b[1;32m    137\u001b[0m \u001b[43m        \u001b[49m\u001b[43mhdl_cholesterol\u001b[49m\u001b[43m,\u001b[49m\n\u001b[1;32m    138\u001b[0m \u001b[43m        \u001b[49m\u001b[43msystolic_bp\u001b[49m\u001b[43m,\u001b[49m\n\u001b[1;32m    139\u001b[0m \u001b[43m        \u001b[49m\u001b[43mhas_diabetes\u001b[49m\u001b[43m,\u001b[49m\n\u001b[1;32m    140\u001b[0m \u001b[43m        \u001b[49m\u001b[43mcurrent_smoker\u001b[49m\u001b[43m,\u001b[49m\n\u001b[1;32m    141\u001b[0m \u001b[43m        \u001b[49m\u001b[43mbmi\u001b[49m\u001b[43m,\u001b[49m\n\u001b[1;32m    142\u001b[0m \u001b[43m        \u001b[49m\u001b[43megfr\u001b[49m\u001b[43m,\u001b[49m\n\u001b[1;32m    143\u001b[0m \u001b[43m        \u001b[49m\u001b[43mon_htn_meds\u001b[49m\u001b[43m,\u001b[49m\n\u001b[1;32m    144\u001b[0m \u001b[43m        \u001b[49m\u001b[43mon_cholesterol_meds\u001b[49m\u001b[43m,\u001b[49m\n\u001b[1;32m    145\u001b[0m \u001b[43m    \u001b[49m\u001b[43m)\u001b[49m\n",
      "\u001b[0;31mValueError\u001b[0m: Age must be between 30 and 59"
     ]
    }
   ],
   "source": [
    "pyprevent.calculate_30_yr_ascvd_risk(\n",
    "    sex=\"male\",\n",
    "    \n",
    "    age=10,\n",
    "    \n",
    "    total_cholesterol=200,\n",
    "    hdl_cholesterol=50,\n",
    "    systolic_bp=120,\n",
    "    has_diabetes=False,\n",
    "    current_smoker=False,\n",
    "    bmi=25,\n",
    "    egfr=70,\n",
    "    on_htn_meds=False,\n",
    "    on_cholesterol_meds=False,\n",
    ")"
   ]
  },
  {
   "cell_type": "markdown",
   "id": "8c32707d-20cb-4fd4-b5ca-3b6f9faa7b0f",
   "metadata": {},
   "source": [
    "## Batch Calculations\n",
    "\n",
    "There are also functions to batch apply this function.\n",
    "\n",
    "In our test data set, we have a million patients."
   ]
  },
  {
   "cell_type": "code",
   "execution_count": 8,
   "id": "f5fa13ae-ceb9-4bcb-8e79-140116663d93",
   "metadata": {},
   "outputs": [
    {
     "name": "stdout",
     "output_type": "stream",
     "text": [
      "10000000\n"
     ]
    }
   ],
   "source": [
    "print(len(df))"
   ]
  },
  {
   "cell_type": "code",
   "execution_count": 9,
   "id": "8cce8e31-7b68-4c17-9e98-d0022f37375a",
   "metadata": {},
   "outputs": [
    {
     "data": {
      "text/plain": [
       "array([4.72367896, 4.72367896, 4.72367896, ..., 4.72367896, 4.72367896,\n",
       "       4.72367896])"
      ]
     },
     "execution_count": 9,
     "metadata": {},
     "output_type": "execute_result"
    }
   ],
   "source": [
    "pyprevent.batch_calculate_10_yr_ascvd_risk(df)"
   ]
  },
  {
   "cell_type": "code",
   "execution_count": 10,
   "id": "b11ea130-bdcc-4cce-9fd0-209f7366aa8f",
   "metadata": {},
   "outputs": [
    {
     "name": "stdout",
     "output_type": "stream",
     "text": [
      "Time to run 10 million rows: 2.517326375003904 seconds\n"
     ]
    }
   ],
   "source": [
    "start = time.perf_counter()\n",
    "pyprevent.batch_calculate_30_yr_ascvd_risk(df)\n",
    "end = time.perf_counter()\n",
    "duration = end - start\n",
    "print(f\"Time to run 10 million rows: {duration} seconds\")"
   ]
  },
  {
   "cell_type": "markdown",
   "id": "b768cc24-cfbb-452e-bedb-af5b073979a6",
   "metadata": {},
   "source": [
    "## Data validation\n",
    "\n",
    "Again, if a value is invalid, the batch methods will return a ValueError."
   ]
  },
  {
   "cell_type": "code",
   "execution_count": 12,
   "id": "e3b392c5-25b5-4640-a4d0-56ea6a56889c",
   "metadata": {},
   "outputs": [
    {
     "name": "stdout",
     "output_type": "stream",
     "text": [
      "sex                    female\n",
      "age                       100\n",
      "total_cholesterol         200\n",
      "hdl_cholesterol            50\n",
      "systolic_bp               120\n",
      "has_diabetes             True\n",
      "current_smoker           True\n",
      "bmi                        25\n",
      "egfr                       70\n",
      "on_htn_meds              True\n",
      "on_cholesterol_meds      True\n",
      "Name: 9999998, dtype: object\n"
     ]
    }
   ],
   "source": [
    "# Setting age to 100.0 near the end of the dataframe\n",
    "df.loc[9_999_998, \"age\"] = 100.0\n",
    "print(df.iloc[-2])"
   ]
  },
  {
   "cell_type": "code",
   "execution_count": 13,
   "id": "46d56fda-1570-480c-b648-0ccf6f67d3af",
   "metadata": {},
   "outputs": [
    {
     "name": "stdout",
     "output_type": "stream",
     "text": [
      "WARNING: 1 patients were unable to have the score calculatedas their input parameters were out of the range.\n"
     ]
    },
    {
     "data": {
      "text/plain": [
       "array([23.4074104, 23.4074104, 23.4074104, ..., 23.4074104,        nan,\n",
       "       23.4074104])"
      ]
     },
     "execution_count": 13,
     "metadata": {},
     "output_type": "execute_result"
    }
   ],
   "source": [
    "pyprevent.batch_calculate_30_yr_ascvd_risk(df)"
   ]
  },
  {
   "cell_type": "code",
   "execution_count": null,
   "id": "2cb1a08d-e159-4655-aa2e-55bc8c0cd5fe",
   "metadata": {},
   "outputs": [],
   "source": []
  },
  {
   "cell_type": "code",
   "execution_count": null,
   "id": "56e0da97-af32-49a0-ae47-03680f219b9d",
   "metadata": {},
   "outputs": [],
   "source": []
  }
 ],
 "metadata": {
  "kernelspec": {
   "display_name": "Python 3 (ipykernel)",
   "language": "python",
   "name": "python3"
  },
  "language_info": {
   "codemirror_mode": {
    "name": "ipython",
    "version": 3
   },
   "file_extension": ".py",
   "mimetype": "text/x-python",
   "name": "python",
   "nbconvert_exporter": "python",
   "pygments_lexer": "ipython3",
   "version": "3.10.13"
  }
 },
 "nbformat": 4,
 "nbformat_minor": 5
}
