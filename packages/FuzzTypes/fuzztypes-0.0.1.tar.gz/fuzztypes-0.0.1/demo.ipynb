{
 "cells": [
  {
   "cell_type": "code",
   "execution_count": null,
   "outputs": [],
   "source": [
    "from pydantic import BaseModel\n",
    "\n",
    "class Test(BaseModel):\n",
    "    num: int\n"
   ],
   "metadata": {
    "collapsed": false
   },
   "id": "initial_id"
  },
  {
   "cell_type": "code",
   "execution_count": null,
   "outputs": [],
   "source": [
    "Test(num=\"one\").num == 1"
   ],
   "metadata": {
    "collapsed": false
   },
   "id": "f738da15c83c9430"
  },
  {
   "cell_type": "code",
   "execution_count": null,
   "outputs": [],
   "source": [
    "Test(num=\"one\").num == 1"
   ],
   "metadata": {
    "collapsed": false
   },
   "id": "25092a965f6b1550"
  },
  {
   "cell_type": "code",
   "execution_count": null,
   "outputs": [],
   "source": [
    "from pydantic import BaseModel\n",
    "from fuzztypes import Integer\n",
    "\n",
    "class Test(BaseModel):\n",
    "    num: Integer\n",
    "\n"
   ],
   "metadata": {
    "collapsed": false
   },
   "id": "6d58e43273e59d81"
  },
  {
   "cell_type": "code",
   "execution_count": null,
   "outputs": [],
   "source": [
    "Test(num=\"1\").num == 1 and Test(num=\"one\").num == 1"
   ],
   "metadata": {
    "collapsed": false
   },
   "id": "b6686e5cd0785db3"
  },
  {
   "cell_type": "code",
   "execution_count": null,
   "outputs": [],
   "source": [],
   "metadata": {
    "collapsed": false
   },
   "id": "6faef1fcff2e2d8a"
  }
 ],
 "metadata": {
  "kernelspec": {
   "display_name": "Python 3",
   "language": "python",
   "name": "python3"
  },
  "language_info": {
   "codemirror_mode": {
    "name": "ipython",
    "version": 2
   },
   "file_extension": ".py",
   "mimetype": "text/x-python",
   "name": "python",
   "nbconvert_exporter": "python",
   "pygments_lexer": "ipython2",
   "version": "2.7.6"
  }
 },
 "nbformat": 4,
 "nbformat_minor": 5
}
