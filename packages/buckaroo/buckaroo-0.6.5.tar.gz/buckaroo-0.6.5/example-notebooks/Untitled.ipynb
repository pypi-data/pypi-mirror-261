{
 "cells": [
  {
   "cell_type": "code",
   "execution_count": 1,
   "id": "41b5990f-e6e2-4763-b30a-58a125a32d34",
   "metadata": {
    "tags": []
   },
   "outputs": [],
   "source": [
    "import polars as pl"
   ]
  },
  {
   "cell_type": "code",
   "execution_count": 6,
   "id": "93c84495-d447-4314-b941-3c87646a3388",
   "metadata": {
    "tags": []
   },
   "outputs": [
    {
     "data": {
      "text/plain": [
       "'4/1/2016 00:00:26'"
      ]
     },
     "execution_count": 6,
     "metadata": {},
     "output_type": "execute_result"
    }
   ],
   "source": [
    "df['starttime'][0]"
   ]
  },
  {
   "cell_type": "code",
   "execution_count": 17,
   "id": "daed648f-cc0f-44d4-a114-a21e40cb0741",
   "metadata": {
    "tags": []
   },
   "outputs": [],
   "source": [
    "ab = pl.col('starttime').str\n",
    "ab.to_"
   ]
  },
  {
   "cell_type": "code",
   "execution_count": 2,
   "id": "51570c7c-5d6b-40cf-b314-cfafe03185ea",
   "metadata": {
    "tags": []
   },
   "outputs": [],
   "source": [
    "parse_exprs = [\n",
    "        pl.col('starttime').str.to_datetime('%m/%d/%Y %H:%M:%S', strict=False),\n",
    "        pl.col('stoptime').str.to_datetime('%m/%d/%Y %H:%M:%S', strict=False)]"
   ]
  },
  {
   "cell_type": "code",
   "execution_count": 27,
   "id": "f4b8290f-1876-481a-b92c-d20302a0be5c",
   "metadata": {
    "tags": []
   },
   "outputs": [
    {
     "data": {
      "text/html": [
       "<div><style>\n",
       ".dataframe > thead > tr,\n",
       ".dataframe > tbody > tr {\n",
       "  text-align: right;\n",
       "  white-space: pre-wrap;\n",
       "}\n",
       "</style>\n",
       "<small>shape: (250_000, 15)</small><table border=\"1\" class=\"dataframe\"><thead><tr><th>tripduration</th><th>starttime</th><th>stoptime</th><th>start station id</th><th>start station name</th><th>start station latitude</th><th>start station longitude</th><th>end station id</th><th>end station name</th><th>end station latitude</th><th>end station longitude</th><th>bikeid</th><th>usertype</th><th>birth year</th><th>gender</th></tr><tr><td>i64</td><td>datetime[μs]</td><td>datetime[μs]</td><td>i64</td><td>str</td><td>f64</td><td>f64</td><td>i64</td><td>str</td><td>f64</td><td>f64</td><td>i64</td><td>str</td><td>f64</td><td>i64</td></tr></thead><tbody><tr><td>781</td><td>2016-01-14 19:32:26</td><td>2016-01-14 19:45:27</td><td>447</td><td>&quot;8 Ave &amp; W 52 S…</td><td>40.763707</td><td>-73.985162</td><td>3172</td><td>&quot;W 74 St &amp; Colu…</td><td>40.778567</td><td>-73.97755</td><td>15973</td><td>&quot;Subscriber&quot;</td><td>1982.0</td><td>1</td></tr><tr><td>166</td><td>2016-01-22 16:33:33</td><td>2016-01-22 16:36:20</td><td>449</td><td>&quot;W 52 St &amp; 9 Av…</td><td>40.764618</td><td>-73.987895</td><td>479</td><td>&quot;9 Ave &amp; W 45 S…</td><td>40.760193</td><td>-73.991255</td><td>15950</td><td>&quot;Subscriber&quot;</td><td>1990.0</td><td>1</td></tr><tr><td>291</td><td>2016-01-20 19:44:48</td><td>2016-01-20 19:49:40</td><td>3106</td><td>&quot;Driggs Ave &amp; N…</td><td>40.72325</td><td>-73.94308</td><td>3090</td><td>&quot;N 8 St &amp; Drigg…</td><td>40.717746</td><td>-73.956001</td><td>22862</td><td>&quot;Subscriber&quot;</td><td>1982.0</td><td>1</td></tr><tr><td>600</td><td>2016-01-20 06:37:17</td><td>2016-01-20 06:47:17</td><td>505</td><td>&quot;6 Ave &amp; W 33 S…</td><td>40.749013</td><td>-73.988484</td><td>475</td><td>&quot;E 16 St &amp; Irvi…</td><td>40.735243</td><td>-73.987586</td><td>14852</td><td>&quot;Subscriber&quot;</td><td>1961.0</td><td>1</td></tr><tr><td>358</td><td>2016-01-20 08:23:52</td><td>2016-01-20 08:29:50</td><td>366</td><td>&quot;Clinton Ave &amp; …</td><td>40.693261</td><td>-73.968896</td><td>324</td><td>&quot;DeKalb Ave &amp; H…</td><td>40.689888</td><td>-73.981013</td><td>22536</td><td>&quot;Subscriber&quot;</td><td>1959.0</td><td>1</td></tr><tr><td>&hellip;</td><td>&hellip;</td><td>&hellip;</td><td>&hellip;</td><td>&hellip;</td><td>&hellip;</td><td>&hellip;</td><td>&hellip;</td><td>&hellip;</td><td>&hellip;</td><td>&hellip;</td><td>&hellip;</td><td>&hellip;</td><td>&hellip;</td><td>&hellip;</td></tr><tr><td>2137</td><td>2016-01-01 15:21:04</td><td>2016-01-01 15:56:41</td><td>3177</td><td>&quot;W 84 St &amp; Broa…</td><td>40.786795</td><td>-73.977112</td><td>3144</td><td>&quot;E 81 St &amp; Park…</td><td>40.776777</td><td>-73.95901</td><td>16420</td><td>&quot;Subscriber&quot;</td><td>1974.0</td><td>1</td></tr><tr><td>187</td><td>2016-01-04 07:06:45</td><td>2016-01-04 07:09:53</td><td>3169</td><td>&quot;Riverside Dr &amp;…</td><td>40.787209</td><td>-73.981281</td><td>3166</td><td>&quot;Riverside Dr &amp;…</td><td>40.780578</td><td>-73.985624</td><td>23132</td><td>&quot;Subscriber&quot;</td><td>1966.0</td><td>1</td></tr><tr><td>107</td><td>2016-01-12 18:53:49</td><td>2016-01-12 18:55:37</td><td>3112</td><td>&quot;Milton St &amp; Fr…</td><td>40.72906</td><td>-73.95779</td><td>3113</td><td>&quot;Greenpoint Ave…</td><td>40.73026</td><td>-73.95394</td><td>23765</td><td>&quot;Subscriber&quot;</td><td>1987.0</td><td>1</td></tr><tr><td>944</td><td>2016-01-27 15:25:52</td><td>2016-01-27 15:41:36</td><td>367</td><td>&quot;E 53 St &amp; Lexi…</td><td>40.758281</td><td>-73.970694</td><td>379</td><td>&quot;W 31 St &amp; 7 Av…</td><td>40.749156</td><td>-73.9916</td><td>17886</td><td>&quot;Subscriber&quot;</td><td>1968.0</td><td>1</td></tr><tr><td>228</td><td>2016-01-20 08:46:52</td><td>2016-01-20 08:50:40</td><td>450</td><td>&quot;W 49 St &amp; 8 Av…</td><td>40.762272</td><td>-73.987882</td><td>469</td><td>&quot;Broadway &amp; W 5…</td><td>40.763441</td><td>-73.982681</td><td>14956</td><td>&quot;Subscriber&quot;</td><td>1983.0</td><td>1</td></tr></tbody></table></div>"
      ],
      "text/plain": [
       "shape: (250_000, 15)\n",
       "┌─────────────┬─────────────┬─────────────┬────────────┬───┬────────┬────────────┬────────┬────────┐\n",
       "│ tripduratio ┆ starttime   ┆ stoptime    ┆ start      ┆ … ┆ bikeid ┆ usertype   ┆ birth  ┆ gender │\n",
       "│ n           ┆ ---         ┆ ---         ┆ station id ┆   ┆ ---    ┆ ---        ┆ year   ┆ ---    │\n",
       "│ ---         ┆ datetime[μs ┆ datetime[μs ┆ ---        ┆   ┆ i64    ┆ str        ┆ ---    ┆ i64    │\n",
       "│ i64         ┆ ]           ┆ ]           ┆ i64        ┆   ┆        ┆            ┆ f64    ┆        │\n",
       "╞═════════════╪═════════════╪═════════════╪════════════╪═══╪════════╪════════════╪════════╪════════╡\n",
       "│ 781         ┆ 2016-01-14  ┆ 2016-01-14  ┆ 447        ┆ … ┆ 15973  ┆ Subscriber ┆ 1982.0 ┆ 1      │\n",
       "│             ┆ 19:32:26    ┆ 19:45:27    ┆            ┆   ┆        ┆            ┆        ┆        │\n",
       "│ 166         ┆ 2016-01-22  ┆ 2016-01-22  ┆ 449        ┆ … ┆ 15950  ┆ Subscriber ┆ 1990.0 ┆ 1      │\n",
       "│             ┆ 16:33:33    ┆ 16:36:20    ┆            ┆   ┆        ┆            ┆        ┆        │\n",
       "│ 291         ┆ 2016-01-20  ┆ 2016-01-20  ┆ 3106       ┆ … ┆ 22862  ┆ Subscriber ┆ 1982.0 ┆ 1      │\n",
       "│             ┆ 19:44:48    ┆ 19:49:40    ┆            ┆   ┆        ┆            ┆        ┆        │\n",
       "│ 600         ┆ 2016-01-20  ┆ 2016-01-20  ┆ 505        ┆ … ┆ 14852  ┆ Subscriber ┆ 1961.0 ┆ 1      │\n",
       "│             ┆ 06:37:17    ┆ 06:47:17    ┆            ┆   ┆        ┆            ┆        ┆        │\n",
       "│ 358         ┆ 2016-01-20  ┆ 2016-01-20  ┆ 366        ┆ … ┆ 22536  ┆ Subscriber ┆ 1959.0 ┆ 1      │\n",
       "│             ┆ 08:23:52    ┆ 08:29:50    ┆            ┆   ┆        ┆            ┆        ┆        │\n",
       "│ …           ┆ …           ┆ …           ┆ …          ┆ … ┆ …      ┆ …          ┆ …      ┆ …      │\n",
       "│ 2137        ┆ 2016-01-01  ┆ 2016-01-01  ┆ 3177       ┆ … ┆ 16420  ┆ Subscriber ┆ 1974.0 ┆ 1      │\n",
       "│             ┆ 15:21:04    ┆ 15:56:41    ┆            ┆   ┆        ┆            ┆        ┆        │\n",
       "│ 187         ┆ 2016-01-04  ┆ 2016-01-04  ┆ 3169       ┆ … ┆ 23132  ┆ Subscriber ┆ 1966.0 ┆ 1      │\n",
       "│             ┆ 07:06:45    ┆ 07:09:53    ┆            ┆   ┆        ┆            ┆        ┆        │\n",
       "│ 107         ┆ 2016-01-12  ┆ 2016-01-12  ┆ 3112       ┆ … ┆ 23765  ┆ Subscriber ┆ 1987.0 ┆ 1      │\n",
       "│             ┆ 18:53:49    ┆ 18:55:37    ┆            ┆   ┆        ┆            ┆        ┆        │\n",
       "│ 944         ┆ 2016-01-27  ┆ 2016-01-27  ┆ 367        ┆ … ┆ 17886  ┆ Subscriber ┆ 1968.0 ┆ 1      │\n",
       "│             ┆ 15:25:52    ┆ 15:41:36    ┆            ┆   ┆        ┆            ┆        ┆        │\n",
       "│ 228         ┆ 2016-01-20  ┆ 2016-01-20  ┆ 450        ┆ … ┆ 14956  ┆ Subscriber ┆ 1983.0 ┆ 1      │\n",
       "│             ┆ 08:46:52    ┆ 08:50:40    ┆            ┆   ┆        ┆            ┆        ┆        │\n",
       "└─────────────┴─────────────┴─────────────┴────────────┴───┴────────┴────────────┴────────┴────────┘"
      ]
     },
     "execution_count": 27,
     "metadata": {},
     "output_type": "execute_result"
    }
   ],
   "source": [
    "pl.read_parquet(\"/Users/paddy/code/buckaroo_data/cb_data/2016-01.parq\")\n"
   ]
  },
  {
   "cell_type": "code",
   "execution_count": 30,
   "id": "3113ec11-2170-49d5-8217-0cd43269742a",
   "metadata": {
    "tags": []
   },
   "outputs": [
    {
     "name": "stdout",
     "output_type": "stream",
     "text": [
      "  % Total    % Received % Xferd  Average Speed   Time    Time     Time  Current\n",
      "                                 Dload  Upload   Total   Spent    Left  Speed\n",
      "  0     0    0     0    0     0      0      0 --:--:-- --:--:-- --:--:--     0\n"
     ]
    }
   ],
   "source": [
    "!curl \"https://github.com/paddymul/buckaroo-data/raw/main/cb_data/2016-01.parq\" > ./2016-01.parq"
   ]
  },
  {
   "cell_type": "code",
   "execution_count": 31,
   "id": "8646f66a-c1ce-4a6c-a00a-00f65d688ab0",
   "metadata": {
    "tags": []
   },
   "outputs": [
    {
     "name": "stdout",
     "output_type": "stream",
     "text": [
      "MD5 (/Users/paddy/code/buckaroo_data/cb_data/2016-01.parq) = 122c75bedc7b6ff1b577846947329136\n"
     ]
    }
   ],
   "source": [
    "!md5 /Users/paddy/code/buckaroo_data/cb_data/2016-01.parq"
   ]
  },
  {
   "cell_type": "code",
   "execution_count": 32,
   "id": "bd436b0a-150f-4636-8c67-d16c4ce530e8",
   "metadata": {
    "tags": []
   },
   "outputs": [
    {
     "name": "stdout",
     "output_type": "stream",
     "text": [
      "MD5 (/Users/paddy/Downloads/2016-01.parq) = 18edfd671f99bcea22bdb088c265f5ff\n"
     ]
    }
   ],
   "source": [
    "!md5 /Users/paddy/Downloads/2016-01.parq"
   ]
  },
  {
   "cell_type": "code",
   "execution_count": 29,
   "id": "2ff4527c-bc9a-4f25-9db8-acd3c74f24d3",
   "metadata": {
    "tags": []
   },
   "outputs": [
    {
     "name": "stdout",
     "output_type": "stream",
     "text": [
      "total 78680\n",
      "   16 -rw-r--r--   1 paddy  staff   6.5K Feb  4 21:53 Itables-testcases.ipynb\n",
      "   40 -rw-r--r--   1 paddy  staff    20K Feb  9 14:43 Exception-Traits-demo.ipynb\n",
      "   16 -rw-r--r--   1 paddy  staff   6.5K Feb  9 14:43 Histograms-demo.ipynb\n",
      "   40 -rw-r--r--   1 paddy  staff    19K Feb  9 14:43 styling-howto.ipynb\n",
      "   32 -rw-r--r--   1 paddy  staff    13K Mar  4 08:38 Pluggable-Analysis-Framework.ipynb\n",
      "    0 drwxr-xr-x  31 paddy  staff   992B Mar  5 10:37 \u001b[34m.ipynb_checkpoints\u001b[m\u001b[m\n",
      "   16 -rw-r--r--   1 paddy  staff   4.2K Mar  5 14:32 kernel-start-time.ipynb\n",
      "   16 -rw-r--r--   1 paddy  staff   6.3K Mar  5 15:03 testcases-fast.ipynb\n",
      "    8 -rw-r--r--   1 paddy  staff   2.6K Mar  5 15:05 DFViewer.ipynb\n",
      "   40 -rw-r--r--   1 paddy  staff    18K Mar  5 15:05 Extending.ipynb\n",
      "   16 -rw-r--r--   1 paddy  staff   7.8K Mar  5 15:05 Full-tour.ipynb\n",
      "  120 -rw-r--r--   1 paddy  staff    58K Mar  5 15:05 styling-gallery.ipynb\n",
      "    0 drwxr-xr-x  57 paddy  staff   1.8K Mar  5 15:05 \u001b[34m..\u001b[m\u001b[m\n",
      "78288 -rw-r--r--   1 paddy  staff    38M Mar  5 16:18 Solara-Buckaroo.ipynb\n",
      "   32 -rw-r--r--   1 paddy  staff    14K Mar  5 16:18 Untitled.ipynb\n",
      "    0 -rw-r--r--   1 paddy  staff     0B Mar  5 16:20 2016-01.parq\n",
      "    0 drwxr-xr-x  17 paddy  staff   544B Mar  5 16:20 \u001b[34m.\u001b[m\u001b[m\n"
     ]
    }
   ],
   "source": [
    "!ls -alhstr"
   ]
  },
  {
   "cell_type": "code",
   "execution_count": 26,
   "id": "aacc6ab6-bfc3-4268-a0a2-e0ac1719d32c",
   "metadata": {
    "tags": []
   },
   "outputs": [
    {
     "data": {
      "text/html": [
       "<div><style>\n",
       ".dataframe > thead > tr,\n",
       ".dataframe > tbody > tr {\n",
       "  text-align: right;\n",
       "  white-space: pre-wrap;\n",
       "}\n",
       "</style>\n",
       "<small>shape: (509_478, 15)</small><table border=\"1\" class=\"dataframe\"><thead><tr><th>tripduration</th><th>starttime</th><th>stoptime</th><th>start station id</th><th>start station name</th><th>start station latitude</th><th>start station longitude</th><th>end station id</th><th>end station name</th><th>end station latitude</th><th>end station longitude</th><th>bikeid</th><th>usertype</th><th>birth year</th><th>gender</th></tr><tr><td>i64</td><td>datetime[μs]</td><td>datetime[μs]</td><td>i64</td><td>str</td><td>f64</td><td>f64</td><td>i64</td><td>str</td><td>f64</td><td>f64</td><td>i64</td><td>str</td><td>f64</td><td>i64</td></tr></thead><tbody><tr><td>923</td><td>2016-01-01 00:00:41</td><td>2016-01-01 00:16:04</td><td>268</td><td>&quot;Howard St &amp; Ce…</td><td>40.719105</td><td>-73.999733</td><td>3002</td><td>&quot;South End Ave …</td><td>40.711512</td><td>-74.015756</td><td>22285</td><td>&quot;Subscriber&quot;</td><td>1958.0</td><td>1</td></tr><tr><td>379</td><td>2016-01-01 00:00:45</td><td>2016-01-01 00:07:04</td><td>476</td><td>&quot;E 31 St &amp; 3 Av…</td><td>40.743943</td><td>-73.979661</td><td>498</td><td>&quot;Broadway &amp; W 3…</td><td>40.748549</td><td>-73.988084</td><td>17827</td><td>&quot;Subscriber&quot;</td><td>1969.0</td><td>1</td></tr><tr><td>589</td><td>2016-01-01 00:00:48</td><td>2016-01-01 00:10:37</td><td>489</td><td>&quot;10 Ave &amp; W 28 …</td><td>40.750664</td><td>-74.001768</td><td>284</td><td>&quot;Greenwich Ave …</td><td>40.739017</td><td>-74.002638</td><td>21997</td><td>&quot;Subscriber&quot;</td><td>1982.0</td><td>2</td></tr><tr><td>889</td><td>2016-01-01 00:01:06</td><td>2016-01-01 00:15:56</td><td>268</td><td>&quot;Howard St &amp; Ce…</td><td>40.719105</td><td>-73.999733</td><td>3002</td><td>&quot;South End Ave …</td><td>40.711512</td><td>-74.015756</td><td>22794</td><td>&quot;Subscriber&quot;</td><td>1961.0</td><td>2</td></tr><tr><td>1480</td><td>2016-01-01 00:01:12</td><td>2016-01-01 00:25:52</td><td>2006</td><td>&quot;Central Park S…</td><td>40.765909</td><td>-73.976342</td><td>2006</td><td>&quot;Central Park S…</td><td>40.765909</td><td>-73.976342</td><td>14562</td><td>&quot;Subscriber&quot;</td><td>1952.0</td><td>1</td></tr><tr><td>&hellip;</td><td>&hellip;</td><td>&hellip;</td><td>&hellip;</td><td>&hellip;</td><td>&hellip;</td><td>&hellip;</td><td>&hellip;</td><td>&hellip;</td><td>&hellip;</td><td>&hellip;</td><td>&hellip;</td><td>&hellip;</td><td>&hellip;</td><td>&hellip;</td></tr><tr><td>1275</td><td>2016-01-31 23:58:20</td><td>2016-02-01 00:19:36</td><td>3135</td><td>&quot;E 75 St &amp; 3 Av…</td><td>40.771129</td><td>-73.957723</td><td>168</td><td>&quot;W 18 St &amp; 6 Av…</td><td>40.739713</td><td>-73.994564</td><td>17640</td><td>&quot;Subscriber&quot;</td><td>1982.0</td><td>1</td></tr><tr><td>1576</td><td>2016-01-31 23:58:39</td><td>2016-02-01 00:24:55</td><td>268</td><td>&quot;Howard St &amp; Ce…</td><td>40.719105</td><td>-73.999733</td><td>3113</td><td>&quot;Greenpoint Ave…</td><td>40.73026</td><td>-73.95394</td><td>23324</td><td>&quot;Subscriber&quot;</td><td>1978.0</td><td>1</td></tr><tr><td>356</td><td>2016-01-31 23:58:54</td><td>2016-02-01 00:04:51</td><td>441</td><td>&quot;E 52 St &amp; 2 Av…</td><td>40.756014</td><td>-73.967416</td><td>501</td><td>&quot;FDR Drive &amp; E …</td><td>40.744219</td><td>-73.971212</td><td>24203</td><td>&quot;Subscriber&quot;</td><td>1990.0</td><td>1</td></tr><tr><td>1128</td><td>2016-01-31 23:59:13</td><td>2016-02-01 00:18:02</td><td>475</td><td>&quot;E 16 St &amp; Irvi…</td><td>40.735243</td><td>-73.987586</td><td>264</td><td>&quot;Maiden Ln &amp; Pe…</td><td>40.707065</td><td>-74.007319</td><td>24272</td><td>&quot;Subscriber&quot;</td><td>1990.0</td><td>1</td></tr><tr><td>851</td><td>2016-01-31 23:59:26</td><td>2016-02-01 00:13:38</td><td>377</td><td>&quot;6 Ave &amp; Canal …</td><td>40.722438</td><td>-74.005664</td><td>509</td><td>&quot;9 Ave &amp; W 22 S…</td><td>40.745497</td><td>-74.001971</td><td>22211</td><td>&quot;Subscriber&quot;</td><td>1988.0</td><td>1</td></tr></tbody></table></div>"
      ],
      "text/plain": [
       "shape: (509_478, 15)\n",
       "┌─────────────┬─────────────┬─────────────┬────────────┬───┬────────┬────────────┬────────┬────────┐\n",
       "│ tripduratio ┆ starttime   ┆ stoptime    ┆ start      ┆ … ┆ bikeid ┆ usertype   ┆ birth  ┆ gender │\n",
       "│ n           ┆ ---         ┆ ---         ┆ station id ┆   ┆ ---    ┆ ---        ┆ year   ┆ ---    │\n",
       "│ ---         ┆ datetime[μs ┆ datetime[μs ┆ ---        ┆   ┆ i64    ┆ str        ┆ ---    ┆ i64    │\n",
       "│ i64         ┆ ]           ┆ ]           ┆ i64        ┆   ┆        ┆            ┆ f64    ┆        │\n",
       "╞═════════════╪═════════════╪═════════════╪════════════╪═══╪════════╪════════════╪════════╪════════╡\n",
       "│ 923         ┆ 2016-01-01  ┆ 2016-01-01  ┆ 268        ┆ … ┆ 22285  ┆ Subscriber ┆ 1958.0 ┆ 1      │\n",
       "│             ┆ 00:00:41    ┆ 00:16:04    ┆            ┆   ┆        ┆            ┆        ┆        │\n",
       "│ 379         ┆ 2016-01-01  ┆ 2016-01-01  ┆ 476        ┆ … ┆ 17827  ┆ Subscriber ┆ 1969.0 ┆ 1      │\n",
       "│             ┆ 00:00:45    ┆ 00:07:04    ┆            ┆   ┆        ┆            ┆        ┆        │\n",
       "│ 589         ┆ 2016-01-01  ┆ 2016-01-01  ┆ 489        ┆ … ┆ 21997  ┆ Subscriber ┆ 1982.0 ┆ 2      │\n",
       "│             ┆ 00:00:48    ┆ 00:10:37    ┆            ┆   ┆        ┆            ┆        ┆        │\n",
       "│ 889         ┆ 2016-01-01  ┆ 2016-01-01  ┆ 268        ┆ … ┆ 22794  ┆ Subscriber ┆ 1961.0 ┆ 2      │\n",
       "│             ┆ 00:01:06    ┆ 00:15:56    ┆            ┆   ┆        ┆            ┆        ┆        │\n",
       "│ 1480        ┆ 2016-01-01  ┆ 2016-01-01  ┆ 2006       ┆ … ┆ 14562  ┆ Subscriber ┆ 1952.0 ┆ 1      │\n",
       "│             ┆ 00:01:12    ┆ 00:25:52    ┆            ┆   ┆        ┆            ┆        ┆        │\n",
       "│ …           ┆ …           ┆ …           ┆ …          ┆ … ┆ …      ┆ …          ┆ …      ┆ …      │\n",
       "│ 1275        ┆ 2016-01-31  ┆ 2016-02-01  ┆ 3135       ┆ … ┆ 17640  ┆ Subscriber ┆ 1982.0 ┆ 1      │\n",
       "│             ┆ 23:58:20    ┆ 00:19:36    ┆            ┆   ┆        ┆            ┆        ┆        │\n",
       "│ 1576        ┆ 2016-01-31  ┆ 2016-02-01  ┆ 268        ┆ … ┆ 23324  ┆ Subscriber ┆ 1978.0 ┆ 1      │\n",
       "│             ┆ 23:58:39    ┆ 00:24:55    ┆            ┆   ┆        ┆            ┆        ┆        │\n",
       "│ 356         ┆ 2016-01-31  ┆ 2016-02-01  ┆ 441        ┆ … ┆ 24203  ┆ Subscriber ┆ 1990.0 ┆ 1      │\n",
       "│             ┆ 23:58:54    ┆ 00:04:51    ┆            ┆   ┆        ┆            ┆        ┆        │\n",
       "│ 1128        ┆ 2016-01-31  ┆ 2016-02-01  ┆ 475        ┆ … ┆ 24272  ┆ Subscriber ┆ 1990.0 ┆ 1      │\n",
       "│             ┆ 23:59:13    ┆ 00:18:02    ┆            ┆   ┆        ┆            ┆        ┆        │\n",
       "│ 851         ┆ 2016-01-31  ┆ 2016-02-01  ┆ 377        ┆ … ┆ 22211  ┆ Subscriber ┆ 1988.0 ┆ 1      │\n",
       "│             ┆ 23:59:26    ┆ 00:13:38    ┆            ┆   ┆        ┆            ┆        ┆        │\n",
       "└─────────────┴─────────────┴─────────────┴────────────┴───┴────────┴────────────┴────────┴────────┘"
      ]
     },
     "execution_count": 26,
     "metadata": {},
     "output_type": "execute_result"
    }
   ],
   "source": [
    "jan_df = pl.read_csv('/Users/paddy/Downloads/2016-citibike-tripdata/1_January/201601-citibike-tripdata_1.csv',\n",
    "                       infer_schema_length=10000, ignore_errors=True).with_columns(*parse_exprs)\n",
    "jan_df.sample(250_000).write_parquet(\"/Users/paddy/code/buckaroo_data/cb_data/2016-01.parq\")\n",
    "jan_df"
   ]
  },
  {
   "cell_type": "code",
   "execution_count": 21,
   "id": "308126fa-6b4b-4072-8d44-333d31732260",
   "metadata": {
    "tags": []
   },
   "outputs": [],
   "source": [
    "feb_df = pl.read_csv('/Users/paddy/Downloads/2016-citibike-tripdata/2_February/201602-citibike-tripdata_1.csv',\n",
    "                       infer_schema_length=10000, ignore_errors=True).with_columns(*parse_exprs)\n",
    "feb_df.sample(250_000).write_parquet(\"/Users/paddy/code/buckaroo_data/cb_data/2016-02.parq\")"
   ]
  },
  {
   "cell_type": "code",
   "execution_count": 17,
   "id": "bc9b6c58-13a0-4f7a-9e1c-23665c2fd0b1",
   "metadata": {
    "tags": []
   },
   "outputs": [],
   "source": [
    "march_df = pl.read_csv('/Users/paddy/Downloads/2016-citibike-tripdata/3_March/201603-citibike-tripdata_1.csv',\n",
    "                       infer_schema_length=10000, ignore_errors=True).with_columns(*parse_exprs)\n",
    "march_df.sample(250_000).write_parquet(\"/Users/paddy/code/buckaroo_data/cb_data/2016-03.parq\")"
   ]
  },
  {
   "cell_type": "code",
   "execution_count": 23,
   "id": "946163f5-9fcb-4df5-8fa4-751d49531b6a",
   "metadata": {
    "tags": []
   },
   "outputs": [],
   "source": [
    "apr_df = pl.read_csv('/Users/paddy/Downloads/2016-citibike-tripdata/4_April/201604-citibike-tripdata_1.csv',\n",
    "                       infer_schema_length=10000, ignore_errors=True).with_columns(*parse_exprs)\n",
    "apr_df.sample(250_000).write_parquet(\"/Users/paddy/code/buckaroo_data/cb_data/2016-04.parq\")"
   ]
  },
  {
   "cell_type": "code",
   "execution_count": 24,
   "id": "dd8ef169-e76c-4d2a-950d-b3b7de690965",
   "metadata": {
    "tags": []
   },
   "outputs": [],
   "source": [
    "cb_data_dir = \"/Users/paddy/code/buckaroo_data/cb_data/\""
   ]
  },
  {
   "cell_type": "code",
   "execution_count": 25,
   "id": "75d9980a-a608-47c2-bdc8-87657725df3e",
   "metadata": {
    "tags": []
   },
   "outputs": [
    {
     "name": "stdout",
     "output_type": "stream",
     "text": [
      "total 103856\n",
      "    0 drwxr-xr-x  4 paddy  staff   128B Feb 29 06:43 \u001b[34m..\u001b[m\u001b[m\n",
      "33960 -rw-r--r--  1 paddy  staff    17M Feb 29 06:58 2016-04.csv\n",
      "18504 -rw-r--r--  1 paddy  staff   8.1M Mar  5 16:10 2016-03.parq\n",
      "16416 -rw-r--r--  1 paddy  staff   8.0M Mar  5 16:11 2016-01.parq\n",
      "    0 drwxr-xr-x  7 paddy  staff   224B Mar  5 16:11 \u001b[34m.\u001b[m\u001b[m\n",
      "16464 -rw-r--r--  1 paddy  staff   8.0M Mar  5 16:11 2016-02.parq\n",
      "18512 -rw-r--r--  1 paddy  staff   8.1M Mar  5 16:12 2016-04.parq\n"
     ]
    }
   ],
   "source": [
    "!ls -alhstr /Users/paddy/code/buckaroo_data/cb_data/"
   ]
  },
  {
   "cell_type": "code",
   "execution_count": 13,
   "id": "5fd5d5d4-8e3a-400a-bea5-fde4970dfb64",
   "metadata": {
    "tags": []
   },
   "outputs": [],
   "source": []
  },
  {
   "cell_type": "code",
   "execution_count": null,
   "id": "c103ae7c-d105-4424-8c31-c57dd10cc1f3",
   "metadata": {},
   "outputs": [],
   "source": []
  },
  {
   "cell_type": "code",
   "execution_count": 24,
   "id": "cb448f33-f6b4-48dc-9dbc-9d496a4fa1d1",
   "metadata": {
    "tags": []
   },
   "outputs": [
    {
     "name": "stdout",
     "output_type": "stream",
     "text": [
      "5622952832 5037573689 585379143\n"
     ]
    }
   ],
   "source": [
    "dfsz = df.estimated_size()\n",
    "df2sz = df2.estimated_size()\n",
    "print(dfsz, df2sz, dfsz - df2sz)"
   ]
  },
  {
   "cell_type": "code",
   "execution_count": null,
   "id": "a2d1973f-6b48-4e4c-b372-51ec3e3fa124",
   "metadata": {},
   "outputs": [],
   "source": [
    "585 379 143"
   ]
  }
 ],
 "metadata": {
  "kernelspec": {
   "display_name": "Python 3 (ipykernel)",
   "language": "python",
   "name": "python3"
  },
  "language_info": {
   "codemirror_mode": {
    "name": "ipython",
    "version": 3
   },
   "file_extension": ".py",
   "mimetype": "text/x-python",
   "name": "python",
   "nbconvert_exporter": "python",
   "pygments_lexer": "ipython3",
   "version": "3.11.7"
  },
  "widgets": {
   "application/vnd.jupyter.widget-state+json": {
    "state": {},
    "version_major": 2,
    "version_minor": 0
   }
  }
 },
 "nbformat": 4,
 "nbformat_minor": 5
}
